{
  "nbformat": 4,
  "nbformat_minor": 5,
  "metadata": {
    "kernelspec": {
      "display_name": "Python 3",
      "language": "python",
      "name": "python3"
    },
    "language_info": {
      "codemirror_mode": {
        "name": "ipython",
        "version": 3
      },
      "file_extension": ".py",
      "mimetype": "text/x-python",
      "name": "python",
      "nbconvert_exporter": "python",
      "pygments_lexer": "ipython3",
      "version": "3.8.5"
    },
    "colab": {
      "name": "AQI_XgboostRegressor.ipynb",
      "provenance": [],
      "collapsed_sections": []
    },
    "accelerator": "GPU"
  },
  "cells": [
    {
      "cell_type": "markdown",
      "metadata": {
        "id": "HAZdNvbOtPG3"
      },
      "source": [
        "**AQI Prediction Using Xgboost Regressor**"
      ],
      "id": "HAZdNvbOtPG3"
    },
    {
      "cell_type": "code",
      "metadata": {
        "id": "o-Fo_upCtgTI",
        "colab": {
          "base_uri": "https://localhost:8080/"
        },
        "outputId": "ea51f3bd-eff4-412e-d55a-b5879e900682"
      },
      "source": [
        "from google.colab import drive\n",
        "drive.mount('/content/drive/')"
      ],
      "id": "o-Fo_upCtgTI",
      "execution_count": null,
      "outputs": [
        {
          "output_type": "stream",
          "text": [
            "Mounted at /content/drive/\n"
          ],
          "name": "stdout"
        }
      ]
    },
    {
      "cell_type": "code",
      "metadata": {
        "id": "adult-belfast"
      },
      "source": [
        "#Import Libraries\n",
        "import pandas as pd\n",
        "import numpy as np\n",
        "import matplotlib.pyplot as plt\n",
        "import seaborn as sns\n",
        "import pickle"
      ],
      "id": "adult-belfast",
      "execution_count": null,
      "outputs": []
    },
    {
      "cell_type": "code",
      "metadata": {
        "id": "herbal-blair"
      },
      "source": [
        "with open('/content/drive/MyDrive/Google_colab_project/df.pkl','rb') as file:\n",
        "    df= pickle.load(file)"
      ],
      "id": "herbal-blair",
      "execution_count": null,
      "outputs": []
    },
    {
      "cell_type": "code",
      "metadata": {
        "id": "ordered-glance"
      },
      "source": [
        "X=df.iloc[:,:-1]\n",
        "y=df.iloc[:,-1]"
      ],
      "id": "ordered-glance",
      "execution_count": null,
      "outputs": []
    },
    {
      "cell_type": "code",
      "metadata": {
        "id": "romantic-flashing"
      },
      "source": [
        "from sklearn.model_selection import train_test_split\n",
        "X_train, X_test, y_train, y_test = train_test_split(X, y, test_size=0.2, random_state=100)"
      ],
      "id": "romantic-flashing",
      "execution_count": null,
      "outputs": []
    },
    {
      "cell_type": "markdown",
      "metadata": {
        "id": "wySvYrBot72s"
      },
      "source": [
        "### **XGBoost Regressor Implementation without Hyper Tuning**"
      ],
      "id": "wySvYrBot72s"
    },
    {
      "cell_type": "code",
      "metadata": {
        "colab": {
          "base_uri": "https://localhost:8080/"
        },
        "id": "fatty-illinois",
        "outputId": "c88b32f1-2a50-489c-bea9-c79edc23e559"
      },
      "source": [
        "import xgboost as xgb\n",
        "xgb_regressor=xgb.XGBRegressor()\n",
        "xgb_regressor.fit(X_train,y_train)"
      ],
      "id": "fatty-illinois",
      "execution_count": null,
      "outputs": [
        {
          "output_type": "stream",
          "text": [
            "[12:24:04] WARNING: /workspace/src/objective/regression_obj.cu:152: reg:linear is now deprecated in favor of reg:squarederror.\n"
          ],
          "name": "stdout"
        },
        {
          "output_type": "execute_result",
          "data": {
            "text/plain": [
              "XGBRegressor(base_score=0.5, booster='gbtree', colsample_bylevel=1,\n",
              "             colsample_bynode=1, colsample_bytree=1, gamma=0,\n",
              "             importance_type='gain', learning_rate=0.1, max_delta_step=0,\n",
              "             max_depth=3, min_child_weight=1, missing=None, n_estimators=100,\n",
              "             n_jobs=1, nthread=None, objective='reg:linear', random_state=0,\n",
              "             reg_alpha=0, reg_lambda=1, scale_pos_weight=1, seed=None,\n",
              "             silent=None, subsample=1, verbosity=1)"
            ]
          },
          "metadata": {
            "tags": []
          },
          "execution_count": 6
        }
      ]
    },
    {
      "cell_type": "code",
      "metadata": {
        "colab": {
          "base_uri": "https://localhost:8080/"
        },
        "id": "promotional-prophet",
        "outputId": "2c5e54af-7cf7-4d30-abd9-6b271f3aabaa"
      },
      "source": [
        "\n",
        "print(\"Coefficient of determination R^2 <-- on train set: {}\".format(xgb_regressor.score(X_train, y_train)))\n",
        "print(\"Coefficient of determination R^2 <-- on train set: {}\".format(xgb_regressor.score(X_test, y_test)))"
      ],
      "id": "promotional-prophet",
      "execution_count": null,
      "outputs": [
        {
          "output_type": "stream",
          "text": [
            "Coefficient of determination R^2 <-- on train set: 0.8686497704805118\n",
            "Coefficient of determination R^2 <-- on train set: 0.7273893483591731\n"
          ],
          "name": "stdout"
        }
      ]
    },
    {
      "cell_type": "markdown",
      "metadata": {
        "id": "athletic-hawaii"
      },
      "source": [
        "#### **Model Evaluation**\n",
        "\n"
      ],
      "id": "athletic-hawaii"
    },
    {
      "cell_type": "code",
      "metadata": {
        "id": "insured-virtue"
      },
      "source": [
        "xgb_prediction=xgb_regressor.predict(X_test)"
      ],
      "id": "insured-virtue",
      "execution_count": null,
      "outputs": []
    },
    {
      "cell_type": "code",
      "metadata": {
        "colab": {
          "base_uri": "https://localhost:8080/"
        },
        "id": "complicated-position",
        "outputId": "7b35c581-b932-4db0-e2a7-313b5bc01b3e"
      },
      "source": [
        "from sklearn import metrics\n",
        "print('MAE:', metrics.mean_absolute_error(y_test, xgb_prediction))\n",
        "print('MSE:', metrics.mean_squared_error(y_test, xgb_prediction))\n",
        "print('RMSE:', np.sqrt(metrics.mean_squared_error(y_test, xgb_prediction)))"
      ],
      "id": "complicated-position",
      "execution_count": null,
      "outputs": [
        {
          "output_type": "stream",
          "text": [
            "MAE: 32.64319192953124\n",
            "MSE: 2047.4328991937127\n",
            "RMSE: 45.24856792423063\n"
          ],
          "name": "stdout"
        }
      ]
    },
    {
      "cell_type": "markdown",
      "metadata": {
        "id": "cdvM8RBsuHDD"
      },
      "source": [
        "XGBoost Regressor model has  RMSE(Root Mean Square Error) is around 45 without any hyperparameter tuning. So, Next, we will do hyperparameter tuning to getting a lower RMSE value."
      ],
      "id": "cdvM8RBsuHDD"
    },
    {
      "cell_type": "markdown",
      "metadata": {
        "id": "comparable-puzzle"
      },
      "source": [
        "### **XGBoost Regressor Implementation with Hyperparameter Tuning- Randomized SerchCV**\n"
      ],
      "id": "comparable-puzzle"
    },
    {
      "cell_type": "markdown",
      "metadata": {
        "id": "VJT4pvgjyqG1"
      },
      "source": [
        "#### Randomized SerchCV-1"
      ],
      "id": "VJT4pvgjyqG1"
    },
    {
      "cell_type": "code",
      "metadata": {
        "id": "BGHj4M0Cv25A"
      },
      "source": [
        "xgb_regressor_rcv1=xgb.XGBRegressor()"
      ],
      "id": "BGHj4M0Cv25A",
      "execution_count": null,
      "outputs": []
    },
    {
      "cell_type": "code",
      "metadata": {
        "id": "dominican-trouble"
      },
      "source": [
        "#Randomized Search CV\n",
        "\n",
        "from sklearn.model_selection import RandomizedSearchCV\n",
        "# Number of trees in random forest\n",
        "n_estimators = [int(x) for x in np.linspace(start = 100, stop = 1200, num = 12)]\n",
        "# Various learning rate parameters\n",
        "learning_rate = ['0.05','0.1', '0.2','0.3','0.5','0.6']\n",
        "# Maximum number of levels in tree\n",
        "max_depth = [int(x) for x in np.linspace(5, 30, num = 6)]\n",
        "# max_depth.append(None)\n",
        "#Subssample parameter values\n",
        "subsample=[0.7,0.6,0.8]\n",
        "# Minimum child weight parameters\n",
        "min_child_weight=[3,4,5,6,7]"
      ],
      "id": "dominican-trouble",
      "execution_count": null,
      "outputs": []
    },
    {
      "cell_type": "code",
      "metadata": {
        "colab": {
          "base_uri": "https://localhost:8080/"
        },
        "id": "threatened-offset",
        "outputId": "1ff0d29b-f6c2-4c81-9aa7-8b2cec643041"
      },
      "source": [
        "\n",
        "# Create the random grid\n",
        "random_grid_1 = {'n_estimators': n_estimators,\n",
        "               'learning_rate': learning_rate,\n",
        "               'max_depth': max_depth,\n",
        "               'subsample': subsample,\n",
        "               'min_child_weight': min_child_weight}\n",
        "\n",
        "print(random_grid_1)"
      ],
      "id": "threatened-offset",
      "execution_count": null,
      "outputs": [
        {
          "output_type": "stream",
          "text": [
            "{'n_estimators': [100, 200, 300, 400, 500, 600, 700, 800, 900, 1000, 1100, 1200], 'learning_rate': ['0.05', '0.1', '0.2', '0.3', '0.5', '0.6'], 'max_depth': [5, 10, 15, 20, 25, 30], 'subsample': [0.7, 0.6, 0.8], 'min_child_weight': [3, 4, 5, 6, 7]}\n"
          ],
          "name": "stdout"
        }
      ]
    },
    {
      "cell_type": "code",
      "metadata": {
        "id": "stretch-favor"
      },
      "source": [
        "# Random search of parameters, using 5 fold cross validation, \n",
        "# search across 100 different combinations\n",
        "\n",
        "xgb_rcv1 = RandomizedSearchCV(estimator = xgb_regressor_rcv1, param_distributions = random_grid_1,\n",
        "                               scoring='neg_mean_squared_error', n_iter = 100, cv = 5, verbose=2, \n",
        "                               random_state=42, n_jobs = 1)\n"
      ],
      "id": "stretch-favor",
      "execution_count": null,
      "outputs": []
    },
    {
      "cell_type": "code",
      "metadata": {
        "id": "wLdyWk1Ru_rE"
      },
      "source": [
        "xgb_rcv1.fit(X_train,y_train)"
      ],
      "id": "wLdyWk1Ru_rE",
      "execution_count": null,
      "outputs": []
    },
    {
      "cell_type": "code",
      "metadata": {
        "colab": {
          "base_uri": "https://localhost:8080/"
        },
        "id": "young-mongolia",
        "outputId": "bb3c33bb-48f2-406f-9695-bd5eab13cf41"
      },
      "source": [
        "xgb_rcv1_prediction=xgb_rcv1.predict(X_test)\n",
        "print(xgb_rcv1.best_params_)\n",
        "print(xgb_rcv1.best_score_)\n",
        "print('MAE:', metrics.mean_absolute_error(y_test,xgb_rcv1_prediction))\n",
        "print('MSE:', metrics.mean_squared_error(y_test, xgb_rcv1_prediction))\n",
        "print('RMSE:', np.sqrt(metrics.mean_squared_error(y_test, xgb_rcv1_prediction)))"
      ],
      "id": "young-mongolia",
      "execution_count": null,
      "outputs": [
        {
          "output_type": "stream",
          "text": [
            "{'subsample': 0.6, 'n_estimators': 600, 'min_child_weight': 7, 'max_depth': 15, 'learning_rate': '0.1'}\n",
            "-1197.5530091766896\n",
            "MAE: 18.987951824164284\n",
            "MSE: 1216.0797739353566\n",
            "RMSE: 34.87233536681128\n"
          ],
          "name": "stdout"
        }
      ]
    },
    {
      "cell_type": "markdown",
      "metadata": {
        "id": "u4X6CK1uwXwU"
      },
      "source": [
        "#### Randomized SerchCV-2"
      ],
      "id": "u4X6CK1uwXwU"
    },
    {
      "cell_type": "code",
      "metadata": {
        "id": "U0aOccyzv86v"
      },
      "source": [
        "xgb_regressor_rcv2=xgb.XGBRegressor()"
      ],
      "id": "U0aOccyzv86v",
      "execution_count": null,
      "outputs": []
    },
    {
      "cell_type": "code",
      "metadata": {
        "id": "continued-investing"
      },
      "source": [
        "#Randomized Search CV\n",
        "\n",
        "from sklearn.model_selection import RandomizedSearchCV\n",
        "# Number of trees in random forest\n",
        "n_estimators = [int(x) for x in np.linspace(start = 400, stop = 800, num = 10)]\n",
        "# Various learning rate parameters\n",
        "learning_rate = ['0.08', '0.1','0.12','0.14','0.16']\n",
        "# Maximum number of levels in tree\n",
        "max_depth = [int(x) for x in np.linspace(5, 20, num = 5)]\n",
        "# max_depth.append(None)\n",
        "#Subssample parameter values\n",
        "subsample=[0.7,0.6,0.8]\n",
        "# Minimum child weight parameters\n",
        "min_child_weight=[6,7,8,9]"
      ],
      "id": "continued-investing",
      "execution_count": null,
      "outputs": []
    },
    {
      "cell_type": "code",
      "metadata": {
        "colab": {
          "base_uri": "https://localhost:8080/"
        },
        "id": "biblical-leather",
        "outputId": "93c0dc1c-3c07-4b16-bc1d-75c054b2485d"
      },
      "source": [
        "\n",
        "# Create the random grid\n",
        "random_grid2= {'n_estimators': n_estimators,\n",
        "               'learning_rate': learning_rate,\n",
        "               'max_depth': max_depth,\n",
        "               'subsample': subsample,\n",
        "               'min_child_weight': min_child_weight}\n",
        "\n",
        "print(random_grid2)"
      ],
      "id": "biblical-leather",
      "execution_count": null,
      "outputs": [
        {
          "output_type": "stream",
          "text": [
            "{'n_estimators': [400, 444, 488, 533, 577, 622, 666, 711, 755, 800], 'learning_rate': ['0.08', '0.1', '0.12', '0.14', '0.16'], 'max_depth': [5, 8, 12, 16, 20], 'subsample': [0.7, 0.6, 0.8], 'min_child_weight': [6, 7, 8, 9]}\n"
          ],
          "name": "stdout"
        }
      ]
    },
    {
      "cell_type": "code",
      "metadata": {
        "id": "hundred-adams"
      },
      "source": [
        "# Random search of parameters, using 5 fold cross validation, \n",
        "# search across 100 different combinations\n",
        "\n",
        "\n",
        "xgb_rcv2 = RandomizedSearchCV(estimator = xgb_regressor_rcv2, param_distributions = random_grid2,\n",
        "                               scoring='neg_mean_squared_error', n_iter = 100, cv = 5, verbose=2, \n",
        "                               random_state=100, n_jobs = 1)\n"
      ],
      "id": "hundred-adams",
      "execution_count": null,
      "outputs": []
    },
    {
      "cell_type": "code",
      "metadata": {
        "id": "G_TgEcv6n_0v"
      },
      "source": [
        "xgb_rcv2.fit(X_train,y_train)"
      ],
      "id": "G_TgEcv6n_0v",
      "execution_count": null,
      "outputs": []
    },
    {
      "cell_type": "code",
      "metadata": {
        "id": "ultimate-asian"
      },
      "source": [
        "\n",
        "xgb_rcv2_prediction=xgb_rcv2.predict(X_test)\n",
        "print('MAE:', metrics.mean_absolute_error(y_test, xgb_rcv2_prediction))\n",
        "print('MSE:', metrics.mean_squared_error(y_test, xgb_rcv2_prediction))\n",
        "print('RMSE:', np.sqrt(metrics.mean_squared_error(y_test, xgb_rcv2_prediction)))"
      ],
      "id": "ultimate-asian",
      "execution_count": null,
      "outputs": []
    },
    {
      "cell_type": "code",
      "metadata": {
        "id": "collectible-palmer"
      },
      "source": [
        "print(xgb_rcv2.best_params_)\n",
        "print(xgb_rcv2.best_score_)"
      ],
      "id": "collectible-palmer",
      "execution_count": null,
      "outputs": []
    },
    {
      "cell_type": "markdown",
      "metadata": {
        "id": "FcI8ta419jwW"
      },
      "source": [
        "### **XGBoost Regressor Implementation with Hyperparameter Tuning-GridSerchCV**"
      ],
      "id": "FcI8ta419jwW"
    },
    {
      "cell_type": "markdown",
      "metadata": {
        "id": "w9JUU9SAy5Sq"
      },
      "source": [
        "#### GridSerchCV-1\n"
      ],
      "id": "w9JUU9SAy5Sq"
    },
    {
      "cell_type": "code",
      "metadata": {
        "id": "i7UIdcnExobw"
      },
      "source": [
        "xgb_regressor_gcv1=xgb.XGBRegressor()"
      ],
      "id": "i7UIdcnExobw",
      "execution_count": null,
      "outputs": []
    },
    {
      "cell_type": "code",
      "metadata": {
        "id": "guided-chile"
      },
      "source": [
        "## Hyperparameter optimization using GridSearchCV\n",
        "from sklearn.model_selection import GridSearchCV\n",
        "## Hyper Parameter Optimization\n",
        "\n",
        "params_grid_1={\n",
        "  \"loss\": [\"ls\",\"lad\",\"huber\"],\n",
        "  \"n_estimators\":[int(x) for x in np.linspace(start = 400, stop = 800, num = 12)],\n",
        " 'learning_rate': ['0.08', '0.1','0.12','0.14'],\n",
        "  'max_depth':[int(x) for x in np.linspace(12, 24, num = 5)],\n",
        "  'subsample':[0.7,0.6,0.8],\n",
        "  'min_child_weight':[6,7,8]   \n",
        "}"
      ],
      "id": "guided-chile",
      "execution_count": null,
      "outputs": []
    },
    {
      "cell_type": "code",
      "metadata": {
        "colab": {
          "base_uri": "https://localhost:8080/"
        },
        "id": "competent-cycling",
        "outputId": "02f70b28-50fb-49e8-ab76-03c146396f99"
      },
      "source": [
        "\n",
        "xgb_gcv1=GridSearchCV( xgb_regressor_gcv1,param_grid=params_grid_1,scoring='neg_mean_squared_error',n_jobs=-1,cv=10,verbose=10)\n",
        "xgb_gcv1.fit(X_train,y_train)"
      ],
      "id": "competent-cycling",
      "execution_count": null,
      "outputs": [
        {
          "output_type": "stream",
          "text": [
            "Fitting 10 folds for each of 6480 candidates, totalling 64800 fits\n"
          ],
          "name": "stdout"
        },
        {
          "output_type": "stream",
          "text": [
            "[Parallel(n_jobs=-1)]: Using backend LokyBackend with 2 concurrent workers.\n",
            "[Parallel(n_jobs=-1)]: Done   1 tasks      | elapsed:    2.1s\n",
            "[Parallel(n_jobs=-1)]: Done   4 tasks      | elapsed:    3.3s\n",
            "[Parallel(n_jobs=-1)]: Done   9 tasks      | elapsed:    6.1s\n",
            "[Parallel(n_jobs=-1)]: Done  14 tasks      | elapsed:    8.1s\n",
            "[Parallel(n_jobs=-1)]: Done  21 tasks      | elapsed:   11.9s\n",
            "[Parallel(n_jobs=-1)]: Done  28 tasks      | elapsed:   15.0s\n",
            "[Parallel(n_jobs=-1)]: Done  37 tasks      | elapsed:   20.3s\n",
            "[Parallel(n_jobs=-1)]: Done  46 tasks      | elapsed:   24.5s\n",
            "[Parallel(n_jobs=-1)]: Done  57 tasks      | elapsed:   30.9s\n",
            "[Parallel(n_jobs=-1)]: Done  68 tasks      | elapsed:   36.7s\n",
            "[Parallel(n_jobs=-1)]: Done  81 tasks      | elapsed:   44.5s\n",
            "[Parallel(n_jobs=-1)]: Done  94 tasks      | elapsed:   51.9s\n",
            "[Parallel(n_jobs=-1)]: Done 109 tasks      | elapsed:  1.0min\n",
            "[Parallel(n_jobs=-1)]: Done 124 tasks      | elapsed:  1.2min\n",
            "[Parallel(n_jobs=-1)]: Done 141 tasks      | elapsed:  1.4min\n",
            "[Parallel(n_jobs=-1)]: Done 158 tasks      | elapsed:  1.6min\n",
            "[Parallel(n_jobs=-1)]: Done 177 tasks      | elapsed:  1.8min\n",
            "[Parallel(n_jobs=-1)]: Done 196 tasks      | elapsed:  2.0min\n",
            "[Parallel(n_jobs=-1)]: Done 217 tasks      | elapsed:  2.3min\n",
            "[Parallel(n_jobs=-1)]: Done 238 tasks      | elapsed:  2.6min\n",
            "[Parallel(n_jobs=-1)]: Done 261 tasks      | elapsed:  2.9min\n",
            "[Parallel(n_jobs=-1)]: Done 284 tasks      | elapsed:  3.2min\n",
            "[Parallel(n_jobs=-1)]: Done 309 tasks      | elapsed:  3.6min\n",
            "[Parallel(n_jobs=-1)]: Done 334 tasks      | elapsed:  4.0min\n",
            "[Parallel(n_jobs=-1)]: Done 361 tasks      | elapsed:  4.4min\n",
            "[Parallel(n_jobs=-1)]: Done 388 tasks      | elapsed:  4.6min\n",
            "[Parallel(n_jobs=-1)]: Done 417 tasks      | elapsed:  4.9min\n",
            "[Parallel(n_jobs=-1)]: Done 446 tasks      | elapsed:  5.1min\n",
            "[Parallel(n_jobs=-1)]: Done 477 tasks      | elapsed:  5.5min\n",
            "[Parallel(n_jobs=-1)]: Done 508 tasks      | elapsed:  5.8min\n",
            "[Parallel(n_jobs=-1)]: Done 541 tasks      | elapsed:  6.2min\n",
            "[Parallel(n_jobs=-1)]: Done 574 tasks      | elapsed:  6.6min\n",
            "[Parallel(n_jobs=-1)]: Done 609 tasks      | elapsed:  7.0min\n",
            "[Parallel(n_jobs=-1)]: Done 644 tasks      | elapsed:  7.5min\n",
            "[Parallel(n_jobs=-1)]: Done 681 tasks      | elapsed:  8.1min\n",
            "[Parallel(n_jobs=-1)]: Done 718 tasks      | elapsed:  8.6min\n",
            "[Parallel(n_jobs=-1)]: Done 757 tasks      | elapsed:  9.0min\n",
            "[Parallel(n_jobs=-1)]: Done 796 tasks      | elapsed:  9.3min\n",
            "[Parallel(n_jobs=-1)]: Done 837 tasks      | elapsed:  9.7min\n",
            "[Parallel(n_jobs=-1)]: Done 878 tasks      | elapsed: 10.1min\n",
            "[Parallel(n_jobs=-1)]: Done 921 tasks      | elapsed: 10.6min\n",
            "[Parallel(n_jobs=-1)]: Done 964 tasks      | elapsed: 11.1min\n",
            "[Parallel(n_jobs=-1)]: Done 1009 tasks      | elapsed: 11.8min\n",
            "[Parallel(n_jobs=-1)]: Done 1054 tasks      | elapsed: 12.4min\n",
            "[Parallel(n_jobs=-1)]: Done 1101 tasks      | elapsed: 13.0min\n",
            "[Parallel(n_jobs=-1)]: Done 1148 tasks      | elapsed: 13.5min\n",
            "[Parallel(n_jobs=-1)]: Done 1197 tasks      | elapsed: 14.1min\n",
            "[Parallel(n_jobs=-1)]: Done 1246 tasks      | elapsed: 14.7min\n",
            "[Parallel(n_jobs=-1)]: Done 1297 tasks      | elapsed: 15.4min\n",
            "[Parallel(n_jobs=-1)]: Done 1348 tasks      | elapsed: 16.2min\n",
            "[Parallel(n_jobs=-1)]: Done 1401 tasks      | elapsed: 17.2min\n",
            "[Parallel(n_jobs=-1)]: Done 1454 tasks      | elapsed: 18.0min\n",
            "[Parallel(n_jobs=-1)]: Done 1509 tasks      | elapsed: 18.6min\n",
            "[Parallel(n_jobs=-1)]: Done 1564 tasks      | elapsed: 19.2min\n",
            "[Parallel(n_jobs=-1)]: Done 1621 tasks      | elapsed: 19.9min\n",
            "[Parallel(n_jobs=-1)]: Done 1678 tasks      | elapsed: 20.8min\n",
            "[Parallel(n_jobs=-1)]: Done 1737 tasks      | elapsed: 21.7min\n",
            "[Parallel(n_jobs=-1)]: Done 1796 tasks      | elapsed: 22.8min\n",
            "[Parallel(n_jobs=-1)]: Done 1857 tasks      | elapsed: 23.4min\n",
            "[Parallel(n_jobs=-1)]: Done 1918 tasks      | elapsed: 24.0min\n",
            "[Parallel(n_jobs=-1)]: Done 1981 tasks      | elapsed: 24.8min\n",
            "[Parallel(n_jobs=-1)]: Done 2044 tasks      | elapsed: 25.7min\n",
            "[Parallel(n_jobs=-1)]: Done 2109 tasks      | elapsed: 26.7min\n",
            "[Parallel(n_jobs=-1)]: Done 2174 tasks      | elapsed: 27.7min\n",
            "[Parallel(n_jobs=-1)]: Done 2241 tasks      | elapsed: 28.5min\n",
            "[Parallel(n_jobs=-1)]: Done 2308 tasks      | elapsed: 29.4min\n",
            "[Parallel(n_jobs=-1)]: Done 2377 tasks      | elapsed: 30.5min\n",
            "[Parallel(n_jobs=-1)]: Done 2446 tasks      | elapsed: 31.8min\n",
            "[Parallel(n_jobs=-1)]: Done 2517 tasks      | elapsed: 33.2min\n",
            "[Parallel(n_jobs=-1)]: Done 2588 tasks      | elapsed: 34.0min\n",
            "[Parallel(n_jobs=-1)]: Done 2661 tasks      | elapsed: 34.9min\n",
            "[Parallel(n_jobs=-1)]: Done 2734 tasks      | elapsed: 36.0min\n",
            "[Parallel(n_jobs=-1)]: Done 2809 tasks      | elapsed: 37.3min\n",
            "[Parallel(n_jobs=-1)]: Done 2884 tasks      | elapsed: 38.7min\n",
            "[Parallel(n_jobs=-1)]: Done 2961 tasks      | elapsed: 39.5min\n",
            "[Parallel(n_jobs=-1)]: Done 3038 tasks      | elapsed: 40.5min\n",
            "[Parallel(n_jobs=-1)]: Done 3117 tasks      | elapsed: 41.7min\n",
            "[Parallel(n_jobs=-1)]: Done 3196 tasks      | elapsed: 43.1min\n",
            "[Parallel(n_jobs=-1)]: Done 3277 tasks      | elapsed: 44.3min\n",
            "[Parallel(n_jobs=-1)]: Done 3358 tasks      | elapsed: 45.4min\n",
            "[Parallel(n_jobs=-1)]: Done 3441 tasks      | elapsed: 46.7min\n",
            "[Parallel(n_jobs=-1)]: Done 3524 tasks      | elapsed: 48.3min\n",
            "[Parallel(n_jobs=-1)]: Done 3609 tasks      | elapsed: 50.0min\n",
            "[Parallel(n_jobs=-1)]: Done 3694 tasks      | elapsed: 51.0min\n",
            "[Parallel(n_jobs=-1)]: Done 3781 tasks      | elapsed: 52.2min\n",
            "[Parallel(n_jobs=-1)]: Done 3868 tasks      | elapsed: 53.7min\n",
            "[Parallel(n_jobs=-1)]: Done 3957 tasks      | elapsed: 55.5min\n",
            "[Parallel(n_jobs=-1)]: Done 4046 tasks      | elapsed: 56.5min\n",
            "[Parallel(n_jobs=-1)]: Done 4137 tasks      | elapsed: 57.7min\n",
            "[Parallel(n_jobs=-1)]: Done 4228 tasks      | elapsed: 59.2min\n",
            "[Parallel(n_jobs=-1)]: Done 4321 tasks      | elapsed: 61.0min\n",
            "[Parallel(n_jobs=-1)]: Done 4414 tasks      | elapsed: 62.2min\n",
            "[Parallel(n_jobs=-1)]: Done 4509 tasks      | elapsed: 63.6min\n",
            "[Parallel(n_jobs=-1)]: Done 4604 tasks      | elapsed: 65.5min\n",
            "[Parallel(n_jobs=-1)]: Done 4701 tasks      | elapsed: 67.4min\n",
            "[Parallel(n_jobs=-1)]: Done 4798 tasks      | elapsed: 68.6min\n",
            "[Parallel(n_jobs=-1)]: Done 4897 tasks      | elapsed: 70.1min\n",
            "[Parallel(n_jobs=-1)]: Done 4996 tasks      | elapsed: 72.0min\n",
            "[Parallel(n_jobs=-1)]: Done 5097 tasks      | elapsed: 73.6min\n",
            "[Parallel(n_jobs=-1)]: Done 5198 tasks      | elapsed: 74.9min\n",
            "[Parallel(n_jobs=-1)]: Done 5301 tasks      | elapsed: 76.6min\n",
            "[Parallel(n_jobs=-1)]: Done 5404 tasks      | elapsed: 78.5min\n",
            "[Parallel(n_jobs=-1)]: Done 5509 tasks      | elapsed: 79.5min\n",
            "[Parallel(n_jobs=-1)]: Done 5614 tasks      | elapsed: 80.7min\n",
            "[Parallel(n_jobs=-1)]: Done 5721 tasks      | elapsed: 82.3min\n",
            "[Parallel(n_jobs=-1)]: Done 5828 tasks      | elapsed: 83.5min\n",
            "[Parallel(n_jobs=-1)]: Done 5937 tasks      | elapsed: 84.6min\n",
            "[Parallel(n_jobs=-1)]: Done 6046 tasks      | elapsed: 86.0min\n",
            "[Parallel(n_jobs=-1)]: Done 6157 tasks      | elapsed: 87.5min\n",
            "[Parallel(n_jobs=-1)]: Done 6268 tasks      | elapsed: 88.5min\n",
            "[Parallel(n_jobs=-1)]: Done 6381 tasks      | elapsed: 89.9min\n",
            "[Parallel(n_jobs=-1)]: Done 6494 tasks      | elapsed: 91.5min\n",
            "[Parallel(n_jobs=-1)]: Done 6609 tasks      | elapsed: 92.8min\n",
            "[Parallel(n_jobs=-1)]: Done 6724 tasks      | elapsed: 94.4min\n",
            "[Parallel(n_jobs=-1)]: Done 6841 tasks      | elapsed: 96.5min\n",
            "[Parallel(n_jobs=-1)]: Done 6958 tasks      | elapsed: 97.7min\n",
            "[Parallel(n_jobs=-1)]: Done 7077 tasks      | elapsed: 99.4min\n",
            "[Parallel(n_jobs=-1)]: Done 7196 tasks      | elapsed: 101.4min\n",
            "[Parallel(n_jobs=-1)]: Done 7317 tasks      | elapsed: 102.7min\n",
            "[Parallel(n_jobs=-1)]: Done 7438 tasks      | elapsed: 104.3min\n",
            "[Parallel(n_jobs=-1)]: Done 7561 tasks      | elapsed: 106.3min\n",
            "[Parallel(n_jobs=-1)]: Done 7684 tasks      | elapsed: 107.8min\n",
            "[Parallel(n_jobs=-1)]: Done 7809 tasks      | elapsed: 109.8min\n",
            "[Parallel(n_jobs=-1)]: Done 7934 tasks      | elapsed: 112.2min\n",
            "[Parallel(n_jobs=-1)]: Done 8061 tasks      | elapsed: 113.7min\n",
            "[Parallel(n_jobs=-1)]: Done 8188 tasks      | elapsed: 115.8min\n",
            "[Parallel(n_jobs=-1)]: Done 8317 tasks      | elapsed: 117.9min\n",
            "[Parallel(n_jobs=-1)]: Done 8446 tasks      | elapsed: 119.5min\n",
            "[Parallel(n_jobs=-1)]: Done 8577 tasks      | elapsed: 121.6min\n",
            "[Parallel(n_jobs=-1)]: Done 8708 tasks      | elapsed: 123.6min\n",
            "[Parallel(n_jobs=-1)]: Done 8841 tasks      | elapsed: 125.6min\n",
            "[Parallel(n_jobs=-1)]: Done 8974 tasks      | elapsed: 128.3min\n",
            "[Parallel(n_jobs=-1)]: Done 9109 tasks      | elapsed: 130.1min\n",
            "[Parallel(n_jobs=-1)]: Done 9244 tasks      | elapsed: 132.3min\n",
            "[Parallel(n_jobs=-1)]: Done 9381 tasks      | elapsed: 134.8min\n",
            "[Parallel(n_jobs=-1)]: Done 9518 tasks      | elapsed: 136.5min\n",
            "[Parallel(n_jobs=-1)]: Done 9657 tasks      | elapsed: 138.8min\n",
            "[Parallel(n_jobs=-1)]: Done 9796 tasks      | elapsed: 140.9min\n",
            "[Parallel(n_jobs=-1)]: Done 9937 tasks      | elapsed: 143.2min\n",
            "[Parallel(n_jobs=-1)]: Done 10078 tasks      | elapsed: 146.1min\n",
            "[Parallel(n_jobs=-1)]: Done 10221 tasks      | elapsed: 147.9min\n",
            "[Parallel(n_jobs=-1)]: Done 10364 tasks      | elapsed: 150.4min\n",
            "[Parallel(n_jobs=-1)]: Done 10509 tasks      | elapsed: 152.7min\n",
            "[Parallel(n_jobs=-1)]: Done 10654 tasks      | elapsed: 154.8min\n",
            "[Parallel(n_jobs=-1)]: Done 10801 tasks      | elapsed: 157.6min\n",
            "[Parallel(n_jobs=-1)]: Done 10948 tasks      | elapsed: 159.0min\n",
            "[Parallel(n_jobs=-1)]: Done 11097 tasks      | elapsed: 161.0min\n",
            "[Parallel(n_jobs=-1)]: Done 11246 tasks      | elapsed: 162.7min\n",
            "[Parallel(n_jobs=-1)]: Done 11397 tasks      | elapsed: 164.4min\n",
            "[Parallel(n_jobs=-1)]: Done 11548 tasks      | elapsed: 166.5min\n",
            "[Parallel(n_jobs=-1)]: Done 11701 tasks      | elapsed: 168.0min\n",
            "[Parallel(n_jobs=-1)]: Done 11854 tasks      | elapsed: 170.0min\n",
            "[Parallel(n_jobs=-1)]: Done 12009 tasks      | elapsed: 171.8min\n",
            "[Parallel(n_jobs=-1)]: Done 12164 tasks      | elapsed: 174.2min\n",
            "[Parallel(n_jobs=-1)]: Done 12321 tasks      | elapsed: 176.4min\n",
            "[Parallel(n_jobs=-1)]: Done 12478 tasks      | elapsed: 178.5min\n",
            "[Parallel(n_jobs=-1)]: Done 12637 tasks      | elapsed: 180.9min\n",
            "[Parallel(n_jobs=-1)]: Done 12796 tasks      | elapsed: 182.8min\n",
            "[Parallel(n_jobs=-1)]: Done 12957 tasks      | elapsed: 185.3min\n",
            "[Parallel(n_jobs=-1)]: Done 13118 tasks      | elapsed: 187.4min\n",
            "[Parallel(n_jobs=-1)]: Done 13281 tasks      | elapsed: 190.3min\n",
            "[Parallel(n_jobs=-1)]: Done 13444 tasks      | elapsed: 192.5min\n",
            "[Parallel(n_jobs=-1)]: Done 13609 tasks      | elapsed: 195.1min\n",
            "[Parallel(n_jobs=-1)]: Done 13774 tasks      | elapsed: 197.5min\n",
            "[Parallel(n_jobs=-1)]: Done 13941 tasks      | elapsed: 199.9min\n",
            "[Parallel(n_jobs=-1)]: Done 14108 tasks      | elapsed: 202.5min\n",
            "[Parallel(n_jobs=-1)]: Done 14277 tasks      | elapsed: 205.2min\n",
            "[Parallel(n_jobs=-1)]: Done 14446 tasks      | elapsed: 208.2min\n",
            "[Parallel(n_jobs=-1)]: Done 14617 tasks      | elapsed: 210.6min\n",
            "[Parallel(n_jobs=-1)]: Done 14788 tasks      | elapsed: 213.7min\n",
            "[Parallel(n_jobs=-1)]: Done 14961 tasks      | elapsed: 215.9min\n",
            "[Parallel(n_jobs=-1)]: Done 15134 tasks      | elapsed: 219.0min\n",
            "[Parallel(n_jobs=-1)]: Done 15309 tasks      | elapsed: 221.5min\n",
            "[Parallel(n_jobs=-1)]: Done 15484 tasks      | elapsed: 225.0min\n",
            "[Parallel(n_jobs=-1)]: Done 15661 tasks      | elapsed: 227.3min\n",
            "[Parallel(n_jobs=-1)]: Done 15838 tasks      | elapsed: 230.7min\n",
            "[Parallel(n_jobs=-1)]: Done 16017 tasks      | elapsed: 232.9min\n",
            "[Parallel(n_jobs=-1)]: Done 16196 tasks      | elapsed: 236.1min\n",
            "[Parallel(n_jobs=-1)]: Done 16377 tasks      | elapsed: 238.0min\n",
            "[Parallel(n_jobs=-1)]: Done 16558 tasks      | elapsed: 240.5min\n",
            "[Parallel(n_jobs=-1)]: Done 16741 tasks      | elapsed: 242.3min\n",
            "[Parallel(n_jobs=-1)]: Done 16924 tasks      | elapsed: 244.8min\n",
            "[Parallel(n_jobs=-1)]: Done 17109 tasks      | elapsed: 246.6min\n",
            "[Parallel(n_jobs=-1)]: Done 17294 tasks      | elapsed: 249.0min\n",
            "[Parallel(n_jobs=-1)]: Done 17481 tasks      | elapsed: 251.3min\n",
            "[Parallel(n_jobs=-1)]: Done 17668 tasks      | elapsed: 254.2min\n",
            "[Parallel(n_jobs=-1)]: Done 17857 tasks      | elapsed: 256.5min\n",
            "[Parallel(n_jobs=-1)]: Done 18046 tasks      | elapsed: 259.3min\n",
            "[Parallel(n_jobs=-1)]: Done 18237 tasks      | elapsed: 261.7min\n",
            "[Parallel(n_jobs=-1)]: Done 18428 tasks      | elapsed: 264.4min\n",
            "[Parallel(n_jobs=-1)]: Done 18621 tasks      | elapsed: 267.4min\n",
            "[Parallel(n_jobs=-1)]: Done 18814 tasks      | elapsed: 270.4min\n",
            "[Parallel(n_jobs=-1)]: Done 19009 tasks      | elapsed: 273.4min\n",
            "[Parallel(n_jobs=-1)]: Done 19204 tasks      | elapsed: 276.2min\n",
            "[Parallel(n_jobs=-1)]: Done 19401 tasks      | elapsed: 279.3min\n",
            "[Parallel(n_jobs=-1)]: Done 19598 tasks      | elapsed: 282.1min\n",
            "[Parallel(n_jobs=-1)]: Done 19797 tasks      | elapsed: 286.0min\n",
            "[Parallel(n_jobs=-1)]: Done 19996 tasks      | elapsed: 288.6min\n",
            "[Parallel(n_jobs=-1)]: Done 20197 tasks      | elapsed: 292.2min\n",
            "[Parallel(n_jobs=-1)]: Done 20398 tasks      | elapsed: 294.9min\n",
            "[Parallel(n_jobs=-1)]: Done 20601 tasks      | elapsed: 298.2min\n",
            "[Parallel(n_jobs=-1)]: Done 20804 tasks      | elapsed: 301.7min\n",
            "[Parallel(n_jobs=-1)]: Done 21009 tasks      | elapsed: 305.0min\n",
            "[Parallel(n_jobs=-1)]: Done 21214 tasks      | elapsed: 308.7min\n",
            "[Parallel(n_jobs=-1)]: Done 21421 tasks      | elapsed: 311.5min\n",
            "[Parallel(n_jobs=-1)]: Done 21628 tasks      | elapsed: 315.0min\n",
            "[Parallel(n_jobs=-1)]: Done 21837 tasks      | elapsed: 317.3min\n",
            "[Parallel(n_jobs=-1)]: Done 22046 tasks      | elapsed: 319.8min\n",
            "[Parallel(n_jobs=-1)]: Done 22257 tasks      | elapsed: 322.3min\n",
            "[Parallel(n_jobs=-1)]: Done 22468 tasks      | elapsed: 324.6min\n",
            "[Parallel(n_jobs=-1)]: Done 22681 tasks      | elapsed: 327.4min\n",
            "[Parallel(n_jobs=-1)]: Done 22894 tasks      | elapsed: 329.9min\n",
            "[Parallel(n_jobs=-1)]: Done 23109 tasks      | elapsed: 333.1min\n",
            "[Parallel(n_jobs=-1)]: Done 23324 tasks      | elapsed: 336.0min\n",
            "[Parallel(n_jobs=-1)]: Done 23541 tasks      | elapsed: 338.8min\n",
            "[Parallel(n_jobs=-1)]: Done 23758 tasks      | elapsed: 342.1min\n",
            "[Parallel(n_jobs=-1)]: Done 23977 tasks      | elapsed: 345.1min\n",
            "[Parallel(n_jobs=-1)]: Done 24196 tasks      | elapsed: 348.6min\n",
            "[Parallel(n_jobs=-1)]: Done 24417 tasks      | elapsed: 352.0min\n",
            "[Parallel(n_jobs=-1)]: Done 24638 tasks      | elapsed: 355.1min\n",
            "[Parallel(n_jobs=-1)]: Done 24861 tasks      | elapsed: 358.7min\n",
            "[Parallel(n_jobs=-1)]: Done 25084 tasks      | elapsed: 362.0min\n",
            "[Parallel(n_jobs=-1)]: Done 25309 tasks      | elapsed: 365.7min\n",
            "[Parallel(n_jobs=-1)]: Done 25534 tasks      | elapsed: 369.6min\n",
            "[Parallel(n_jobs=-1)]: Done 25761 tasks      | elapsed: 372.7min\n",
            "[Parallel(n_jobs=-1)]: Done 25988 tasks      | elapsed: 376.5min\n",
            "[Parallel(n_jobs=-1)]: Done 26217 tasks      | elapsed: 380.5min\n",
            "[Parallel(n_jobs=-1)]: Done 26446 tasks      | elapsed: 384.1min\n",
            "[Parallel(n_jobs=-1)]: Done 26677 tasks      | elapsed: 388.2min\n",
            "[Parallel(n_jobs=-1)]: Done 26908 tasks      | elapsed: 391.6min\n",
            "[Parallel(n_jobs=-1)]: Done 27141 tasks      | elapsed: 394.8min\n",
            "[Parallel(n_jobs=-1)]: Done 27374 tasks      | elapsed: 397.9min\n",
            "[Parallel(n_jobs=-1)]: Done 27609 tasks      | elapsed: 400.4min\n",
            "[Parallel(n_jobs=-1)]: Done 27844 tasks      | elapsed: 403.1min\n",
            "[Parallel(n_jobs=-1)]: Done 28081 tasks      | elapsed: 406.2min\n",
            "[Parallel(n_jobs=-1)]: Done 28318 tasks      | elapsed: 409.1min\n",
            "[Parallel(n_jobs=-1)]: Done 28557 tasks      | elapsed: 412.5min\n",
            "[Parallel(n_jobs=-1)]: Done 28796 tasks      | elapsed: 416.1min\n",
            "[Parallel(n_jobs=-1)]: Done 29037 tasks      | elapsed: 418.9min\n",
            "[Parallel(n_jobs=-1)]: Done 29278 tasks      | elapsed: 422.4min\n",
            "[Parallel(n_jobs=-1)]: Done 29521 tasks      | elapsed: 426.7min\n",
            "[Parallel(n_jobs=-1)]: Done 29764 tasks      | elapsed: 429.9min\n",
            "[Parallel(n_jobs=-1)]: Done 30009 tasks      | elapsed: 433.5min\n",
            "[Parallel(n_jobs=-1)]: Done 30254 tasks      | elapsed: 437.5min\n",
            "[Parallel(n_jobs=-1)]: Done 30501 tasks      | elapsed: 441.2min\n",
            "[Parallel(n_jobs=-1)]: Done 30748 tasks      | elapsed: 445.2min\n",
            "[Parallel(n_jobs=-1)]: Done 30997 tasks      | elapsed: 449.4min\n",
            "[Parallel(n_jobs=-1)]: Done 31246 tasks      | elapsed: 453.1min\n",
            "[Parallel(n_jobs=-1)]: Done 31497 tasks      | elapsed: 457.0min\n",
            "[Parallel(n_jobs=-1)]: Done 31748 tasks      | elapsed: 461.5min\n",
            "[Parallel(n_jobs=-1)]: Done 32001 tasks      | elapsed: 465.8min\n",
            "[Parallel(n_jobs=-1)]: Done 32254 tasks      | elapsed: 469.5min\n",
            "[Parallel(n_jobs=-1)]: Done 32509 tasks      | elapsed: 473.2min\n",
            "[Parallel(n_jobs=-1)]: Done 32764 tasks      | elapsed: 476.6min\n",
            "[Parallel(n_jobs=-1)]: Done 33021 tasks      | elapsed: 479.4min\n",
            "[Parallel(n_jobs=-1)]: Done 33278 tasks      | elapsed: 482.2min\n",
            "[Parallel(n_jobs=-1)]: Done 33537 tasks      | elapsed: 485.5min\n",
            "[Parallel(n_jobs=-1)]: Done 33796 tasks      | elapsed: 489.2min\n",
            "[Parallel(n_jobs=-1)]: Done 34057 tasks      | elapsed: 492.5min\n",
            "[Parallel(n_jobs=-1)]: Done 34318 tasks      | elapsed: 496.0min\n",
            "[Parallel(n_jobs=-1)]: Done 34581 tasks      | elapsed: 499.8min\n",
            "[Parallel(n_jobs=-1)]: Done 34844 tasks      | elapsed: 503.7min\n",
            "[Parallel(n_jobs=-1)]: Done 35109 tasks      | elapsed: 507.6min\n",
            "[Parallel(n_jobs=-1)]: Done 35374 tasks      | elapsed: 511.7min\n",
            "[Parallel(n_jobs=-1)]: Done 35641 tasks      | elapsed: 516.0min\n",
            "[Parallel(n_jobs=-1)]: Done 35908 tasks      | elapsed: 520.1min\n",
            "[Parallel(n_jobs=-1)]: Done 36177 tasks      | elapsed: 524.4min\n",
            "[Parallel(n_jobs=-1)]: Done 36446 tasks      | elapsed: 528.8min\n",
            "[Parallel(n_jobs=-1)]: Done 36717 tasks      | elapsed: 533.2min\n",
            "[Parallel(n_jobs=-1)]: Done 36988 tasks      | elapsed: 537.5min\n",
            "[Parallel(n_jobs=-1)]: Done 37261 tasks      | elapsed: 541.9min\n",
            "[Parallel(n_jobs=-1)]: Done 37534 tasks      | elapsed: 546.5min\n",
            "[Parallel(n_jobs=-1)]: Done 37809 tasks      | elapsed: 551.0min\n"
          ],
          "name": "stderr"
        }
      ]
    },
    {
      "cell_type": "code",
      "metadata": {
        "id": "distinguished-blackberry"
      },
      "source": [
        "from sklearn import metrics\n",
        "xgb_gcv_prediction_1=xgb_gcv1.predict(X_test)\n",
        "print('MAE:', metrics.mean_absolute_error(y_test, xgb_gcv_prediction_1))\n",
        "print('MSE:', metrics.mean_squared_error(y_test, xgb_gcv_prediction_1))\n",
        "print('RMSE:', np.sqrt(metrics.mean_squared_error(y_test, xgb_gcv_prediction_1)))"
      ],
      "id": "distinguished-blackberry",
      "execution_count": null,
      "outputs": []
    },
    {
      "cell_type": "code",
      "metadata": {
        "id": "mVfsyPKX-H1_"
      },
      "source": [
        "import pickle\n",
        "# open a file, where you ant to store the data\n",
        "file = open('xgb_gridcv1.pkl', 'wb')\n",
        "\n",
        "# dump information to that file\n",
        "pickle.dump(xgb_gcv1, file)"
      ],
      "id": "mVfsyPKX-H1_",
      "execution_count": null,
      "outputs": []
    },
    {
      "cell_type": "code",
      "metadata": {
        "id": "iTJPPVYw-mOb"
      },
      "source": [
        "import pickle\n",
        "# open a file, where you ant to store the data\n",
        "file = open('xgb_randomcv1.pkl', 'wb')\n",
        "\n",
        "# dump information to that file\n",
        "pickle.dump(xgb_rcv1, file)"
      ],
      "id": "iTJPPVYw-mOb",
      "execution_count": null,
      "outputs": []
    },
    {
      "cell_type": "code",
      "metadata": {
        "id": "FSfbZiI3-ArF"
      },
      "source": [
        "print(xgb_gcv1.best_params_)\n",
        "print(xgb_gcv1.best_score_)"
      ],
      "id": "FSfbZiI3-ArF",
      "execution_count": null,
      "outputs": []
    }
  ]
}