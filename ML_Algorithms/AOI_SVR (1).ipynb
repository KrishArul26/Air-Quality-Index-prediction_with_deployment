{
  "nbformat": 4,
  "nbformat_minor": 5,
  "metadata": {
    "kernelspec": {
      "display_name": "Python 3",
      "language": "python",
      "name": "python3"
    },
    "language_info": {
      "codemirror_mode": {
        "name": "ipython",
        "version": 3
      },
      "file_extension": ".py",
      "mimetype": "text/x-python",
      "name": "python",
      "nbconvert_exporter": "python",
      "pygments_lexer": "ipython3",
      "version": "3.8.5"
    },
    "colab": {
      "name": "AOI_SVR.ipynb",
      "provenance": [],
      "collapsed_sections": []
    },
    "accelerator": "GPU"
  },
  "cells": [
    {
      "cell_type": "markdown",
      "metadata": {
        "id": "H__HTOw9r5rx"
      },
      "source": [
        "### **AQI-SupportVector Regressor Method**"
      ],
      "id": "H__HTOw9r5rx"
    },
    {
      "cell_type": "code",
      "metadata": {
        "colab": {
          "base_uri": "https://localhost:8080/"
        },
        "id": "SPs0EVZx7ECq",
        "outputId": "1e504f49-a6b3-4c30-ba3e-76a83e1c0c17"
      },
      "source": [
        "from google.colab import drive\n",
        "drive.mount('/content/drive/')"
      ],
      "id": "SPs0EVZx7ECq",
      "execution_count": 2,
      "outputs": [
        {
          "output_type": "stream",
          "text": [
            "Mounted at /content/drive/\n"
          ],
          "name": "stdout"
        }
      ]
    },
    {
      "cell_type": "markdown",
      "metadata": {
        "id": "G3ZPSUoqfI_A"
      },
      "source": [
        "### **Import necessary libraries**"
      ],
      "id": "G3ZPSUoqfI_A"
    },
    {
      "cell_type": "code",
      "metadata": {
        "id": "auburn-arabic"
      },
      "source": [
        "import pickle\n",
        "import numpy as np\n",
        "import pandas as pd\n"
      ],
      "id": "auburn-arabic",
      "execution_count": 3,
      "outputs": []
    },
    {
      "cell_type": "markdown",
      "metadata": {
        "id": "B3p2LvUlsHzs"
      },
      "source": [
        "### **Loading cleaned data**"
      ],
      "id": "B3p2LvUlsHzs"
    },
    {
      "cell_type": "markdown",
      "metadata": {
        "id": "UUAC3Q-0faY6"
      },
      "source": [
        "Before applying linear regression, I did feature engineerings such as dealing with outliers, null values and correlation analysis. The Cleland data has been saved."
      ],
      "id": "UUAC3Q-0faY6"
    },
    {
      "cell_type": "code",
      "metadata": {
        "id": "junior-adult"
      },
      "source": [
        "with open('/content/drive/MyDrive/Google_colab_project/df.pkl','rb') as file:\n",
        "    df= pickle.load(file)"
      ],
      "id": "junior-adult",
      "execution_count": 4,
      "outputs": []
    },
    {
      "cell_type": "code",
      "metadata": {
        "id": "modular-electronics",
        "colab": {
          "base_uri": "https://localhost:8080/",
          "height": 195
        },
        "outputId": "edc6a6d9-eae9-4446-bb97-840dd1e85b10"
      },
      "source": [
        "#Read value\n",
        "df.head()"
      ],
      "id": "modular-electronics",
      "execution_count": 5,
      "outputs": [
        {
          "output_type": "execute_result",
          "data": {
            "text/html": [
              "<div>\n",
              "<style scoped>\n",
              "    .dataframe tbody tr th:only-of-type {\n",
              "        vertical-align: middle;\n",
              "    }\n",
              "\n",
              "    .dataframe tbody tr th {\n",
              "        vertical-align: top;\n",
              "    }\n",
              "\n",
              "    .dataframe thead th {\n",
              "        text-align: right;\n",
              "    }\n",
              "</style>\n",
              "<table border=\"1\" class=\"dataframe\">\n",
              "  <thead>\n",
              "    <tr style=\"text-align: right;\">\n",
              "      <th></th>\n",
              "      <th>T</th>\n",
              "      <th>TM</th>\n",
              "      <th>Tm</th>\n",
              "      <th>SLP</th>\n",
              "      <th>H</th>\n",
              "      <th>VV</th>\n",
              "      <th>V</th>\n",
              "      <th>VM</th>\n",
              "      <th>PM 2.5</th>\n",
              "    </tr>\n",
              "  </thead>\n",
              "  <tbody>\n",
              "    <tr>\n",
              "      <th>0</th>\n",
              "      <td>10.8</td>\n",
              "      <td>16.3</td>\n",
              "      <td>5.2</td>\n",
              "      <td>1017.6</td>\n",
              "      <td>93.0</td>\n",
              "      <td>0.5</td>\n",
              "      <td>4.3</td>\n",
              "      <td>9.4</td>\n",
              "      <td>219.720833</td>\n",
              "    </tr>\n",
              "    <tr>\n",
              "      <th>1</th>\n",
              "      <td>10.8</td>\n",
              "      <td>16.3</td>\n",
              "      <td>5.2</td>\n",
              "      <td>1018.5</td>\n",
              "      <td>87.0</td>\n",
              "      <td>0.6</td>\n",
              "      <td>4.4</td>\n",
              "      <td>11.1</td>\n",
              "      <td>182.187500</td>\n",
              "    </tr>\n",
              "    <tr>\n",
              "      <th>2</th>\n",
              "      <td>10.8</td>\n",
              "      <td>16.3</td>\n",
              "      <td>5.2</td>\n",
              "      <td>1019.4</td>\n",
              "      <td>82.0</td>\n",
              "      <td>0.6</td>\n",
              "      <td>4.8</td>\n",
              "      <td>11.1</td>\n",
              "      <td>154.037500</td>\n",
              "    </tr>\n",
              "    <tr>\n",
              "      <th>3</th>\n",
              "      <td>10.8</td>\n",
              "      <td>16.3</td>\n",
              "      <td>5.2</td>\n",
              "      <td>1018.7</td>\n",
              "      <td>72.0</td>\n",
              "      <td>0.8</td>\n",
              "      <td>8.1</td>\n",
              "      <td>20.6</td>\n",
              "      <td>223.208333</td>\n",
              "    </tr>\n",
              "    <tr>\n",
              "      <th>4</th>\n",
              "      <td>12.4</td>\n",
              "      <td>20.9</td>\n",
              "      <td>5.2</td>\n",
              "      <td>1017.3</td>\n",
              "      <td>61.0</td>\n",
              "      <td>1.3</td>\n",
              "      <td>8.7</td>\n",
              "      <td>22.2</td>\n",
              "      <td>200.645833</td>\n",
              "    </tr>\n",
              "  </tbody>\n",
              "</table>\n",
              "</div>"
            ],
            "text/plain": [
              "      T    TM   Tm     SLP     H   VV    V    VM      PM 2.5\n",
              "0  10.8  16.3  5.2  1017.6  93.0  0.5  4.3   9.4  219.720833\n",
              "1  10.8  16.3  5.2  1018.5  87.0  0.6  4.4  11.1  182.187500\n",
              "2  10.8  16.3  5.2  1019.4  82.0  0.6  4.8  11.1  154.037500\n",
              "3  10.8  16.3  5.2  1018.7  72.0  0.8  8.1  20.6  223.208333\n",
              "4  12.4  20.9  5.2  1017.3  61.0  1.3  8.7  22.2  200.645833"
            ]
          },
          "metadata": {
            "tags": []
          },
          "execution_count": 5
        }
      ]
    },
    {
      "cell_type": "code",
      "metadata": {
        "id": "finnish-glasgow"
      },
      "source": [
        "#Seperating dependent and independent variables \n",
        "x=df.iloc[:,:-1]\n",
        "y=df.iloc[:,-1]"
      ],
      "id": "finnish-glasgow",
      "execution_count": 6,
      "outputs": []
    },
    {
      "cell_type": "code",
      "metadata": {
        "id": "strange-aircraft"
      },
      "source": [
        "#Train-Test Split\n",
        "from sklearn.model_selection import train_test_split\n",
        "x_train,x_test,y_train,y_test=train_test_split(x,y,test_size=0.2,random_state=100)"
      ],
      "id": "strange-aircraft",
      "execution_count": 7,
      "outputs": []
    },
    {
      "cell_type": "markdown",
      "metadata": {
        "id": "8xBjIvnWsgIi"
      },
      "source": [
        "### **SVR  Implementation without Hyperparameter Tuning**"
      ],
      "id": "8xBjIvnWsgIi"
    },
    {
      "cell_type": "code",
      "metadata": {
        "id": "alternate-company",
        "colab": {
          "base_uri": "https://localhost:8080/"
        },
        "outputId": "33b3d5d2-867a-44b6-bcaa-dfd4d20f6c22"
      },
      "source": [
        "from sklearn import svm\n",
        "from sklearn import metrics\n",
        "svr= svm.SVR(kernel='rbf')\n",
        "svr.fit(x_train, y_train)"
      ],
      "id": "alternate-company",
      "execution_count": 8,
      "outputs": [
        {
          "output_type": "execute_result",
          "data": {
            "text/plain": [
              "SVR(C=1.0, cache_size=200, coef0=0.0, degree=3, epsilon=0.1, gamma='scale',\n",
              "    kernel='rbf', max_iter=-1, shrinking=True, tol=0.001, verbose=False)"
            ]
          },
          "metadata": {
            "tags": []
          },
          "execution_count": 8
        }
      ]
    },
    {
      "cell_type": "code",
      "metadata": {
        "id": "fifth-chemistry"
      },
      "source": [
        "pred_svr=svr.predict(x_test)"
      ],
      "id": "fifth-chemistry",
      "execution_count": 9,
      "outputs": []
    },
    {
      "cell_type": "code",
      "metadata": {
        "id": "detailed-nevada",
        "colab": {
          "base_uri": "https://localhost:8080/"
        },
        "outputId": "bf543039-3cc7-4b2d-9a7f-8d7d1a654032"
      },
      "source": [
        "print('MAE:', metrics.mean_absolute_error(y_test,pred_svr))\n",
        "print('MSE:', metrics.mean_squared_error(y_test, pred_svr))\n",
        "print('RMSE:', np.sqrt(metrics.mean_squared_error(y_test,pred_svr)))"
      ],
      "id": "detailed-nevada",
      "execution_count": 10,
      "outputs": [
        {
          "output_type": "stream",
          "text": [
            "MAE: 67.78222613275365\n",
            "MSE: 8801.746850919259\n",
            "RMSE: 93.81762548113899\n"
          ],
          "name": "stdout"
        }
      ]
    },
    {
      "cell_type": "markdown",
      "metadata": {
        "id": "kZXbl0JlgGOq"
      },
      "source": [
        "Without any hyperparameter tuning support vector regressor RMSE value around 94 but in the linear regressor, we got around 57 So, next step we are going to do some hyperparameter tuning to find optimal parameters."
      ],
      "id": "kZXbl0JlgGOq"
    },
    {
      "cell_type": "markdown",
      "metadata": {
        "id": "YnUwIj38smk1"
      },
      "source": [
        "**SVR-Linear Kernel Implementation with hyperparameter tuning**"
      ],
      "id": "YnUwIj38smk1"
    },
    {
      "cell_type": "code",
      "metadata": {
        "id": "empty-boxing"
      },
      "source": [
        "from sklearn.model_selection import GridSearchCV\n",
        "from sklearn.model_selection import RepeatedKFold\n",
        "svr_tune = svm.SVR(kernel='linear')\n",
        "param_grid_linear= {'C': [4,5,6,7,8,9,10,11,12,13,14,15]} \n",
        "cv = RepeatedKFold(n_splits=10, n_repeats=3, random_state=100)\n",
        "svr_linear= GridSearchCV(svr_tune, param_grid_linear,cv=cv, refit = True, verbose = 3)\n",
        "svr_linear.fit(x_train, y_train)"
      ],
      "id": "empty-boxing",
      "execution_count": null,
      "outputs": []
    },
    {
      "cell_type": "markdown",
      "metadata": {
        "id": "sCZp6FfjhIRk"
      },
      "source": [
        "### **Model Evaluation**"
      ],
      "id": "sCZp6FfjhIRk"
    },
    {
      "cell_type": "code",
      "metadata": {
        "id": "corrected-bearing",
        "colab": {
          "base_uri": "https://localhost:8080/"
        },
        "outputId": "76ac8e0a-6d59-4d2f-d169-70faf215093c"
      },
      "source": [
        "from sklearn import metrics\n",
        "rf_prediction=svr_linear.predict(x_test)\n",
        "print(svr_linear.best_params_)\n",
        "print(svr_linear.best_score_)\n",
        "print('MAE:', metrics.mean_absolute_error(y_test, rf_prediction))\n",
        "print('MSE:', metrics.mean_squared_error(y_test, rf_prediction))\n",
        "print('RMSE:', np.sqrt(metrics.mean_squared_error(y_test, rf_prediction)))"
      ],
      "id": "corrected-bearing",
      "execution_count": 15,
      "outputs": [
        {
          "output_type": "stream",
          "text": [
            "{'C': 6}\n",
            "0.5312529379125495\n",
            "MAE: 44.99114683033755\n",
            "MSE: 3709.9802172266427\n",
            "RMSE: 60.909606937055855\n"
          ],
          "name": "stdout"
        }
      ]
    },
    {
      "cell_type": "code",
      "metadata": {
        "id": "KzzFuS2BAgfq"
      },
      "source": [
        "#Save trained model\n",
        "import pickle\n",
        "# open a file, where you want to store the data\n",
        "file = open('AQI_SVR_liner.pkl', 'wb')\n",
        "\n",
        "# dump information to that file\n",
        "pickle.dump(svr_linear\n",
        "            , file)"
      ],
      "id": "KzzFuS2BAgfq",
      "execution_count": 21,
      "outputs": []
    },
    {
      "cell_type": "markdown",
      "metadata": {
        "id": "DUYoJIXphPF-"
      },
      "source": [
        "So, Now we got RMSE values around 61 with hyperparameter tuning but without hyperparameter tuning, we got around 94. So right hyperparameter tuning will impact the RMSE. Further, Next step we are going to see,l How does  Support vector Polunomial kernel work with this data?"
      ],
      "id": "DUYoJIXphPF-"
    },
    {
      "cell_type": "markdown",
      "metadata": {
        "id": "impressive-deficit"
      },
      "source": [
        "### **SVR-polynomial- Kernal Implementation**"
      ],
      "id": "impressive-deficit"
    },
    {
      "cell_type": "code",
      "metadata": {
        "id": "honest-throat"
      },
      "source": [
        "from sklearn.model_selection import GridSearchCV\n",
        "from sklearn.model_selection import RepeatedKFold\n",
        "svr_tune = svm.SVR(kernel='poly')\n",
        "param_grid_poly=  {'degree': [2, 5,8,10,12], 'C': [10000,20000,30000,40000], 'coef0': [0,0.5,0.75,1]} \n",
        "cv = RepeatedKFold(n_splits=10, n_repeats=3, random_state=100)\n",
        "svr_poly= GridSearchCV(svr_tune, param_grid_poly,cv=cv, refit = True, verbose = 3)\n",
        "svr_poly.fit(x_train, y_train)"
      ],
      "id": "honest-throat",
      "execution_count": null,
      "outputs": []
    },
    {
      "cell_type": "code",
      "metadata": {
        "id": "powered-begin",
        "colab": {
          "base_uri": "https://localhost:8080/"
        },
        "outputId": "bd8ce5f4-5072-4178-d02a-693c33f22b75"
      },
      "source": [
        "from sklearn import metrics\n",
        "poly_prediction=svr_poly.predict(x_test)\n",
        "print(svr_poly.best_params_)\n",
        "print(svr_poly.best_score_)\n",
        "print('MAE:', metrics.mean_absolute_error(y_test, poly_prediction))\n",
        "print('MSE:', metrics.mean_squared_error(y_test, poly_prediction))\n",
        "print('RMSE:', np.sqrt(metrics.mean_squared_error(y_test, poly_prediction)))"
      ],
      "id": "powered-begin",
      "execution_count": 17,
      "outputs": [
        {
          "output_type": "stream",
          "text": [
            "{'C': 30000, 'coef0': 0.5, 'degree': 12}\n",
            "0.5709729449225315\n",
            "MAE: 40.77491768583136\n",
            "MSE: 3277.2711086212435\n",
            "RMSE: 57.24745504056266\n"
          ],
          "name": "stdout"
        }
      ]
    },
    {
      "cell_type": "code",
      "metadata": {
        "id": "S1ZhlJzjh8_g"
      },
      "source": [
        "#Save trained model\n",
        "import pickle\n",
        "# open a file, where you want to store the data\n",
        "file = open('AQI_SVR_ploy.pkl', 'wb')\n",
        "\n",
        "# dump information to that file\n",
        "pickle.dump(svr_poly\n",
        "            , file)"
      ],
      "id": "S1ZhlJzjh8_g",
      "execution_count": 20,
      "outputs": []
    },
    {
      "cell_type": "markdown",
      "metadata": {
        "id": "q4RkZjEQ9PHP"
      },
      "source": [
        "### **Conclusion**\n",
        "\n",
        "###For SVR-Polynomial we got RMSE values around 57.2 but For SVR-Linear we got an RMSE value of 61 with hyperparameter tuning. So right hyperparameter tuning will impact the RMSE. Further, in the Next step we are going to see, How does Extra TreeRegressor work with this data?"
      ],
      "id": "q4RkZjEQ9PHP"
    }
  ]
}