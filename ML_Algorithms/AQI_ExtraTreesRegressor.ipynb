{
  "nbformat": 4,
  "nbformat_minor": 0,
  "metadata": {
    "colab": {
      "name": "AQI-ExtraTreesRegressor.ipynb",
      "provenance": [],
      "toc_visible": true
    },
    "kernelspec": {
      "name": "python3",
      "display_name": "Python 3"
    },
    "language_info": {
      "name": "python"
    },
    "accelerator": "GPU"
  },
  "cells": [
    {
      "cell_type": "markdown",
      "metadata": {
        "id": "KZh-2ZfE60hc"
      },
      "source": [
        "### **AQI-ExtraTreesRegressor**"
      ]
    },
    {
      "cell_type": "code",
      "metadata": {
        "colab": {
          "base_uri": "https://localhost:8080/"
        },
        "id": "rYFxFJHt6uEM",
        "outputId": "8a7b850a-0e27-45f7-e59a-02506835e071"
      },
      "source": [
        "from google.colab import drive\n",
        "drive.mount('/content/drive/')"
      ],
      "execution_count": 1,
      "outputs": [
        {
          "output_type": "stream",
          "text": [
            "Mounted at /content/drive/\n"
          ],
          "name": "stdout"
        }
      ]
    },
    {
      "cell_type": "markdown",
      "metadata": {
        "id": "nlK7d1Zi7Wwg"
      },
      "source": [
        "### Before appling linear regression, I did feature engineering such as dealig with outliers, null values and correlation analysis. After that data has saven into cleaned data format."
      ]
    },
    {
      "cell_type": "markdown",
      "metadata": {
        "id": "r3gKqTL37Ftg"
      },
      "source": [
        "### **Import necessary libraries**"
      ]
    },
    {
      "cell_type": "code",
      "metadata": {
        "id": "AIu8W22s71w_"
      },
      "source": [
        "import pickle\n",
        "import numpy as np\n",
        "import matplotlib.pyplot as plt\n",
        "import seaborn as sns\n",
        "import pandas as pd"
      ],
      "execution_count": 2,
      "outputs": []
    },
    {
      "cell_type": "code",
      "metadata": {
        "id": "XufJE5qy7B4m"
      },
      "source": [
        "with open('/content/drive/MyDrive/Google_colab_project/df.pkl','rb') as file:\n",
        "    df= pickle.load(file)"
      ],
      "execution_count": 3,
      "outputs": []
    },
    {
      "cell_type": "code",
      "metadata": {
        "colab": {
          "base_uri": "https://localhost:8080/",
          "height": 195
        },
        "id": "eSM-jz3z7B6W",
        "outputId": "4467f382-1691-469d-c828-e3e7dd1955a6"
      },
      "source": [
        "#Read value\n",
        "df.head()"
      ],
      "execution_count": 4,
      "outputs": [
        {
          "output_type": "execute_result",
          "data": {
            "text/html": [
              "<div>\n",
              "<style scoped>\n",
              "    .dataframe tbody tr th:only-of-type {\n",
              "        vertical-align: middle;\n",
              "    }\n",
              "\n",
              "    .dataframe tbody tr th {\n",
              "        vertical-align: top;\n",
              "    }\n",
              "\n",
              "    .dataframe thead th {\n",
              "        text-align: right;\n",
              "    }\n",
              "</style>\n",
              "<table border=\"1\" class=\"dataframe\">\n",
              "  <thead>\n",
              "    <tr style=\"text-align: right;\">\n",
              "      <th></th>\n",
              "      <th>T</th>\n",
              "      <th>TM</th>\n",
              "      <th>Tm</th>\n",
              "      <th>SLP</th>\n",
              "      <th>H</th>\n",
              "      <th>VV</th>\n",
              "      <th>V</th>\n",
              "      <th>VM</th>\n",
              "      <th>PM 2.5</th>\n",
              "    </tr>\n",
              "  </thead>\n",
              "  <tbody>\n",
              "    <tr>\n",
              "      <th>0</th>\n",
              "      <td>10.8</td>\n",
              "      <td>16.3</td>\n",
              "      <td>5.2</td>\n",
              "      <td>1017.6</td>\n",
              "      <td>93.0</td>\n",
              "      <td>0.5</td>\n",
              "      <td>4.3</td>\n",
              "      <td>9.4</td>\n",
              "      <td>219.720833</td>\n",
              "    </tr>\n",
              "    <tr>\n",
              "      <th>1</th>\n",
              "      <td>10.8</td>\n",
              "      <td>16.3</td>\n",
              "      <td>5.2</td>\n",
              "      <td>1018.5</td>\n",
              "      <td>87.0</td>\n",
              "      <td>0.6</td>\n",
              "      <td>4.4</td>\n",
              "      <td>11.1</td>\n",
              "      <td>182.187500</td>\n",
              "    </tr>\n",
              "    <tr>\n",
              "      <th>2</th>\n",
              "      <td>10.8</td>\n",
              "      <td>16.3</td>\n",
              "      <td>5.2</td>\n",
              "      <td>1019.4</td>\n",
              "      <td>82.0</td>\n",
              "      <td>0.6</td>\n",
              "      <td>4.8</td>\n",
              "      <td>11.1</td>\n",
              "      <td>154.037500</td>\n",
              "    </tr>\n",
              "    <tr>\n",
              "      <th>3</th>\n",
              "      <td>10.8</td>\n",
              "      <td>16.3</td>\n",
              "      <td>5.2</td>\n",
              "      <td>1018.7</td>\n",
              "      <td>72.0</td>\n",
              "      <td>0.8</td>\n",
              "      <td>8.1</td>\n",
              "      <td>20.6</td>\n",
              "      <td>223.208333</td>\n",
              "    </tr>\n",
              "    <tr>\n",
              "      <th>4</th>\n",
              "      <td>12.4</td>\n",
              "      <td>20.9</td>\n",
              "      <td>5.2</td>\n",
              "      <td>1017.3</td>\n",
              "      <td>61.0</td>\n",
              "      <td>1.3</td>\n",
              "      <td>8.7</td>\n",
              "      <td>22.2</td>\n",
              "      <td>200.645833</td>\n",
              "    </tr>\n",
              "  </tbody>\n",
              "</table>\n",
              "</div>"
            ],
            "text/plain": [
              "      T    TM   Tm     SLP     H   VV    V    VM      PM 2.5\n",
              "0  10.8  16.3  5.2  1017.6  93.0  0.5  4.3   9.4  219.720833\n",
              "1  10.8  16.3  5.2  1018.5  87.0  0.6  4.4  11.1  182.187500\n",
              "2  10.8  16.3  5.2  1019.4  82.0  0.6  4.8  11.1  154.037500\n",
              "3  10.8  16.3  5.2  1018.7  72.0  0.8  8.1  20.6  223.208333\n",
              "4  12.4  20.9  5.2  1017.3  61.0  1.3  8.7  22.2  200.645833"
            ]
          },
          "metadata": {
            "tags": []
          },
          "execution_count": 4
        }
      ]
    },
    {
      "cell_type": "code",
      "metadata": {
        "id": "LijbmTDs7B9b"
      },
      "source": [
        "#Seperating dependent and independent variables \n",
        "x=df.iloc[:,:-1]\n",
        "y=df.iloc[:,-1]"
      ],
      "execution_count": 5,
      "outputs": []
    },
    {
      "cell_type": "code",
      "metadata": {
        "id": "vEFZKCCv7B_A"
      },
      "source": [
        "#Train-Test Split\n",
        "from sklearn.model_selection import train_test_split\n",
        "X_train,X_test,y_train,y_test=train_test_split(x,y,test_size=0.2,random_state=100)"
      ],
      "execution_count": 6,
      "outputs": []
    },
    {
      "cell_type": "markdown",
      "metadata": {
        "id": "nri4f5W78EFl"
      },
      "source": [
        "### **ExtraTreesRegressor Implementation without Hyper Tuning**"
      ]
    },
    {
      "cell_type": "code",
      "metadata": {
        "id": "Cv83dqfe7CCk"
      },
      "source": [
        "from sklearn import ensemble\n",
        "extra_tree=ensemble.ExtraTreesRegressor\n",
        "extra_tree_model = extra_tree(n_estimators=100, n_jobs=-1, random_state=100)"
      ],
      "execution_count": 7,
      "outputs": []
    },
    {
      "cell_type": "markdown",
      "metadata": {
        "id": "moSHOlchFWm0"
      },
      "source": [
        "### **Compile model**"
      ]
    },
    {
      "cell_type": "code",
      "metadata": {
        "colab": {
          "base_uri": "https://localhost:8080/"
        },
        "id": "3vkllKP47CD6",
        "outputId": "b3c6027b-0d63-4d0a-87bd-be6aefebc2c0"
      },
      "source": [
        "extra_tree_model.fit(X_train, y_train)"
      ],
      "execution_count": 9,
      "outputs": [
        {
          "output_type": "execute_result",
          "data": {
            "text/plain": [
              "ExtraTreesRegressor(bootstrap=False, ccp_alpha=0.0, criterion='mse',\n",
              "                    max_depth=None, max_features='auto', max_leaf_nodes=None,\n",
              "                    max_samples=None, min_impurity_decrease=0.0,\n",
              "                    min_impurity_split=None, min_samples_leaf=1,\n",
              "                    min_samples_split=2, min_weight_fraction_leaf=0.0,\n",
              "                    n_estimators=100, n_jobs=-1, oob_score=False,\n",
              "                    random_state=100, verbose=0, warm_start=False)"
            ]
          },
          "metadata": {
            "tags": []
          },
          "execution_count": 9
        }
      ]
    },
    {
      "cell_type": "markdown",
      "metadata": {
        "id": "-XIXYzqdGSZs"
      },
      "source": [
        "### **Evalution Model**"
      ]
    },
    {
      "cell_type": "code",
      "metadata": {
        "colab": {
          "base_uri": "https://localhost:8080/"
        },
        "id": "jcEvOjtf7CG_",
        "outputId": "b4f1f981-d9e4-4533-eda6-55a423d7301a"
      },
      "source": [
        "from sklearn import metrics\n",
        "tree_pred=extra_tree_model.predict(X_test)\n",
        "print('MAE:', metrics.mean_absolute_error(y_test, tree_pred))\n",
        "print('MSE:', metrics.mean_squared_error(y_test, tree_pred))\n",
        "print('RMSE:', np.sqrt(metrics.mean_squared_error(y_test, tree_pred)))"
      ],
      "execution_count": 10,
      "outputs": [
        {
          "output_type": "stream",
          "text": [
            "MAE: 17.416967085235953\n",
            "MSE: 1112.8571151511208\n",
            "RMSE: 33.35951311322035\n"
          ],
          "name": "stdout"
        }
      ]
    },
    {
      "cell_type": "markdown",
      "metadata": {
        "id": "AbrwbvC3G3qQ"
      },
      "source": [
        "For Extra TreeRegressor without any hyperparameter tuning, we got RMSE(Root Mean Square Error) value is around 33.4 which is lower than SVR-linear kernel and SVR-polynomial kernel and linear regressor RMSE values. So, next, we will try to find some optimal parameters for Extra TreeRegressthrough we can able to reduce that RMSE value."
      ]
    },
    {
      "cell_type": "code",
      "metadata": {
        "id": "zhuyprveJ2j5"
      },
      "source": [
        "#plot the importances #\n",
        "importances = extra_tree_model.feature_importances_\n",
        "std = np.std([tree.feature_importances_ for tree in extra_tree_model.estimators_],\n",
        "             axis=0)\n",
        "indices = np.argsort(importances)[::-1][:20]"
      ],
      "execution_count": 31,
      "outputs": []
    },
    {
      "cell_type": "code",
      "metadata": {
        "colab": {
          "base_uri": "https://localhost:8080/",
          "height": 607
        },
        "id": "PZ1PF-AXKB3r",
        "outputId": "20762a6f-e12f-43c4-9872-6434fef7b3b7"
      },
      "source": [
        "plt.figure(figsize=(14,10))\n",
        "plt.title(\"Feature importances\")\n",
        "plt.bar(range(len(indices)), importances[indices],\n",
        "       color=\"b\", yerr=std[indices], align=\"center\")\n",
        "plt.xticks(range(len(indices)), indices)\n",
        "plt.xlim([-1, len(indices)])\n",
        "plt.show()"
      ],
      "execution_count": 34,
      "outputs": [
        {
          "output_type": "display_data",
          "data": {
            "image/png": "[encoded data removed]",
            "text/plain": [
              "<Figure size 1008x720 with 1 Axes>"
            ]
          },
          "metadata": {
            "tags": [],
            "needs_background": "light"
          }
        }
      ]
    },
    {
      "cell_type": "markdown",
      "metadata": {
        "id": "p5nseSqVH9dV"
      },
      "source": [
        "### **ExtraTreesRegressor Implementation with Hyper Tuning-Randomized SearchCV**"
      ]
    },
    {
      "cell_type": "markdown",
      "metadata": {
        "id": "fv6fJIMlK4Pa"
      },
      "source": [
        "### Randomized SearchCV1"
      ]
    },
    {
      "cell_type": "code",
      "metadata": {
        "id": "ztY94koKK9NI"
      },
      "source": [
        "from sklearn.model_selection import RandomizedSearchCV\n",
        "# Number of trees in random forest\n",
        "n_estimators = [int(x) for x in np.linspace(start = 100, stop = 600, num = 12)]\n",
        "# Number of criterion\n",
        "criterion=[\"mse\", \"mae\"]\n",
        "# Maximum number of levels in tree\n",
        "max_depth = [int(x) for x in np.linspace(20, 50, num = 6)]\n",
        "# Minimum samples weight parameters\n",
        "min_samples_split=[3,4,5,6,7]\n",
        "# Minimum samples leaf parameters\n",
        "min_samples_leaf=[1,2,3]\n",
        "# features type \n",
        "max_features=[\"auto\",\"sqrt\", \"log2\"]\n",
        "\n"
      ],
      "execution_count": 23,
      "outputs": []
    },
    {
      "cell_type": "code",
      "metadata": {
        "colab": {
          "base_uri": "https://localhost:8080/"
        },
        "id": "3Ni_zBVf7CIw",
        "outputId": "b736a6f3-5223-42b2-f916-b688ae59cd98"
      },
      "source": [
        "# Create the random grid\n",
        "tree_random_grid1 = {'n_estimators': n_estimators,\n",
        "               'criterion': criterion,\n",
        "               'max_depth': max_depth,\n",
        "               'min_samples_leaf': min_samples_leaf,\n",
        "               'max_features': max_features,\n",
        "               'min_samples_split':min_samples_split}\n",
        "\n",
        "print(tree_random_grid1)"
      ],
      "execution_count": 24,
      "outputs": [
        {
          "output_type": "stream",
          "text": [
            "{'n_estimators': [100, 145, 190, 236, 281, 327, 372, 418, 463, 509, 554, 600], 'criterion': ['mse', 'mae'], 'max_depth': [20, 26, 32, 38, 44, 50], 'min_samples_leaf': [1, 2, 3], 'max_features': ['auto', 'sqrt', 'log2'], 'min_samples_split': [3, 4, 5, 6, 7]}\n"
          ],
          "name": "stdout"
        }
      ]
    },
    {
      "cell_type": "code",
      "metadata": {
        "id": "NZyz9IDzRBla"
      },
      "source": [
        "extra_tree_regressor1=ensemble.ExtraTreesRegressor()"
      ],
      "execution_count": 25,
      "outputs": []
    },
    {
      "cell_type": "code",
      "metadata": {
        "id": "UVrlO7qh7CL8"
      },
      "source": [
        "# Random search of parameters, using 3 fold cross validation, \n",
        "# search across 100 different combinations\n",
        "# Use the random grid to search for best hyperparameters\n",
        "# First create the base model to tune\n",
        "\n",
        "tree_random_cv1 = RandomizedSearchCV(estimator = extra_tree_regressor1, param_distributions = tree_random_grid1,\n",
        "                               scoring='neg_mean_squared_error', n_iter = 50, cv = 5, verbose=2, \n",
        "                               random_state=100, n_jobs = 1)\n",
        "#xgb_random.fit(X_train,y_train)"
      ],
      "execution_count": 26,
      "outputs": []
    },
    {
      "cell_type": "code",
      "metadata": {
        "colab": {
          "base_uri": "https://localhost:8080/"
        },
        "id": "nUK_Bw_h7CNQ",
        "outputId": "9aba6f05-01f0-45d7-9983-8116fab1411a"
      },
      "source": [
        "tree_random_cv1.fit(X_train,y_train)"
      ],
      "execution_count": 27,
      "outputs": [
        {
          "output_type": "stream",
          "text": [
            "Fitting 5 folds for each of 50 candidates, totalling 250 fits\n",
            "[CV] n_estimators=100, min_samples_split=3, min_samples_leaf=2, max_features=sqrt, max_depth=44, criterion=mae \n"
          ],
          "name": "stdout"
        },
        {
          "output_type": "stream",
          "text": [
            "[Parallel(n_jobs=1)]: Using backend SequentialBackend with 1 concurrent workers.\n"
          ],
          "name": "stderr"
        },
        {
          "output_type": "stream",
          "text": [
            "[CV]  n_estimators=100, min_samples_split=3, min_samples_leaf=2, max_features=sqrt, max_depth=44, criterion=mae, total=   0.6s\n",
            "[CV] n_estimators=100, min_samples_split=3, min_samples_leaf=2, max_features=sqrt, max_depth=44, criterion=mae \n"
          ],
          "name": "stdout"
        },
        {
          "output_type": "stream",
          "text": [
            "[Parallel(n_jobs=1)]: Done   1 out of   1 | elapsed:    0.6s remaining:    0.0s\n"
          ],
          "name": "stderr"
        },
        {
          "output_type": "stream",
          "text": [
            "[CV]  n_estimators=100, min_samples_split=3, min_samples_leaf=2, max_features=sqrt, max_depth=44, criterion=mae, total=   0.7s\n",
            "[CV] n_estimators=100, min_samples_split=3, min_samples_leaf=2, max_features=sqrt, max_depth=44, criterion=mae \n",
            "[CV]  n_estimators=100, min_samples_split=3, min_samples_leaf=2, max_features=sqrt, max_depth=44, criterion=mae, total=   0.6s\n",
            "[CV] n_estimators=100, min_samples_split=3, min_samples_leaf=2, max_features=sqrt, max_depth=44, criterion=mae \n",
            "[CV]  n_estimators=100, min_samples_split=3, min_samples_leaf=2, max_features=sqrt, max_depth=44, criterion=mae, total=   0.6s\n",
            "[CV] n_estimators=100, min_samples_split=3, min_samples_leaf=2, max_features=sqrt, max_depth=44, criterion=mae \n",
            "[CV]  n_estimators=100, min_samples_split=3, min_samples_leaf=2, max_features=sqrt, max_depth=44, criterion=mae, total=   0.6s\n",
            "[CV] n_estimators=236, min_samples_split=4, min_samples_leaf=1, max_features=auto, max_depth=50, criterion=mae \n",
            "[CV]  n_estimators=236, min_samples_split=4, min_samples_leaf=1, max_features=auto, max_depth=50, criterion=mae, total=   3.6s\n",
            "[CV] n_estimators=236, min_samples_split=4, min_samples_leaf=1, max_features=auto, max_depth=50, criterion=mae \n",
            "[CV]  n_estimators=236, min_samples_split=4, min_samples_leaf=1, max_features=auto, max_depth=50, criterion=mae, total=   3.6s\n",
            "[CV] n_estimators=236, min_samples_split=4, min_samples_leaf=1, max_features=auto, max_depth=50, criterion=mae \n",
            "[CV]  n_estimators=236, min_samples_split=4, min_samples_leaf=1, max_features=auto, max_depth=50, criterion=mae, total=   3.6s\n",
            "[CV] n_estimators=236, min_samples_split=4, min_samples_leaf=1, max_features=auto, max_depth=50, criterion=mae \n",
            "[CV]  n_estimators=236, min_samples_split=4, min_samples_leaf=1, max_features=auto, max_depth=50, criterion=mae, total=   3.5s\n",
            "[CV] n_estimators=236, min_samples_split=4, min_samples_leaf=1, max_features=auto, max_depth=50, criterion=mae \n",
            "[CV]  n_estimators=236, min_samples_split=4, min_samples_leaf=1, max_features=auto, max_depth=50, criterion=mae, total=   3.6s\n",
            "[CV] n_estimators=236, min_samples_split=5, min_samples_leaf=3, max_features=auto, max_depth=26, criterion=mae \n",
            "[CV]  n_estimators=236, min_samples_split=5, min_samples_leaf=3, max_features=auto, max_depth=26, criterion=mae, total=   2.9s\n",
            "[CV] n_estimators=236, min_samples_split=5, min_samples_leaf=3, max_features=auto, max_depth=26, criterion=mae \n",
            "[CV]  n_estimators=236, min_samples_split=5, min_samples_leaf=3, max_features=auto, max_depth=26, criterion=mae, total=   3.0s\n",
            "[CV] n_estimators=236, min_samples_split=5, min_samples_leaf=3, max_features=auto, max_depth=26, criterion=mae \n",
            "[CV]  n_estimators=236, min_samples_split=5, min_samples_leaf=3, max_features=auto, max_depth=26, criterion=mae, total=   3.0s\n",
            "[CV] n_estimators=236, min_samples_split=5, min_samples_leaf=3, max_features=auto, max_depth=26, criterion=mae \n",
            "[CV]  n_estimators=236, min_samples_split=5, min_samples_leaf=3, max_features=auto, max_depth=26, criterion=mae, total=   2.9s\n",
            "[CV] n_estimators=236, min_samples_split=5, min_samples_leaf=3, max_features=auto, max_depth=26, criterion=mae \n",
            "[CV]  n_estimators=236, min_samples_split=5, min_samples_leaf=3, max_features=auto, max_depth=26, criterion=mae, total=   2.9s\n",
            "[CV] n_estimators=418, min_samples_split=4, min_samples_leaf=2, max_features=auto, max_depth=20, criterion=mse \n",
            "[CV]  n_estimators=418, min_samples_split=4, min_samples_leaf=2, max_features=auto, max_depth=20, criterion=mse, total=   0.8s\n",
            "[CV] n_estimators=418, min_samples_split=4, min_samples_leaf=2, max_features=auto, max_depth=20, criterion=mse \n",
            "[CV]  n_estimators=418, min_samples_split=4, min_samples_leaf=2, max_features=auto, max_depth=20, criterion=mse, total=   0.8s\n",
            "[CV] n_estimators=418, min_samples_split=4, min_samples_leaf=2, max_features=auto, max_depth=20, criterion=mse \n",
            "[CV]  n_estimators=418, min_samples_split=4, min_samples_leaf=2, max_features=auto, max_depth=20, criterion=mse, total=   0.8s\n",
            "[CV] n_estimators=418, min_samples_split=4, min_samples_leaf=2, max_features=auto, max_depth=20, criterion=mse \n",
            "[CV]  n_estimators=418, min_samples_split=4, min_samples_leaf=2, max_features=auto, max_depth=20, criterion=mse, total=   0.8s\n",
            "[CV] n_estimators=418, min_samples_split=4, min_samples_leaf=2, max_features=auto, max_depth=20, criterion=mse \n",
            "[CV]  n_estimators=418, min_samples_split=4, min_samples_leaf=2, max_features=auto, max_depth=20, criterion=mse, total=   0.8s\n",
            "[CV] n_estimators=190, min_samples_split=5, min_samples_leaf=2, max_features=auto, max_depth=50, criterion=mae \n",
            "[CV]  n_estimators=190, min_samples_split=5, min_samples_leaf=2, max_features=auto, max_depth=50, criterion=mae, total=   2.5s\n",
            "[CV] n_estimators=190, min_samples_split=5, min_samples_leaf=2, max_features=auto, max_depth=50, criterion=mae \n",
            "[CV]  n_estimators=190, min_samples_split=5, min_samples_leaf=2, max_features=auto, max_depth=50, criterion=mae, total=   2.6s\n",
            "[CV] n_estimators=190, min_samples_split=5, min_samples_leaf=2, max_features=auto, max_depth=50, criterion=mae \n",
            "[CV]  n_estimators=190, min_samples_split=5, min_samples_leaf=2, max_features=auto, max_depth=50, criterion=mae, total=   2.6s\n",
            "[CV] n_estimators=190, min_samples_split=5, min_samples_leaf=2, max_features=auto, max_depth=50, criterion=mae \n",
            "[CV]  n_estimators=190, min_samples_split=5, min_samples_leaf=2, max_features=auto, max_depth=50, criterion=mae, total=   2.5s\n",
            "[CV] n_estimators=190, min_samples_split=5, min_samples_leaf=2, max_features=auto, max_depth=50, criterion=mae \n",
            "[CV]  n_estimators=190, min_samples_split=5, min_samples_leaf=2, max_features=auto, max_depth=50, criterion=mae, total=   2.6s\n",
            "[CV] n_estimators=190, min_samples_split=7, min_samples_leaf=3, max_features=sqrt, max_depth=20, criterion=mse \n",
            "[CV]  n_estimators=190, min_samples_split=7, min_samples_leaf=3, max_features=sqrt, max_depth=20, criterion=mse, total=   0.2s\n",
            "[CV] n_estimators=190, min_samples_split=7, min_samples_leaf=3, max_features=sqrt, max_depth=20, criterion=mse \n",
            "[CV]  n_estimators=190, min_samples_split=7, min_samples_leaf=3, max_features=sqrt, max_depth=20, criterion=mse, total=   0.2s\n",
            "[CV] n_estimators=190, min_samples_split=7, min_samples_leaf=3, max_features=sqrt, max_depth=20, criterion=mse \n",
            "[CV]  n_estimators=190, min_samples_split=7, min_samples_leaf=3, max_features=sqrt, max_depth=20, criterion=mse, total=   0.2s\n",
            "[CV] n_estimators=190, min_samples_split=7, min_samples_leaf=3, max_features=sqrt, max_depth=20, criterion=mse \n",
            "[CV]  n_estimators=190, min_samples_split=7, min_samples_leaf=3, max_features=sqrt, max_depth=20, criterion=mse, total=   0.2s\n",
            "[CV] n_estimators=190, min_samples_split=7, min_samples_leaf=3, max_features=sqrt, max_depth=20, criterion=mse \n",
            "[CV]  n_estimators=190, min_samples_split=7, min_samples_leaf=3, max_features=sqrt, max_depth=20, criterion=mse, total=   0.3s\n",
            "[CV] n_estimators=463, min_samples_split=3, min_samples_leaf=3, max_features=auto, max_depth=50, criterion=mae \n",
            "[CV]  n_estimators=463, min_samples_split=3, min_samples_leaf=3, max_features=auto, max_depth=50, criterion=mae, total=   5.8s\n",
            "[CV] n_estimators=463, min_samples_split=3, min_samples_leaf=3, max_features=auto, max_depth=50, criterion=mae \n",
            "[CV]  n_estimators=463, min_samples_split=3, min_samples_leaf=3, max_features=auto, max_depth=50, criterion=mae, total=   5.8s\n",
            "[CV] n_estimators=463, min_samples_split=3, min_samples_leaf=3, max_features=auto, max_depth=50, criterion=mae \n",
            "[CV]  n_estimators=463, min_samples_split=3, min_samples_leaf=3, max_features=auto, max_depth=50, criterion=mae, total=   5.8s\n",
            "[CV] n_estimators=463, min_samples_split=3, min_samples_leaf=3, max_features=auto, max_depth=50, criterion=mae \n",
            "[CV]  n_estimators=463, min_samples_split=3, min_samples_leaf=3, max_features=auto, max_depth=50, criterion=mae, total=   5.7s\n",
            "[CV] n_estimators=463, min_samples_split=3, min_samples_leaf=3, max_features=auto, max_depth=50, criterion=mae \n",
            "[CV]  n_estimators=463, min_samples_split=3, min_samples_leaf=3, max_features=auto, max_depth=50, criterion=mae, total=   5.8s\n",
            "[CV] n_estimators=372, min_samples_split=5, min_samples_leaf=2, max_features=sqrt, max_depth=38, criterion=mse \n",
            "[CV]  n_estimators=372, min_samples_split=5, min_samples_leaf=2, max_features=sqrt, max_depth=38, criterion=mse, total=   0.5s\n",
            "[CV] n_estimators=372, min_samples_split=5, min_samples_leaf=2, max_features=sqrt, max_depth=38, criterion=mse \n",
            "[CV]  n_estimators=372, min_samples_split=5, min_samples_leaf=2, max_features=sqrt, max_depth=38, criterion=mse, total=   0.5s\n",
            "[CV] n_estimators=372, min_samples_split=5, min_samples_leaf=2, max_features=sqrt, max_depth=38, criterion=mse \n",
            "[CV]  n_estimators=372, min_samples_split=5, min_samples_leaf=2, max_features=sqrt, max_depth=38, criterion=mse, total=   0.5s\n",
            "[CV] n_estimators=372, min_samples_split=5, min_samples_leaf=2, max_features=sqrt, max_depth=38, criterion=mse \n",
            "[CV]  n_estimators=372, min_samples_split=5, min_samples_leaf=2, max_features=sqrt, max_depth=38, criterion=mse, total=   0.5s\n",
            "[CV] n_estimators=372, min_samples_split=5, min_samples_leaf=2, max_features=sqrt, max_depth=38, criterion=mse \n",
            "[CV]  n_estimators=372, min_samples_split=5, min_samples_leaf=2, max_features=sqrt, max_depth=38, criterion=mse, total=   0.5s\n",
            "[CV] n_estimators=509, min_samples_split=3, min_samples_leaf=1, max_features=log2, max_depth=26, criterion=mae \n",
            "[CV]  n_estimators=509, min_samples_split=3, min_samples_leaf=1, max_features=log2, max_depth=26, criterion=mae, total=   4.4s\n",
            "[CV] n_estimators=509, min_samples_split=3, min_samples_leaf=1, max_features=log2, max_depth=26, criterion=mae \n",
            "[CV]  n_estimators=509, min_samples_split=3, min_samples_leaf=1, max_features=log2, max_depth=26, criterion=mae, total=   4.4s\n",
            "[CV] n_estimators=509, min_samples_split=3, min_samples_leaf=1, max_features=log2, max_depth=26, criterion=mae \n",
            "[CV]  n_estimators=509, min_samples_split=3, min_samples_leaf=1, max_features=log2, max_depth=26, criterion=mae, total=   4.4s\n",
            "[CV] n_estimators=509, min_samples_split=3, min_samples_leaf=1, max_features=log2, max_depth=26, criterion=mae \n",
            "[CV]  n_estimators=509, min_samples_split=3, min_samples_leaf=1, max_features=log2, max_depth=26, criterion=mae, total=   4.3s\n",
            "[CV] n_estimators=509, min_samples_split=3, min_samples_leaf=1, max_features=log2, max_depth=26, criterion=mae \n",
            "[CV]  n_estimators=509, min_samples_split=3, min_samples_leaf=1, max_features=log2, max_depth=26, criterion=mae, total=   4.3s\n",
            "[CV] n_estimators=554, min_samples_split=7, min_samples_leaf=2, max_features=sqrt, max_depth=44, criterion=mae \n",
            "[CV]  n_estimators=554, min_samples_split=7, min_samples_leaf=2, max_features=sqrt, max_depth=44, criterion=mae, total=   3.3s\n",
            "[CV] n_estimators=554, min_samples_split=7, min_samples_leaf=2, max_features=sqrt, max_depth=44, criterion=mae \n",
            "[CV]  n_estimators=554, min_samples_split=7, min_samples_leaf=2, max_features=sqrt, max_depth=44, criterion=mae, total=   3.4s\n",
            "[CV] n_estimators=554, min_samples_split=7, min_samples_leaf=2, max_features=sqrt, max_depth=44, criterion=mae \n",
            "[CV]  n_estimators=554, min_samples_split=7, min_samples_leaf=2, max_features=sqrt, max_depth=44, criterion=mae, total=   3.4s\n",
            "[CV] n_estimators=554, min_samples_split=7, min_samples_leaf=2, max_features=sqrt, max_depth=44, criterion=mae \n",
            "[CV]  n_estimators=554, min_samples_split=7, min_samples_leaf=2, max_features=sqrt, max_depth=44, criterion=mae, total=   3.3s\n",
            "[CV] n_estimators=554, min_samples_split=7, min_samples_leaf=2, max_features=sqrt, max_depth=44, criterion=mae \n",
            "[CV]  n_estimators=554, min_samples_split=7, min_samples_leaf=2, max_features=sqrt, max_depth=44, criterion=mae, total=   3.3s\n",
            "[CV] n_estimators=372, min_samples_split=3, min_samples_leaf=2, max_features=sqrt, max_depth=44, criterion=mae \n",
            "[CV]  n_estimators=372, min_samples_split=3, min_samples_leaf=2, max_features=sqrt, max_depth=44, criterion=mae, total=   2.3s\n",
            "[CV] n_estimators=372, min_samples_split=3, min_samples_leaf=2, max_features=sqrt, max_depth=44, criterion=mae \n",
            "[CV]  n_estimators=372, min_samples_split=3, min_samples_leaf=2, max_features=sqrt, max_depth=44, criterion=mae, total=   2.3s\n",
            "[CV] n_estimators=372, min_samples_split=3, min_samples_leaf=2, max_features=sqrt, max_depth=44, criterion=mae \n",
            "[CV]  n_estimators=372, min_samples_split=3, min_samples_leaf=2, max_features=sqrt, max_depth=44, criterion=mae, total=   2.3s\n",
            "[CV] n_estimators=372, min_samples_split=3, min_samples_leaf=2, max_features=sqrt, max_depth=44, criterion=mae \n",
            "[CV]  n_estimators=372, min_samples_split=3, min_samples_leaf=2, max_features=sqrt, max_depth=44, criterion=mae, total=   2.3s\n",
            "[CV] n_estimators=372, min_samples_split=3, min_samples_leaf=2, max_features=sqrt, max_depth=44, criterion=mae \n",
            "[CV]  n_estimators=372, min_samples_split=3, min_samples_leaf=2, max_features=sqrt, max_depth=44, criterion=mae, total=   2.3s\n",
            "[CV] n_estimators=554, min_samples_split=4, min_samples_leaf=2, max_features=sqrt, max_depth=26, criterion=mse \n",
            "[CV]  n_estimators=554, min_samples_split=4, min_samples_leaf=2, max_features=sqrt, max_depth=26, criterion=mse, total=   0.7s\n",
            "[CV] n_estimators=554, min_samples_split=4, min_samples_leaf=2, max_features=sqrt, max_depth=26, criterion=mse \n",
            "[CV]  n_estimators=554, min_samples_split=4, min_samples_leaf=2, max_features=sqrt, max_depth=26, criterion=mse, total=   0.8s\n",
            "[CV] n_estimators=554, min_samples_split=4, min_samples_leaf=2, max_features=sqrt, max_depth=26, criterion=mse \n",
            "[CV]  n_estimators=554, min_samples_split=4, min_samples_leaf=2, max_features=sqrt, max_depth=26, criterion=mse, total=   0.7s\n",
            "[CV] n_estimators=554, min_samples_split=4, min_samples_leaf=2, max_features=sqrt, max_depth=26, criterion=mse \n",
            "[CV]  n_estimators=554, min_samples_split=4, min_samples_leaf=2, max_features=sqrt, max_depth=26, criterion=mse, total=   0.7s\n",
            "[CV] n_estimators=554, min_samples_split=4, min_samples_leaf=2, max_features=sqrt, max_depth=26, criterion=mse \n",
            "[CV]  n_estimators=554, min_samples_split=4, min_samples_leaf=2, max_features=sqrt, max_depth=26, criterion=mse, total=   0.7s\n",
            "[CV] n_estimators=327, min_samples_split=3, min_samples_leaf=2, max_features=sqrt, max_depth=38, criterion=mae \n",
            "[CV]  n_estimators=327, min_samples_split=3, min_samples_leaf=2, max_features=sqrt, max_depth=38, criterion=mae, total=   2.0s\n",
            "[CV] n_estimators=327, min_samples_split=3, min_samples_leaf=2, max_features=sqrt, max_depth=38, criterion=mae \n",
            "[CV]  n_estimators=327, min_samples_split=3, min_samples_leaf=2, max_features=sqrt, max_depth=38, criterion=mae, total=   2.1s\n",
            "[CV] n_estimators=327, min_samples_split=3, min_samples_leaf=2, max_features=sqrt, max_depth=38, criterion=mae \n",
            "[CV]  n_estimators=327, min_samples_split=3, min_samples_leaf=2, max_features=sqrt, max_depth=38, criterion=mae, total=   2.1s\n",
            "[CV] n_estimators=327, min_samples_split=3, min_samples_leaf=2, max_features=sqrt, max_depth=38, criterion=mae \n",
            "[CV]  n_estimators=327, min_samples_split=3, min_samples_leaf=2, max_features=sqrt, max_depth=38, criterion=mae, total=   2.0s\n",
            "[CV] n_estimators=327, min_samples_split=3, min_samples_leaf=2, max_features=sqrt, max_depth=38, criterion=mae \n",
            "[CV]  n_estimators=327, min_samples_split=3, min_samples_leaf=2, max_features=sqrt, max_depth=38, criterion=mae, total=   2.0s\n",
            "[CV] n_estimators=281, min_samples_split=6, min_samples_leaf=2, max_features=auto, max_depth=50, criterion=mse \n",
            "[CV]  n_estimators=281, min_samples_split=6, min_samples_leaf=2, max_features=auto, max_depth=50, criterion=mse, total=   0.5s\n",
            "[CV] n_estimators=281, min_samples_split=6, min_samples_leaf=2, max_features=auto, max_depth=50, criterion=mse \n",
            "[CV]  n_estimators=281, min_samples_split=6, min_samples_leaf=2, max_features=auto, max_depth=50, criterion=mse, total=   0.5s\n",
            "[CV] n_estimators=281, min_samples_split=6, min_samples_leaf=2, max_features=auto, max_depth=50, criterion=mse \n",
            "[CV]  n_estimators=281, min_samples_split=6, min_samples_leaf=2, max_features=auto, max_depth=50, criterion=mse, total=   0.5s\n",
            "[CV] n_estimators=281, min_samples_split=6, min_samples_leaf=2, max_features=auto, max_depth=50, criterion=mse \n",
            "[CV]  n_estimators=281, min_samples_split=6, min_samples_leaf=2, max_features=auto, max_depth=50, criterion=mse, total=   0.5s\n",
            "[CV] n_estimators=281, min_samples_split=6, min_samples_leaf=2, max_features=auto, max_depth=50, criterion=mse \n",
            "[CV]  n_estimators=281, min_samples_split=6, min_samples_leaf=2, max_features=auto, max_depth=50, criterion=mse, total=   0.5s\n",
            "[CV] n_estimators=463, min_samples_split=7, min_samples_leaf=1, max_features=auto, max_depth=32, criterion=mae \n",
            "[CV]  n_estimators=463, min_samples_split=7, min_samples_leaf=1, max_features=auto, max_depth=32, criterion=mae, total=   6.5s\n",
            "[CV] n_estimators=463, min_samples_split=7, min_samples_leaf=1, max_features=auto, max_depth=32, criterion=mae \n",
            "[CV]  n_estimators=463, min_samples_split=7, min_samples_leaf=1, max_features=auto, max_depth=32, criterion=mae, total=   6.6s\n",
            "[CV] n_estimators=463, min_samples_split=7, min_samples_leaf=1, max_features=auto, max_depth=32, criterion=mae \n",
            "[CV]  n_estimators=463, min_samples_split=7, min_samples_leaf=1, max_features=auto, max_depth=32, criterion=mae, total=   6.6s\n",
            "[CV] n_estimators=463, min_samples_split=7, min_samples_leaf=1, max_features=auto, max_depth=32, criterion=mae \n",
            "[CV]  n_estimators=463, min_samples_split=7, min_samples_leaf=1, max_features=auto, max_depth=32, criterion=mae, total=   6.5s\n",
            "[CV] n_estimators=463, min_samples_split=7, min_samples_leaf=1, max_features=auto, max_depth=32, criterion=mae \n",
            "[CV]  n_estimators=463, min_samples_split=7, min_samples_leaf=1, max_features=auto, max_depth=32, criterion=mae, total=   6.5s\n",
            "[CV] n_estimators=600, min_samples_split=7, min_samples_leaf=1, max_features=auto, max_depth=38, criterion=mse \n",
            "[CV]  n_estimators=600, min_samples_split=7, min_samples_leaf=1, max_features=auto, max_depth=38, criterion=mse, total=   1.0s\n",
            "[CV] n_estimators=600, min_samples_split=7, min_samples_leaf=1, max_features=auto, max_depth=38, criterion=mse \n",
            "[CV]  n_estimators=600, min_samples_split=7, min_samples_leaf=1, max_features=auto, max_depth=38, criterion=mse, total=   1.1s\n",
            "[CV] n_estimators=600, min_samples_split=7, min_samples_leaf=1, max_features=auto, max_depth=38, criterion=mse \n",
            "[CV]  n_estimators=600, min_samples_split=7, min_samples_leaf=1, max_features=auto, max_depth=38, criterion=mse, total=   1.1s\n",
            "[CV] n_estimators=600, min_samples_split=7, min_samples_leaf=1, max_features=auto, max_depth=38, criterion=mse \n",
            "[CV]  n_estimators=600, min_samples_split=7, min_samples_leaf=1, max_features=auto, max_depth=38, criterion=mse, total=   1.0s\n",
            "[CV] n_estimators=600, min_samples_split=7, min_samples_leaf=1, max_features=auto, max_depth=38, criterion=mse \n",
            "[CV]  n_estimators=600, min_samples_split=7, min_samples_leaf=1, max_features=auto, max_depth=38, criterion=mse, total=   1.0s\n",
            "[CV] n_estimators=100, min_samples_split=3, min_samples_leaf=2, max_features=auto, max_depth=20, criterion=mae \n",
            "[CV]  n_estimators=100, min_samples_split=3, min_samples_leaf=2, max_features=auto, max_depth=20, criterion=mae, total=   1.4s\n",
            "[CV] n_estimators=100, min_samples_split=3, min_samples_leaf=2, max_features=auto, max_depth=20, criterion=mae \n",
            "[CV]  n_estimators=100, min_samples_split=3, min_samples_leaf=2, max_features=auto, max_depth=20, criterion=mae, total=   1.4s\n",
            "[CV] n_estimators=100, min_samples_split=3, min_samples_leaf=2, max_features=auto, max_depth=20, criterion=mae \n",
            "[CV]  n_estimators=100, min_samples_split=3, min_samples_leaf=2, max_features=auto, max_depth=20, criterion=mae, total=   1.4s\n",
            "[CV] n_estimators=100, min_samples_split=3, min_samples_leaf=2, max_features=auto, max_depth=20, criterion=mae \n",
            "[CV]  n_estimators=100, min_samples_split=3, min_samples_leaf=2, max_features=auto, max_depth=20, criterion=mae, total=   1.4s\n",
            "[CV] n_estimators=100, min_samples_split=3, min_samples_leaf=2, max_features=auto, max_depth=20, criterion=mae \n",
            "[CV]  n_estimators=100, min_samples_split=3, min_samples_leaf=2, max_features=auto, max_depth=20, criterion=mae, total=   1.4s\n",
            "[CV] n_estimators=236, min_samples_split=6, min_samples_leaf=2, max_features=sqrt, max_depth=38, criterion=mse \n",
            "[CV]  n_estimators=236, min_samples_split=6, min_samples_leaf=2, max_features=sqrt, max_depth=38, criterion=mse, total=   0.3s\n",
            "[CV] n_estimators=236, min_samples_split=6, min_samples_leaf=2, max_features=sqrt, max_depth=38, criterion=mse \n",
            "[CV]  n_estimators=236, min_samples_split=6, min_samples_leaf=2, max_features=sqrt, max_depth=38, criterion=mse, total=   0.3s\n",
            "[CV] n_estimators=236, min_samples_split=6, min_samples_leaf=2, max_features=sqrt, max_depth=38, criterion=mse \n",
            "[CV]  n_estimators=236, min_samples_split=6, min_samples_leaf=2, max_features=sqrt, max_depth=38, criterion=mse, total=   0.3s\n",
            "[CV] n_estimators=236, min_samples_split=6, min_samples_leaf=2, max_features=sqrt, max_depth=38, criterion=mse \n",
            "[CV]  n_estimators=236, min_samples_split=6, min_samples_leaf=2, max_features=sqrt, max_depth=38, criterion=mse, total=   0.3s\n",
            "[CV] n_estimators=236, min_samples_split=6, min_samples_leaf=2, max_features=sqrt, max_depth=38, criterion=mse \n",
            "[CV]  n_estimators=236, min_samples_split=6, min_samples_leaf=2, max_features=sqrt, max_depth=38, criterion=mse, total=   0.3s\n",
            "[CV] n_estimators=463, min_samples_split=4, min_samples_leaf=2, max_features=sqrt, max_depth=32, criterion=mse \n",
            "[CV]  n_estimators=463, min_samples_split=4, min_samples_leaf=2, max_features=sqrt, max_depth=32, criterion=mse, total=   0.6s\n",
            "[CV] n_estimators=463, min_samples_split=4, min_samples_leaf=2, max_features=sqrt, max_depth=32, criterion=mse \n",
            "[CV]  n_estimators=463, min_samples_split=4, min_samples_leaf=2, max_features=sqrt, max_depth=32, criterion=mse, total=   0.6s\n",
            "[CV] n_estimators=463, min_samples_split=4, min_samples_leaf=2, max_features=sqrt, max_depth=32, criterion=mse \n",
            "[CV]  n_estimators=463, min_samples_split=4, min_samples_leaf=2, max_features=sqrt, max_depth=32, criterion=mse, total=   0.6s\n",
            "[CV] n_estimators=463, min_samples_split=4, min_samples_leaf=2, max_features=sqrt, max_depth=32, criterion=mse \n",
            "[CV]  n_estimators=463, min_samples_split=4, min_samples_leaf=2, max_features=sqrt, max_depth=32, criterion=mse, total=   0.6s\n",
            "[CV] n_estimators=463, min_samples_split=4, min_samples_leaf=2, max_features=sqrt, max_depth=32, criterion=mse \n",
            "[CV]  n_estimators=463, min_samples_split=4, min_samples_leaf=2, max_features=sqrt, max_depth=32, criterion=mse, total=   0.6s\n",
            "[CV] n_estimators=463, min_samples_split=4, min_samples_leaf=2, max_features=sqrt, max_depth=50, criterion=mse \n",
            "[CV]  n_estimators=463, min_samples_split=4, min_samples_leaf=2, max_features=sqrt, max_depth=50, criterion=mse, total=   0.6s\n",
            "[CV] n_estimators=463, min_samples_split=4, min_samples_leaf=2, max_features=sqrt, max_depth=50, criterion=mse \n",
            "[CV]  n_estimators=463, min_samples_split=4, min_samples_leaf=2, max_features=sqrt, max_depth=50, criterion=mse, total=   0.6s\n",
            "[CV] n_estimators=463, min_samples_split=4, min_samples_leaf=2, max_features=sqrt, max_depth=50, criterion=mse \n",
            "[CV]  n_estimators=463, min_samples_split=4, min_samples_leaf=2, max_features=sqrt, max_depth=50, criterion=mse, total=   0.6s\n",
            "[CV] n_estimators=463, min_samples_split=4, min_samples_leaf=2, max_features=sqrt, max_depth=50, criterion=mse \n",
            "[CV]  n_estimators=463, min_samples_split=4, min_samples_leaf=2, max_features=sqrt, max_depth=50, criterion=mse, total=   0.6s\n",
            "[CV] n_estimators=463, min_samples_split=4, min_samples_leaf=2, max_features=sqrt, max_depth=50, criterion=mse \n",
            "[CV]  n_estimators=463, min_samples_split=4, min_samples_leaf=2, max_features=sqrt, max_depth=50, criterion=mse, total=   0.6s\n",
            "[CV] n_estimators=418, min_samples_split=5, min_samples_leaf=2, max_features=log2, max_depth=32, criterion=mse \n",
            "[CV]  n_estimators=418, min_samples_split=5, min_samples_leaf=2, max_features=log2, max_depth=32, criterion=mse, total=   0.6s\n",
            "[CV] n_estimators=418, min_samples_split=5, min_samples_leaf=2, max_features=log2, max_depth=32, criterion=mse \n",
            "[CV]  n_estimators=418, min_samples_split=5, min_samples_leaf=2, max_features=log2, max_depth=32, criterion=mse, total=   0.6s\n",
            "[CV] n_estimators=418, min_samples_split=5, min_samples_leaf=2, max_features=log2, max_depth=32, criterion=mse \n",
            "[CV]  n_estimators=418, min_samples_split=5, min_samples_leaf=2, max_features=log2, max_depth=32, criterion=mse, total=   0.6s\n",
            "[CV] n_estimators=418, min_samples_split=5, min_samples_leaf=2, max_features=log2, max_depth=32, criterion=mse \n",
            "[CV]  n_estimators=418, min_samples_split=5, min_samples_leaf=2, max_features=log2, max_depth=32, criterion=mse, total=   0.6s\n",
            "[CV] n_estimators=418, min_samples_split=5, min_samples_leaf=2, max_features=log2, max_depth=32, criterion=mse \n",
            "[CV]  n_estimators=418, min_samples_split=5, min_samples_leaf=2, max_features=log2, max_depth=32, criterion=mse, total=   0.6s\n",
            "[CV] n_estimators=509, min_samples_split=3, min_samples_leaf=1, max_features=log2, max_depth=44, criterion=mae \n",
            "[CV]  n_estimators=509, min_samples_split=3, min_samples_leaf=1, max_features=log2, max_depth=44, criterion=mae, total=   4.3s\n",
            "[CV] n_estimators=509, min_samples_split=3, min_samples_leaf=1, max_features=log2, max_depth=44, criterion=mae \n",
            "[CV]  n_estimators=509, min_samples_split=3, min_samples_leaf=1, max_features=log2, max_depth=44, criterion=mae, total=   4.3s\n",
            "[CV] n_estimators=509, min_samples_split=3, min_samples_leaf=1, max_features=log2, max_depth=44, criterion=mae \n",
            "[CV]  n_estimators=509, min_samples_split=3, min_samples_leaf=1, max_features=log2, max_depth=44, criterion=mae, total=   4.4s\n",
            "[CV] n_estimators=509, min_samples_split=3, min_samples_leaf=1, max_features=log2, max_depth=44, criterion=mae \n",
            "[CV]  n_estimators=509, min_samples_split=3, min_samples_leaf=1, max_features=log2, max_depth=44, criterion=mae, total=   4.3s\n",
            "[CV] n_estimators=509, min_samples_split=3, min_samples_leaf=1, max_features=log2, max_depth=44, criterion=mae \n",
            "[CV]  n_estimators=509, min_samples_split=3, min_samples_leaf=1, max_features=log2, max_depth=44, criterion=mae, total=   4.4s\n",
            "[CV] n_estimators=190, min_samples_split=7, min_samples_leaf=2, max_features=sqrt, max_depth=50, criterion=mae \n",
            "[CV]  n_estimators=190, min_samples_split=7, min_samples_leaf=2, max_features=sqrt, max_depth=50, criterion=mae, total=   1.2s\n",
            "[CV] n_estimators=190, min_samples_split=7, min_samples_leaf=2, max_features=sqrt, max_depth=50, criterion=mae \n",
            "[CV]  n_estimators=190, min_samples_split=7, min_samples_leaf=2, max_features=sqrt, max_depth=50, criterion=mae, total=   1.2s\n",
            "[CV] n_estimators=190, min_samples_split=7, min_samples_leaf=2, max_features=sqrt, max_depth=50, criterion=mae \n",
            "[CV]  n_estimators=190, min_samples_split=7, min_samples_leaf=2, max_features=sqrt, max_depth=50, criterion=mae, total=   1.2s\n",
            "[CV] n_estimators=190, min_samples_split=7, min_samples_leaf=2, max_features=sqrt, max_depth=50, criterion=mae \n",
            "[CV]  n_estimators=190, min_samples_split=7, min_samples_leaf=2, max_features=sqrt, max_depth=50, criterion=mae, total=   1.2s\n",
            "[CV] n_estimators=190, min_samples_split=7, min_samples_leaf=2, max_features=sqrt, max_depth=50, criterion=mae \n",
            "[CV]  n_estimators=190, min_samples_split=7, min_samples_leaf=2, max_features=sqrt, max_depth=50, criterion=mae, total=   1.1s\n",
            "[CV] n_estimators=554, min_samples_split=5, min_samples_leaf=2, max_features=sqrt, max_depth=44, criterion=mse \n",
            "[CV]  n_estimators=554, min_samples_split=5, min_samples_leaf=2, max_features=sqrt, max_depth=44, criterion=mse, total=   0.7s\n",
            "[CV] n_estimators=554, min_samples_split=5, min_samples_leaf=2, max_features=sqrt, max_depth=44, criterion=mse \n",
            "[CV]  n_estimators=554, min_samples_split=5, min_samples_leaf=2, max_features=sqrt, max_depth=44, criterion=mse, total=   0.7s\n",
            "[CV] n_estimators=554, min_samples_split=5, min_samples_leaf=2, max_features=sqrt, max_depth=44, criterion=mse \n",
            "[CV]  n_estimators=554, min_samples_split=5, min_samples_leaf=2, max_features=sqrt, max_depth=44, criterion=mse, total=   0.7s\n",
            "[CV] n_estimators=554, min_samples_split=5, min_samples_leaf=2, max_features=sqrt, max_depth=44, criterion=mse \n",
            "[CV]  n_estimators=554, min_samples_split=5, min_samples_leaf=2, max_features=sqrt, max_depth=44, criterion=mse, total=   0.7s\n",
            "[CV] n_estimators=554, min_samples_split=5, min_samples_leaf=2, max_features=sqrt, max_depth=44, criterion=mse \n",
            "[CV]  n_estimators=554, min_samples_split=5, min_samples_leaf=2, max_features=sqrt, max_depth=44, criterion=mse, total=   0.7s\n",
            "[CV] n_estimators=236, min_samples_split=5, min_samples_leaf=1, max_features=log2, max_depth=44, criterion=mae \n",
            "[CV]  n_estimators=236, min_samples_split=5, min_samples_leaf=1, max_features=log2, max_depth=44, criterion=mae, total=   1.9s\n",
            "[CV] n_estimators=236, min_samples_split=5, min_samples_leaf=1, max_features=log2, max_depth=44, criterion=mae \n",
            "[CV]  n_estimators=236, min_samples_split=5, min_samples_leaf=1, max_features=log2, max_depth=44, criterion=mae, total=   1.9s\n",
            "[CV] n_estimators=236, min_samples_split=5, min_samples_leaf=1, max_features=log2, max_depth=44, criterion=mae \n",
            "[CV]  n_estimators=236, min_samples_split=5, min_samples_leaf=1, max_features=log2, max_depth=44, criterion=mae, total=   1.9s\n",
            "[CV] n_estimators=236, min_samples_split=5, min_samples_leaf=1, max_features=log2, max_depth=44, criterion=mae \n",
            "[CV]  n_estimators=236, min_samples_split=5, min_samples_leaf=1, max_features=log2, max_depth=44, criterion=mae, total=   1.9s\n",
            "[CV] n_estimators=236, min_samples_split=5, min_samples_leaf=1, max_features=log2, max_depth=44, criterion=mae \n",
            "[CV]  n_estimators=236, min_samples_split=5, min_samples_leaf=1, max_features=log2, max_depth=44, criterion=mae, total=   1.9s\n",
            "[CV] n_estimators=281, min_samples_split=6, min_samples_leaf=2, max_features=sqrt, max_depth=38, criterion=mse \n",
            "[CV]  n_estimators=281, min_samples_split=6, min_samples_leaf=2, max_features=sqrt, max_depth=38, criterion=mse, total=   0.4s\n",
            "[CV] n_estimators=281, min_samples_split=6, min_samples_leaf=2, max_features=sqrt, max_depth=38, criterion=mse \n",
            "[CV]  n_estimators=281, min_samples_split=6, min_samples_leaf=2, max_features=sqrt, max_depth=38, criterion=mse, total=   0.4s\n",
            "[CV] n_estimators=281, min_samples_split=6, min_samples_leaf=2, max_features=sqrt, max_depth=38, criterion=mse \n",
            "[CV]  n_estimators=281, min_samples_split=6, min_samples_leaf=2, max_features=sqrt, max_depth=38, criterion=mse, total=   0.4s\n",
            "[CV] n_estimators=281, min_samples_split=6, min_samples_leaf=2, max_features=sqrt, max_depth=38, criterion=mse \n",
            "[CV]  n_estimators=281, min_samples_split=6, min_samples_leaf=2, max_features=sqrt, max_depth=38, criterion=mse, total=   0.4s\n",
            "[CV] n_estimators=281, min_samples_split=6, min_samples_leaf=2, max_features=sqrt, max_depth=38, criterion=mse \n",
            "[CV]  n_estimators=281, min_samples_split=6, min_samples_leaf=2, max_features=sqrt, max_depth=38, criterion=mse, total=   0.4s\n",
            "[CV] n_estimators=463, min_samples_split=4, min_samples_leaf=2, max_features=auto, max_depth=50, criterion=mae \n",
            "[CV]  n_estimators=463, min_samples_split=4, min_samples_leaf=2, max_features=auto, max_depth=50, criterion=mae, total=   6.2s\n",
            "[CV] n_estimators=463, min_samples_split=4, min_samples_leaf=2, max_features=auto, max_depth=50, criterion=mae \n",
            "[CV]  n_estimators=463, min_samples_split=4, min_samples_leaf=2, max_features=auto, max_depth=50, criterion=mae, total=   6.3s\n",
            "[CV] n_estimators=463, min_samples_split=4, min_samples_leaf=2, max_features=auto, max_depth=50, criterion=mae \n",
            "[CV]  n_estimators=463, min_samples_split=4, min_samples_leaf=2, max_features=auto, max_depth=50, criterion=mae, total=   6.3s\n",
            "[CV] n_estimators=463, min_samples_split=4, min_samples_leaf=2, max_features=auto, max_depth=50, criterion=mae \n",
            "[CV]  n_estimators=463, min_samples_split=4, min_samples_leaf=2, max_features=auto, max_depth=50, criterion=mae, total=   6.2s\n",
            "[CV] n_estimators=463, min_samples_split=4, min_samples_leaf=2, max_features=auto, max_depth=50, criterion=mae \n",
            "[CV]  n_estimators=463, min_samples_split=4, min_samples_leaf=2, max_features=auto, max_depth=50, criterion=mae, total=   6.2s\n",
            "[CV] n_estimators=236, min_samples_split=3, min_samples_leaf=3, max_features=sqrt, max_depth=44, criterion=mse \n",
            "[CV]  n_estimators=236, min_samples_split=3, min_samples_leaf=3, max_features=sqrt, max_depth=44, criterion=mse, total=   0.3s\n",
            "[CV] n_estimators=236, min_samples_split=3, min_samples_leaf=3, max_features=sqrt, max_depth=44, criterion=mse \n",
            "[CV]  n_estimators=236, min_samples_split=3, min_samples_leaf=3, max_features=sqrt, max_depth=44, criterion=mse, total=   0.3s\n",
            "[CV] n_estimators=236, min_samples_split=3, min_samples_leaf=3, max_features=sqrt, max_depth=44, criterion=mse \n",
            "[CV]  n_estimators=236, min_samples_split=3, min_samples_leaf=3, max_features=sqrt, max_depth=44, criterion=mse, total=   0.3s\n",
            "[CV] n_estimators=236, min_samples_split=3, min_samples_leaf=3, max_features=sqrt, max_depth=44, criterion=mse \n",
            "[CV]  n_estimators=236, min_samples_split=3, min_samples_leaf=3, max_features=sqrt, max_depth=44, criterion=mse, total=   0.3s\n",
            "[CV] n_estimators=236, min_samples_split=3, min_samples_leaf=3, max_features=sqrt, max_depth=44, criterion=mse \n",
            "[CV]  n_estimators=236, min_samples_split=3, min_samples_leaf=3, max_features=sqrt, max_depth=44, criterion=mse, total=   0.3s\n",
            "[CV] n_estimators=145, min_samples_split=4, min_samples_leaf=3, max_features=auto, max_depth=38, criterion=mae \n",
            "[CV]  n_estimators=145, min_samples_split=4, min_samples_leaf=3, max_features=auto, max_depth=38, criterion=mae, total=   1.8s\n",
            "[CV] n_estimators=145, min_samples_split=4, min_samples_leaf=3, max_features=auto, max_depth=38, criterion=mae \n",
            "[CV]  n_estimators=145, min_samples_split=4, min_samples_leaf=3, max_features=auto, max_depth=38, criterion=mae, total=   1.9s\n",
            "[CV] n_estimators=145, min_samples_split=4, min_samples_leaf=3, max_features=auto, max_depth=38, criterion=mae \n",
            "[CV]  n_estimators=145, min_samples_split=4, min_samples_leaf=3, max_features=auto, max_depth=38, criterion=mae, total=   1.8s\n",
            "[CV] n_estimators=145, min_samples_split=4, min_samples_leaf=3, max_features=auto, max_depth=38, criterion=mae \n",
            "[CV]  n_estimators=145, min_samples_split=4, min_samples_leaf=3, max_features=auto, max_depth=38, criterion=mae, total=   1.8s\n",
            "[CV] n_estimators=145, min_samples_split=4, min_samples_leaf=3, max_features=auto, max_depth=38, criterion=mae \n",
            "[CV]  n_estimators=145, min_samples_split=4, min_samples_leaf=3, max_features=auto, max_depth=38, criterion=mae, total=   1.8s\n",
            "[CV] n_estimators=509, min_samples_split=5, min_samples_leaf=3, max_features=log2, max_depth=50, criterion=mse \n",
            "[CV]  n_estimators=509, min_samples_split=5, min_samples_leaf=3, max_features=log2, max_depth=50, criterion=mse, total=   0.7s\n",
            "[CV] n_estimators=509, min_samples_split=5, min_samples_leaf=3, max_features=log2, max_depth=50, criterion=mse \n",
            "[CV]  n_estimators=509, min_samples_split=5, min_samples_leaf=3, max_features=log2, max_depth=50, criterion=mse, total=   0.7s\n",
            "[CV] n_estimators=509, min_samples_split=5, min_samples_leaf=3, max_features=log2, max_depth=50, criterion=mse \n",
            "[CV]  n_estimators=509, min_samples_split=5, min_samples_leaf=3, max_features=log2, max_depth=50, criterion=mse, total=   0.7s\n",
            "[CV] n_estimators=509, min_samples_split=5, min_samples_leaf=3, max_features=log2, max_depth=50, criterion=mse \n",
            "[CV]  n_estimators=509, min_samples_split=5, min_samples_leaf=3, max_features=log2, max_depth=50, criterion=mse, total=   0.7s\n",
            "[CV] n_estimators=509, min_samples_split=5, min_samples_leaf=3, max_features=log2, max_depth=50, criterion=mse \n",
            "[CV]  n_estimators=509, min_samples_split=5, min_samples_leaf=3, max_features=log2, max_depth=50, criterion=mse, total=   0.7s\n",
            "[CV] n_estimators=600, min_samples_split=4, min_samples_leaf=2, max_features=log2, max_depth=44, criterion=mae \n",
            "[CV]  n_estimators=600, min_samples_split=4, min_samples_leaf=2, max_features=log2, max_depth=44, criterion=mae, total=   4.5s\n",
            "[CV] n_estimators=600, min_samples_split=4, min_samples_leaf=2, max_features=log2, max_depth=44, criterion=mae \n",
            "[CV]  n_estimators=600, min_samples_split=4, min_samples_leaf=2, max_features=log2, max_depth=44, criterion=mae, total=   4.6s\n",
            "[CV] n_estimators=600, min_samples_split=4, min_samples_leaf=2, max_features=log2, max_depth=44, criterion=mae \n",
            "[CV]  n_estimators=600, min_samples_split=4, min_samples_leaf=2, max_features=log2, max_depth=44, criterion=mae, total=   4.5s\n",
            "[CV] n_estimators=600, min_samples_split=4, min_samples_leaf=2, max_features=log2, max_depth=44, criterion=mae \n",
            "[CV]  n_estimators=600, min_samples_split=4, min_samples_leaf=2, max_features=log2, max_depth=44, criterion=mae, total=   4.5s\n",
            "[CV] n_estimators=600, min_samples_split=4, min_samples_leaf=2, max_features=log2, max_depth=44, criterion=mae \n",
            "[CV]  n_estimators=600, min_samples_split=4, min_samples_leaf=2, max_features=log2, max_depth=44, criterion=mae, total=   4.5s\n",
            "[CV] n_estimators=281, min_samples_split=5, min_samples_leaf=1, max_features=log2, max_depth=32, criterion=mae \n",
            "[CV]  n_estimators=281, min_samples_split=5, min_samples_leaf=1, max_features=log2, max_depth=32, criterion=mae, total=   2.3s\n",
            "[CV] n_estimators=281, min_samples_split=5, min_samples_leaf=1, max_features=log2, max_depth=32, criterion=mae \n",
            "[CV]  n_estimators=281, min_samples_split=5, min_samples_leaf=1, max_features=log2, max_depth=32, criterion=mae, total=   2.3s\n",
            "[CV] n_estimators=281, min_samples_split=5, min_samples_leaf=1, max_features=log2, max_depth=32, criterion=mae \n",
            "[CV]  n_estimators=281, min_samples_split=5, min_samples_leaf=1, max_features=log2, max_depth=32, criterion=mae, total=   2.3s\n",
            "[CV] n_estimators=281, min_samples_split=5, min_samples_leaf=1, max_features=log2, max_depth=32, criterion=mae \n",
            "[CV]  n_estimators=281, min_samples_split=5, min_samples_leaf=1, max_features=log2, max_depth=32, criterion=mae, total=   2.3s\n",
            "[CV] n_estimators=281, min_samples_split=5, min_samples_leaf=1, max_features=log2, max_depth=32, criterion=mae \n",
            "[CV]  n_estimators=281, min_samples_split=5, min_samples_leaf=1, max_features=log2, max_depth=32, criterion=mae, total=   2.3s\n",
            "[CV] n_estimators=463, min_samples_split=3, min_samples_leaf=3, max_features=log2, max_depth=26, criterion=mse \n",
            "[CV]  n_estimators=463, min_samples_split=3, min_samples_leaf=3, max_features=log2, max_depth=26, criterion=mse, total=   0.6s\n",
            "[CV] n_estimators=463, min_samples_split=3, min_samples_leaf=3, max_features=log2, max_depth=26, criterion=mse \n",
            "[CV]  n_estimators=463, min_samples_split=3, min_samples_leaf=3, max_features=log2, max_depth=26, criterion=mse, total=   0.6s\n",
            "[CV] n_estimators=463, min_samples_split=3, min_samples_leaf=3, max_features=log2, max_depth=26, criterion=mse \n",
            "[CV]  n_estimators=463, min_samples_split=3, min_samples_leaf=3, max_features=log2, max_depth=26, criterion=mse, total=   0.6s\n",
            "[CV] n_estimators=463, min_samples_split=3, min_samples_leaf=3, max_features=log2, max_depth=26, criterion=mse \n",
            "[CV]  n_estimators=463, min_samples_split=3, min_samples_leaf=3, max_features=log2, max_depth=26, criterion=mse, total=   0.6s\n",
            "[CV] n_estimators=463, min_samples_split=3, min_samples_leaf=3, max_features=log2, max_depth=26, criterion=mse \n",
            "[CV]  n_estimators=463, min_samples_split=3, min_samples_leaf=3, max_features=log2, max_depth=26, criterion=mse, total=   0.6s\n",
            "[CV] n_estimators=600, min_samples_split=3, min_samples_leaf=3, max_features=log2, max_depth=44, criterion=mse \n",
            "[CV]  n_estimators=600, min_samples_split=3, min_samples_leaf=3, max_features=log2, max_depth=44, criterion=mse, total=   0.8s\n",
            "[CV] n_estimators=600, min_samples_split=3, min_samples_leaf=3, max_features=log2, max_depth=44, criterion=mse \n",
            "[CV]  n_estimators=600, min_samples_split=3, min_samples_leaf=3, max_features=log2, max_depth=44, criterion=mse, total=   0.8s\n",
            "[CV] n_estimators=600, min_samples_split=3, min_samples_leaf=3, max_features=log2, max_depth=44, criterion=mse \n",
            "[CV]  n_estimators=600, min_samples_split=3, min_samples_leaf=3, max_features=log2, max_depth=44, criterion=mse, total=   0.8s\n",
            "[CV] n_estimators=600, min_samples_split=3, min_samples_leaf=3, max_features=log2, max_depth=44, criterion=mse \n",
            "[CV]  n_estimators=600, min_samples_split=3, min_samples_leaf=3, max_features=log2, max_depth=44, criterion=mse, total=   0.8s\n",
            "[CV] n_estimators=600, min_samples_split=3, min_samples_leaf=3, max_features=log2, max_depth=44, criterion=mse \n",
            "[CV]  n_estimators=600, min_samples_split=3, min_samples_leaf=3, max_features=log2, max_depth=44, criterion=mse, total=   0.8s\n",
            "[CV] n_estimators=418, min_samples_split=3, min_samples_leaf=2, max_features=sqrt, max_depth=26, criterion=mae \n",
            "[CV]  n_estimators=418, min_samples_split=3, min_samples_leaf=2, max_features=sqrt, max_depth=26, criterion=mae, total=   2.6s\n",
            "[CV] n_estimators=418, min_samples_split=3, min_samples_leaf=2, max_features=sqrt, max_depth=26, criterion=mae \n",
            "[CV]  n_estimators=418, min_samples_split=3, min_samples_leaf=2, max_features=sqrt, max_depth=26, criterion=mae, total=   2.6s\n",
            "[CV] n_estimators=418, min_samples_split=3, min_samples_leaf=2, max_features=sqrt, max_depth=26, criterion=mae \n",
            "[CV]  n_estimators=418, min_samples_split=3, min_samples_leaf=2, max_features=sqrt, max_depth=26, criterion=mae, total=   2.6s\n",
            "[CV] n_estimators=418, min_samples_split=3, min_samples_leaf=2, max_features=sqrt, max_depth=26, criterion=mae \n",
            "[CV]  n_estimators=418, min_samples_split=3, min_samples_leaf=2, max_features=sqrt, max_depth=26, criterion=mae, total=   2.6s\n",
            "[CV] n_estimators=418, min_samples_split=3, min_samples_leaf=2, max_features=sqrt, max_depth=26, criterion=mae \n",
            "[CV]  n_estimators=418, min_samples_split=3, min_samples_leaf=2, max_features=sqrt, max_depth=26, criterion=mae, total=   2.6s\n",
            "[CV] n_estimators=236, min_samples_split=3, min_samples_leaf=1, max_features=sqrt, max_depth=50, criterion=mse \n",
            "[CV]  n_estimators=236, min_samples_split=3, min_samples_leaf=1, max_features=sqrt, max_depth=50, criterion=mse, total=   0.4s\n",
            "[CV] n_estimators=236, min_samples_split=3, min_samples_leaf=1, max_features=sqrt, max_depth=50, criterion=mse \n",
            "[CV]  n_estimators=236, min_samples_split=3, min_samples_leaf=1, max_features=sqrt, max_depth=50, criterion=mse, total=   0.3s\n",
            "[CV] n_estimators=236, min_samples_split=3, min_samples_leaf=1, max_features=sqrt, max_depth=50, criterion=mse \n",
            "[CV]  n_estimators=236, min_samples_split=3, min_samples_leaf=1, max_features=sqrt, max_depth=50, criterion=mse, total=   0.4s\n",
            "[CV] n_estimators=236, min_samples_split=3, min_samples_leaf=1, max_features=sqrt, max_depth=50, criterion=mse \n",
            "[CV]  n_estimators=236, min_samples_split=3, min_samples_leaf=1, max_features=sqrt, max_depth=50, criterion=mse, total=   0.3s\n",
            "[CV] n_estimators=236, min_samples_split=3, min_samples_leaf=1, max_features=sqrt, max_depth=50, criterion=mse \n",
            "[CV]  n_estimators=236, min_samples_split=3, min_samples_leaf=1, max_features=sqrt, max_depth=50, criterion=mse, total=   0.3s\n",
            "[CV] n_estimators=418, min_samples_split=5, min_samples_leaf=2, max_features=log2, max_depth=26, criterion=mae \n",
            "[CV]  n_estimators=418, min_samples_split=5, min_samples_leaf=2, max_features=log2, max_depth=26, criterion=mae, total=   3.2s\n",
            "[CV] n_estimators=418, min_samples_split=5, min_samples_leaf=2, max_features=log2, max_depth=26, criterion=mae \n",
            "[CV]  n_estimators=418, min_samples_split=5, min_samples_leaf=2, max_features=log2, max_depth=26, criterion=mae, total=   3.2s\n",
            "[CV] n_estimators=418, min_samples_split=5, min_samples_leaf=2, max_features=log2, max_depth=26, criterion=mae \n",
            "[CV]  n_estimators=418, min_samples_split=5, min_samples_leaf=2, max_features=log2, max_depth=26, criterion=mae, total=   3.1s\n",
            "[CV] n_estimators=418, min_samples_split=5, min_samples_leaf=2, max_features=log2, max_depth=26, criterion=mae \n",
            "[CV]  n_estimators=418, min_samples_split=5, min_samples_leaf=2, max_features=log2, max_depth=26, criterion=mae, total=   3.1s\n",
            "[CV] n_estimators=418, min_samples_split=5, min_samples_leaf=2, max_features=log2, max_depth=26, criterion=mae \n",
            "[CV]  n_estimators=418, min_samples_split=5, min_samples_leaf=2, max_features=log2, max_depth=26, criterion=mae, total=   3.1s\n",
            "[CV] n_estimators=145, min_samples_split=4, min_samples_leaf=2, max_features=sqrt, max_depth=50, criterion=mae \n",
            "[CV]  n_estimators=145, min_samples_split=4, min_samples_leaf=2, max_features=sqrt, max_depth=50, criterion=mae, total=   0.9s\n",
            "[CV] n_estimators=145, min_samples_split=4, min_samples_leaf=2, max_features=sqrt, max_depth=50, criterion=mae \n",
            "[CV]  n_estimators=145, min_samples_split=4, min_samples_leaf=2, max_features=sqrt, max_depth=50, criterion=mae, total=   0.9s\n",
            "[CV] n_estimators=145, min_samples_split=4, min_samples_leaf=2, max_features=sqrt, max_depth=50, criterion=mae \n",
            "[CV]  n_estimators=145, min_samples_split=4, min_samples_leaf=2, max_features=sqrt, max_depth=50, criterion=mae, total=   0.9s\n",
            "[CV] n_estimators=145, min_samples_split=4, min_samples_leaf=2, max_features=sqrt, max_depth=50, criterion=mae \n",
            "[CV]  n_estimators=145, min_samples_split=4, min_samples_leaf=2, max_features=sqrt, max_depth=50, criterion=mae, total=   0.9s\n",
            "[CV] n_estimators=145, min_samples_split=4, min_samples_leaf=2, max_features=sqrt, max_depth=50, criterion=mae \n",
            "[CV]  n_estimators=145, min_samples_split=4, min_samples_leaf=2, max_features=sqrt, max_depth=50, criterion=mae, total=   0.9s\n",
            "[CV] n_estimators=600, min_samples_split=4, min_samples_leaf=2, max_features=sqrt, max_depth=20, criterion=mae \n",
            "[CV]  n_estimators=600, min_samples_split=4, min_samples_leaf=2, max_features=sqrt, max_depth=20, criterion=mae, total=   3.8s\n",
            "[CV] n_estimators=600, min_samples_split=4, min_samples_leaf=2, max_features=sqrt, max_depth=20, criterion=mae \n",
            "[CV]  n_estimators=600, min_samples_split=4, min_samples_leaf=2, max_features=sqrt, max_depth=20, criterion=mae, total=   3.7s\n",
            "[CV] n_estimators=600, min_samples_split=4, min_samples_leaf=2, max_features=sqrt, max_depth=20, criterion=mae \n",
            "[CV]  n_estimators=600, min_samples_split=4, min_samples_leaf=2, max_features=sqrt, max_depth=20, criterion=mae, total=   3.7s\n",
            "[CV] n_estimators=600, min_samples_split=4, min_samples_leaf=2, max_features=sqrt, max_depth=20, criterion=mae \n",
            "[CV]  n_estimators=600, min_samples_split=4, min_samples_leaf=2, max_features=sqrt, max_depth=20, criterion=mae, total=   3.7s\n",
            "[CV] n_estimators=600, min_samples_split=4, min_samples_leaf=2, max_features=sqrt, max_depth=20, criterion=mae \n",
            "[CV]  n_estimators=600, min_samples_split=4, min_samples_leaf=2, max_features=sqrt, max_depth=20, criterion=mae, total=   3.7s\n",
            "[CV] n_estimators=509, min_samples_split=7, min_samples_leaf=3, max_features=log2, max_depth=20, criterion=mae \n",
            "[CV]  n_estimators=509, min_samples_split=7, min_samples_leaf=3, max_features=log2, max_depth=20, criterion=mae, total=   3.5s\n",
            "[CV] n_estimators=509, min_samples_split=7, min_samples_leaf=3, max_features=log2, max_depth=20, criterion=mae \n",
            "[CV]  n_estimators=509, min_samples_split=7, min_samples_leaf=3, max_features=log2, max_depth=20, criterion=mae, total=   3.6s\n",
            "[CV] n_estimators=509, min_samples_split=7, min_samples_leaf=3, max_features=log2, max_depth=20, criterion=mae \n",
            "[CV]  n_estimators=509, min_samples_split=7, min_samples_leaf=3, max_features=log2, max_depth=20, criterion=mae, total=   3.6s\n",
            "[CV] n_estimators=509, min_samples_split=7, min_samples_leaf=3, max_features=log2, max_depth=20, criterion=mae \n",
            "[CV]  n_estimators=509, min_samples_split=7, min_samples_leaf=3, max_features=log2, max_depth=20, criterion=mae, total=   3.6s\n",
            "[CV] n_estimators=509, min_samples_split=7, min_samples_leaf=3, max_features=log2, max_depth=20, criterion=mae \n",
            "[CV]  n_estimators=509, min_samples_split=7, min_samples_leaf=3, max_features=log2, max_depth=20, criterion=mae, total=   3.5s\n",
            "[CV] n_estimators=145, min_samples_split=5, min_samples_leaf=1, max_features=sqrt, max_depth=44, criterion=mse \n",
            "[CV]  n_estimators=145, min_samples_split=5, min_samples_leaf=1, max_features=sqrt, max_depth=44, criterion=mse, total=   0.2s\n",
            "[CV] n_estimators=145, min_samples_split=5, min_samples_leaf=1, max_features=sqrt, max_depth=44, criterion=mse \n",
            "[CV]  n_estimators=145, min_samples_split=5, min_samples_leaf=1, max_features=sqrt, max_depth=44, criterion=mse, total=   0.2s\n",
            "[CV] n_estimators=145, min_samples_split=5, min_samples_leaf=1, max_features=sqrt, max_depth=44, criterion=mse \n",
            "[CV]  n_estimators=145, min_samples_split=5, min_samples_leaf=1, max_features=sqrt, max_depth=44, criterion=mse, total=   0.2s\n",
            "[CV] n_estimators=145, min_samples_split=5, min_samples_leaf=1, max_features=sqrt, max_depth=44, criterion=mse \n",
            "[CV]  n_estimators=145, min_samples_split=5, min_samples_leaf=1, max_features=sqrt, max_depth=44, criterion=mse, total=   0.2s\n",
            "[CV] n_estimators=145, min_samples_split=5, min_samples_leaf=1, max_features=sqrt, max_depth=44, criterion=mse \n",
            "[CV]  n_estimators=145, min_samples_split=5, min_samples_leaf=1, max_features=sqrt, max_depth=44, criterion=mse, total=   0.2s\n",
            "[CV] n_estimators=372, min_samples_split=4, min_samples_leaf=1, max_features=auto, max_depth=38, criterion=mae \n",
            "[CV]  n_estimators=372, min_samples_split=4, min_samples_leaf=1, max_features=auto, max_depth=38, criterion=mae, total=   5.5s\n",
            "[CV] n_estimators=372, min_samples_split=4, min_samples_leaf=1, max_features=auto, max_depth=38, criterion=mae \n",
            "[CV]  n_estimators=372, min_samples_split=4, min_samples_leaf=1, max_features=auto, max_depth=38, criterion=mae, total=   5.7s\n",
            "[CV] n_estimators=372, min_samples_split=4, min_samples_leaf=1, max_features=auto, max_depth=38, criterion=mae \n",
            "[CV]  n_estimators=372, min_samples_split=4, min_samples_leaf=1, max_features=auto, max_depth=38, criterion=mae, total=   5.6s\n",
            "[CV] n_estimators=372, min_samples_split=4, min_samples_leaf=1, max_features=auto, max_depth=38, criterion=mae \n",
            "[CV]  n_estimators=372, min_samples_split=4, min_samples_leaf=1, max_features=auto, max_depth=38, criterion=mae, total=   5.5s\n",
            "[CV] n_estimators=372, min_samples_split=4, min_samples_leaf=1, max_features=auto, max_depth=38, criterion=mae \n",
            "[CV]  n_estimators=372, min_samples_split=4, min_samples_leaf=1, max_features=auto, max_depth=38, criterion=mae, total=   5.7s\n",
            "[CV] n_estimators=600, min_samples_split=6, min_samples_leaf=3, max_features=log2, max_depth=20, criterion=mae \n",
            "[CV]  n_estimators=600, min_samples_split=6, min_samples_leaf=3, max_features=log2, max_depth=20, criterion=mae, total=   4.2s\n",
            "[CV] n_estimators=600, min_samples_split=6, min_samples_leaf=3, max_features=log2, max_depth=20, criterion=mae \n",
            "[CV]  n_estimators=600, min_samples_split=6, min_samples_leaf=3, max_features=log2, max_depth=20, criterion=mae, total=   4.2s\n",
            "[CV] n_estimators=600, min_samples_split=6, min_samples_leaf=3, max_features=log2, max_depth=20, criterion=mae \n",
            "[CV]  n_estimators=600, min_samples_split=6, min_samples_leaf=3, max_features=log2, max_depth=20, criterion=mae, total=   4.2s\n",
            "[CV] n_estimators=600, min_samples_split=6, min_samples_leaf=3, max_features=log2, max_depth=20, criterion=mae \n",
            "[CV]  n_estimators=600, min_samples_split=6, min_samples_leaf=3, max_features=log2, max_depth=20, criterion=mae, total=   4.2s\n",
            "[CV] n_estimators=600, min_samples_split=6, min_samples_leaf=3, max_features=log2, max_depth=20, criterion=mae \n",
            "[CV]  n_estimators=600, min_samples_split=6, min_samples_leaf=3, max_features=log2, max_depth=20, criterion=mae, total=   4.2s\n",
            "[CV] n_estimators=236, min_samples_split=4, min_samples_leaf=3, max_features=sqrt, max_depth=50, criterion=mse \n",
            "[CV]  n_estimators=236, min_samples_split=4, min_samples_leaf=3, max_features=sqrt, max_depth=50, criterion=mse, total=   0.3s\n",
            "[CV] n_estimators=236, min_samples_split=4, min_samples_leaf=3, max_features=sqrt, max_depth=50, criterion=mse \n",
            "[CV]  n_estimators=236, min_samples_split=4, min_samples_leaf=3, max_features=sqrt, max_depth=50, criterion=mse, total=   0.3s\n",
            "[CV] n_estimators=236, min_samples_split=4, min_samples_leaf=3, max_features=sqrt, max_depth=50, criterion=mse \n",
            "[CV]  n_estimators=236, min_samples_split=4, min_samples_leaf=3, max_features=sqrt, max_depth=50, criterion=mse, total=   0.3s\n",
            "[CV] n_estimators=236, min_samples_split=4, min_samples_leaf=3, max_features=sqrt, max_depth=50, criterion=mse \n",
            "[CV]  n_estimators=236, min_samples_split=4, min_samples_leaf=3, max_features=sqrt, max_depth=50, criterion=mse, total=   0.3s\n",
            "[CV] n_estimators=236, min_samples_split=4, min_samples_leaf=3, max_features=sqrt, max_depth=50, criterion=mse \n",
            "[CV]  n_estimators=236, min_samples_split=4, min_samples_leaf=3, max_features=sqrt, max_depth=50, criterion=mse, total=   0.3s\n",
            "[CV] n_estimators=600, min_samples_split=7, min_samples_leaf=3, max_features=log2, max_depth=32, criterion=mae \n",
            "[CV]  n_estimators=600, min_samples_split=7, min_samples_leaf=3, max_features=log2, max_depth=32, criterion=mae, total=   4.2s\n",
            "[CV] n_estimators=600, min_samples_split=7, min_samples_leaf=3, max_features=log2, max_depth=32, criterion=mae \n",
            "[CV]  n_estimators=600, min_samples_split=7, min_samples_leaf=3, max_features=log2, max_depth=32, criterion=mae, total=   4.2s\n",
            "[CV] n_estimators=600, min_samples_split=7, min_samples_leaf=3, max_features=log2, max_depth=32, criterion=mae \n",
            "[CV]  n_estimators=600, min_samples_split=7, min_samples_leaf=3, max_features=log2, max_depth=32, criterion=mae, total=   4.2s\n",
            "[CV] n_estimators=600, min_samples_split=7, min_samples_leaf=3, max_features=log2, max_depth=32, criterion=mae \n",
            "[CV]  n_estimators=600, min_samples_split=7, min_samples_leaf=3, max_features=log2, max_depth=32, criterion=mae, total=   4.2s\n",
            "[CV] n_estimators=600, min_samples_split=7, min_samples_leaf=3, max_features=log2, max_depth=32, criterion=mae \n",
            "[CV]  n_estimators=600, min_samples_split=7, min_samples_leaf=3, max_features=log2, max_depth=32, criterion=mae, total=   4.2s\n",
            "[CV] n_estimators=100, min_samples_split=7, min_samples_leaf=3, max_features=auto, max_depth=20, criterion=mae \n",
            "[CV]  n_estimators=100, min_samples_split=7, min_samples_leaf=3, max_features=auto, max_depth=20, criterion=mae, total=   1.3s\n",
            "[CV] n_estimators=100, min_samples_split=7, min_samples_leaf=3, max_features=auto, max_depth=20, criterion=mae \n",
            "[CV]  n_estimators=100, min_samples_split=7, min_samples_leaf=3, max_features=auto, max_depth=20, criterion=mae, total=   1.3s\n",
            "[CV] n_estimators=100, min_samples_split=7, min_samples_leaf=3, max_features=auto, max_depth=20, criterion=mae \n",
            "[CV]  n_estimators=100, min_samples_split=7, min_samples_leaf=3, max_features=auto, max_depth=20, criterion=mae, total=   1.3s\n",
            "[CV] n_estimators=100, min_samples_split=7, min_samples_leaf=3, max_features=auto, max_depth=20, criterion=mae \n",
            "[CV]  n_estimators=100, min_samples_split=7, min_samples_leaf=3, max_features=auto, max_depth=20, criterion=mae, total=   1.2s\n",
            "[CV] n_estimators=100, min_samples_split=7, min_samples_leaf=3, max_features=auto, max_depth=20, criterion=mae \n",
            "[CV]  n_estimators=100, min_samples_split=7, min_samples_leaf=3, max_features=auto, max_depth=20, criterion=mae, total=   1.2s\n",
            "[CV] n_estimators=190, min_samples_split=3, min_samples_leaf=1, max_features=auto, max_depth=20, criterion=mse \n",
            "[CV]  n_estimators=190, min_samples_split=3, min_samples_leaf=1, max_features=auto, max_depth=20, criterion=mse, total=   0.4s\n",
            "[CV] n_estimators=190, min_samples_split=3, min_samples_leaf=1, max_features=auto, max_depth=20, criterion=mse \n",
            "[CV]  n_estimators=190, min_samples_split=3, min_samples_leaf=1, max_features=auto, max_depth=20, criterion=mse, total=   0.4s\n",
            "[CV] n_estimators=190, min_samples_split=3, min_samples_leaf=1, max_features=auto, max_depth=20, criterion=mse \n",
            "[CV]  n_estimators=190, min_samples_split=3, min_samples_leaf=1, max_features=auto, max_depth=20, criterion=mse, total=   0.4s\n",
            "[CV] n_estimators=190, min_samples_split=3, min_samples_leaf=1, max_features=auto, max_depth=20, criterion=mse \n",
            "[CV]  n_estimators=190, min_samples_split=3, min_samples_leaf=1, max_features=auto, max_depth=20, criterion=mse, total=   0.4s\n",
            "[CV] n_estimators=190, min_samples_split=3, min_samples_leaf=1, max_features=auto, max_depth=20, criterion=mse \n",
            "[CV]  n_estimators=190, min_samples_split=3, min_samples_leaf=1, max_features=auto, max_depth=20, criterion=mse, total=   0.4s\n",
            "[CV] n_estimators=145, min_samples_split=7, min_samples_leaf=3, max_features=sqrt, max_depth=26, criterion=mse \n",
            "[CV]  n_estimators=145, min_samples_split=7, min_samples_leaf=3, max_features=sqrt, max_depth=26, criterion=mse, total=   0.2s\n",
            "[CV] n_estimators=145, min_samples_split=7, min_samples_leaf=3, max_features=sqrt, max_depth=26, criterion=mse \n",
            "[CV]  n_estimators=145, min_samples_split=7, min_samples_leaf=3, max_features=sqrt, max_depth=26, criterion=mse, total=   0.2s\n",
            "[CV] n_estimators=145, min_samples_split=7, min_samples_leaf=3, max_features=sqrt, max_depth=26, criterion=mse \n",
            "[CV]  n_estimators=145, min_samples_split=7, min_samples_leaf=3, max_features=sqrt, max_depth=26, criterion=mse, total=   0.2s\n",
            "[CV] n_estimators=145, min_samples_split=7, min_samples_leaf=3, max_features=sqrt, max_depth=26, criterion=mse \n",
            "[CV]  n_estimators=145, min_samples_split=7, min_samples_leaf=3, max_features=sqrt, max_depth=26, criterion=mse, total=   0.2s\n",
            "[CV] n_estimators=145, min_samples_split=7, min_samples_leaf=3, max_features=sqrt, max_depth=26, criterion=mse \n",
            "[CV]  n_estimators=145, min_samples_split=7, min_samples_leaf=3, max_features=sqrt, max_depth=26, criterion=mse, total=   0.2s\n",
            "[CV] n_estimators=509, min_samples_split=5, min_samples_leaf=1, max_features=log2, max_depth=32, criterion=mae \n",
            "[CV]  n_estimators=509, min_samples_split=5, min_samples_leaf=1, max_features=log2, max_depth=32, criterion=mae, total=   4.1s\n",
            "[CV] n_estimators=509, min_samples_split=5, min_samples_leaf=1, max_features=log2, max_depth=32, criterion=mae \n",
            "[CV]  n_estimators=509, min_samples_split=5, min_samples_leaf=1, max_features=log2, max_depth=32, criterion=mae, total=   4.2s\n",
            "[CV] n_estimators=509, min_samples_split=5, min_samples_leaf=1, max_features=log2, max_depth=32, criterion=mae \n",
            "[CV]  n_estimators=509, min_samples_split=5, min_samples_leaf=1, max_features=log2, max_depth=32, criterion=mae, total=   4.1s\n",
            "[CV] n_estimators=509, min_samples_split=5, min_samples_leaf=1, max_features=log2, max_depth=32, criterion=mae \n",
            "[CV]  n_estimators=509, min_samples_split=5, min_samples_leaf=1, max_features=log2, max_depth=32, criterion=mae, total=   4.1s\n",
            "[CV] n_estimators=509, min_samples_split=5, min_samples_leaf=1, max_features=log2, max_depth=32, criterion=mae \n",
            "[CV]  n_estimators=509, min_samples_split=5, min_samples_leaf=1, max_features=log2, max_depth=32, criterion=mae, total=   4.1s\n",
            "[CV] n_estimators=372, min_samples_split=3, min_samples_leaf=1, max_features=log2, max_depth=44, criterion=mse \n",
            "[CV]  n_estimators=372, min_samples_split=3, min_samples_leaf=1, max_features=log2, max_depth=44, criterion=mse, total=   0.6s\n",
            "[CV] n_estimators=372, min_samples_split=3, min_samples_leaf=1, max_features=log2, max_depth=44, criterion=mse \n",
            "[CV]  n_estimators=372, min_samples_split=3, min_samples_leaf=1, max_features=log2, max_depth=44, criterion=mse, total=   0.6s\n",
            "[CV] n_estimators=372, min_samples_split=3, min_samples_leaf=1, max_features=log2, max_depth=44, criterion=mse \n",
            "[CV]  n_estimators=372, min_samples_split=3, min_samples_leaf=1, max_features=log2, max_depth=44, criterion=mse, total=   0.6s\n",
            "[CV] n_estimators=372, min_samples_split=3, min_samples_leaf=1, max_features=log2, max_depth=44, criterion=mse \n",
            "[CV]  n_estimators=372, min_samples_split=3, min_samples_leaf=1, max_features=log2, max_depth=44, criterion=mse, total=   0.6s\n",
            "[CV] n_estimators=372, min_samples_split=3, min_samples_leaf=1, max_features=log2, max_depth=44, criterion=mse \n",
            "[CV]  n_estimators=372, min_samples_split=3, min_samples_leaf=1, max_features=log2, max_depth=44, criterion=mse, total=   0.6s\n"
          ],
          "name": "stdout"
        },
        {
          "output_type": "stream",
          "text": [
            "[Parallel(n_jobs=1)]: Done 250 out of 250 | elapsed:  8.6min finished\n"
          ],
          "name": "stderr"
        },
        {
          "output_type": "execute_result",
          "data": {
            "text/plain": [
              "RandomizedSearchCV(cv=5, error_score=nan,\n",
              "                   estimator=ExtraTreesRegressor(bootstrap=False, ccp_alpha=0.0,\n",
              "                                                 criterion='mse',\n",
              "                                                 max_depth=None,\n",
              "                                                 max_features='auto',\n",
              "                                                 max_leaf_nodes=None,\n",
              "                                                 max_samples=None,\n",
              "                                                 min_impurity_decrease=0.0,\n",
              "                                                 min_impurity_split=None,\n",
              "                                                 min_samples_leaf=1,\n",
              "                                                 min_samples_split=2,\n",
              "                                                 min_weight_fraction_leaf=0.0,\n",
              "                                                 n_estimators=100, n_jobs=None,\n",
              "                                                 oob_score=False...\n",
              "                   param_distributions={'criterion': ['mse', 'mae'],\n",
              "                                        'max_depth': [20, 26, 32, 38, 44, 50],\n",
              "                                        'max_features': ['auto', 'sqrt',\n",
              "                                                         'log2'],\n",
              "                                        'min_samples_leaf': [1, 2, 3],\n",
              "                                        'min_samples_split': [3, 4, 5, 6, 7],\n",
              "                                        'n_estimators': [100, 145, 190, 236,\n",
              "                                                         281, 327, 372, 418,\n",
              "                                                         463, 509, 554, 600]},\n",
              "                   pre_dispatch='2*n_jobs', random_state=100, refit=True,\n",
              "                   return_train_score=False, scoring='neg_mean_squared_error',\n",
              "                   verbose=2)"
            ]
          },
          "metadata": {
            "tags": []
          },
          "execution_count": 27
        }
      ]
    },
    {
      "cell_type": "code",
      "metadata": {
        "colab": {
          "base_uri": "https://localhost:8080/"
        },
        "id": "p-LjUYh_RQQ_",
        "outputId": "2aeff1f4-47ea-493f-9beb-7064d29dec4d"
      },
      "source": [
        "print(tree_random_cv1.best_params_)\n",
        "#print(tree_random_cv1.best_scores_)"
      ],
      "execution_count": 28,
      "outputs": [
        {
          "output_type": "stream",
          "text": [
            "{'n_estimators': 509, 'min_samples_split': 3, 'min_samples_leaf': 1, 'max_features': 'log2', 'max_depth': 26, 'criterion': 'mae'}\n"
          ],
          "name": "stdout"
        }
      ]
    },
    {
      "cell_type": "markdown",
      "metadata": {
        "id": "afOI0Qo4SVFk"
      },
      "source": [
        "### **Model Evaluation-1**"
      ]
    },
    {
      "cell_type": "code",
      "metadata": {
        "colab": {
          "base_uri": "https://localhost:8080/"
        },
        "id": "QcLE-RE67CQZ",
        "outputId": "2448a755-a562-4de9-ac37-52e1e90cebfa"
      },
      "source": [
        "tree_rcv1_prediction=tree_random_cv1.predict(X_test)\n",
        "\n",
        "print('MAE:', metrics.mean_absolute_error(y_test, tree_rcv1_prediction))\n",
        "print('MSE:', metrics.mean_squared_error(y_test, tree_rcv1_prediction))\n",
        "print('RMSE:', np.sqrt(metrics.mean_squared_error(y_test, tree_rcv1_prediction)))"
      ],
      "execution_count": 29,
      "outputs": [
        {
          "output_type": "stream",
          "text": [
            "MAE: 18.85145237700092\n",
            "MSE: 1150.7767015218349\n",
            "RMSE: 33.92309982182989\n"
          ],
          "name": "stdout"
        }
      ]
    },
    {
      "cell_type": "markdown",
      "metadata": {
        "id": "etxIpoXFTDGd"
      },
      "source": [
        "### Randomized SearchCV2"
      ]
    },
    {
      "cell_type": "code",
      "metadata": {
        "id": "4mL7s4YK7CTT"
      },
      "source": [
        "from sklearn.model_selection import RandomizedSearchCV\n",
        "# Number of trees in random forest\n",
        "n_estimators = [int(x) for x in np.linspace(start = 300, stop = 800, num = 12)]\n",
        "# Number of criterion\n",
        "criterion=[\"mse\", \"mae\"]\n",
        "# Maximum number of levels in tree\n",
        "max_depth = [int(x) for x in np.linspace(20, 50, num = 10)]\n",
        "# Minimum samples weight parameters\n",
        "min_samples_split=[3,4,5]\n",
        "# Minimum samples leaf parameters\n",
        "min_samples_leaf=[1,2]\n",
        "# features type \n",
        "max_features=[\"log2\"]\n"
      ],
      "execution_count": 46,
      "outputs": []
    },
    {
      "cell_type": "code",
      "metadata": {
        "colab": {
          "base_uri": "https://localhost:8080/"
        },
        "id": "NIpPEazGbC9R",
        "outputId": "42d331fa-0841-48a5-9852-6dee3cb44950"
      },
      "source": [
        "# Create the random grid\n",
        "tree_random_grid2= {'n_estimators': n_estimators,\n",
        "               'criterion': criterion,\n",
        "               'max_depth': max_depth,\n",
        "               'min_samples_leaf': min_samples_leaf,\n",
        "               'max_features': max_features,\n",
        "               'min_samples_split':min_samples_split}\n",
        "\n",
        "print(tree_random_grid2)"
      ],
      "execution_count": 47,
      "outputs": [
        {
          "output_type": "stream",
          "text": [
            "{'n_estimators': [300, 345, 390, 436, 481, 527, 572, 618, 663, 709, 754, 800], 'criterion': ['mse', 'mae'], 'max_depth': [20, 23, 26, 30, 33, 36, 40, 43, 46, 50], 'min_samples_leaf': [1, 2], 'max_features': ['log2'], 'min_samples_split': [3, 4, 5]}\n"
          ],
          "name": "stdout"
        }
      ]
    },
    {
      "cell_type": "code",
      "metadata": {
        "id": "arUAe-pKbC_d"
      },
      "source": [
        "extra_tree_regressor2=ensemble.ExtraTreesRegressor()"
      ],
      "execution_count": 48,
      "outputs": []
    },
    {
      "cell_type": "code",
      "metadata": {
        "id": "7xfDbOPGbDCZ"
      },
      "source": [
        "\n",
        "tree_random_cv2 = RandomizedSearchCV(estimator = extra_tree_regressor2, param_distributions = tree_random_grid2,\n",
        "                               scoring='neg_mean_squared_error', n_iter = 50, cv = 5, verbose=2, \n",
        "                               random_state=100, n_jobs = 1)"
      ],
      "execution_count": 49,
      "outputs": []
    },
    {
      "cell_type": "code",
      "metadata": {
        "colab": {
          "base_uri": "https://localhost:8080/"
        },
        "id": "I5SKj9kbbDES",
        "outputId": "aa7c2b93-4199-4ddb-9169-5451fb99c9b3"
      },
      "source": [
        "tree_random_cv2.fit(X_train,y_train)"
      ],
      "execution_count": 50,
      "outputs": [
        {
          "output_type": "stream",
          "text": [
            "Fitting 5 folds for each of 50 candidates, totalling 250 fits\n",
            "[CV] n_estimators=300, min_samples_split=5, min_samples_leaf=1, max_features=log2, max_depth=46, criterion=mae \n"
          ],
          "name": "stdout"
        },
        {
          "output_type": "stream",
          "text": [
            "[Parallel(n_jobs=1)]: Using backend SequentialBackend with 1 concurrent workers.\n"
          ],
          "name": "stderr"
        },
        {
          "output_type": "stream",
          "text": [
            "[CV]  n_estimators=300, min_samples_split=5, min_samples_leaf=1, max_features=log2, max_depth=46, criterion=mae, total=   2.5s\n",
            "[CV] n_estimators=300, min_samples_split=5, min_samples_leaf=1, max_features=log2, max_depth=46, criterion=mae \n"
          ],
          "name": "stdout"
        },
        {
          "output_type": "stream",
          "text": [
            "[Parallel(n_jobs=1)]: Done   1 out of   1 | elapsed:    2.5s remaining:    0.0s\n"
          ],
          "name": "stderr"
        },
        {
          "output_type": "stream",
          "text": [
            "[CV]  n_estimators=300, min_samples_split=5, min_samples_leaf=1, max_features=log2, max_depth=46, criterion=mae, total=   2.5s\n",
            "[CV] n_estimators=300, min_samples_split=5, min_samples_leaf=1, max_features=log2, max_depth=46, criterion=mae \n",
            "[CV]  n_estimators=300, min_samples_split=5, min_samples_leaf=1, max_features=log2, max_depth=46, criterion=mae, total=   2.5s\n",
            "[CV] n_estimators=300, min_samples_split=5, min_samples_leaf=1, max_features=log2, max_depth=46, criterion=mae \n",
            "[CV]  n_estimators=300, min_samples_split=5, min_samples_leaf=1, max_features=log2, max_depth=46, criterion=mae, total=   2.4s\n",
            "[CV] n_estimators=300, min_samples_split=5, min_samples_leaf=1, max_features=log2, max_depth=46, criterion=mae \n",
            "[CV]  n_estimators=300, min_samples_split=5, min_samples_leaf=1, max_features=log2, max_depth=46, criterion=mae, total=   2.4s\n",
            "[CV] n_estimators=345, min_samples_split=5, min_samples_leaf=1, max_features=log2, max_depth=30, criterion=mse \n",
            "[CV]  n_estimators=345, min_samples_split=5, min_samples_leaf=1, max_features=log2, max_depth=30, criterion=mse, total=   0.5s\n",
            "[CV] n_estimators=345, min_samples_split=5, min_samples_leaf=1, max_features=log2, max_depth=30, criterion=mse \n",
            "[CV]  n_estimators=345, min_samples_split=5, min_samples_leaf=1, max_features=log2, max_depth=30, criterion=mse, total=   0.5s\n",
            "[CV] n_estimators=345, min_samples_split=5, min_samples_leaf=1, max_features=log2, max_depth=30, criterion=mse \n",
            "[CV]  n_estimators=345, min_samples_split=5, min_samples_leaf=1, max_features=log2, max_depth=30, criterion=mse, total=   0.5s\n",
            "[CV] n_estimators=345, min_samples_split=5, min_samples_leaf=1, max_features=log2, max_depth=30, criterion=mse \n",
            "[CV]  n_estimators=345, min_samples_split=5, min_samples_leaf=1, max_features=log2, max_depth=30, criterion=mse, total=   0.6s\n",
            "[CV] n_estimators=345, min_samples_split=5, min_samples_leaf=1, max_features=log2, max_depth=30, criterion=mse \n",
            "[CV]  n_estimators=345, min_samples_split=5, min_samples_leaf=1, max_features=log2, max_depth=30, criterion=mse, total=   0.5s\n",
            "[CV] n_estimators=436, min_samples_split=4, min_samples_leaf=2, max_features=log2, max_depth=40, criterion=mae \n",
            "[CV]  n_estimators=436, min_samples_split=4, min_samples_leaf=2, max_features=log2, max_depth=40, criterion=mae, total=   3.3s\n",
            "[CV] n_estimators=436, min_samples_split=4, min_samples_leaf=2, max_features=log2, max_depth=40, criterion=mae \n",
            "[CV]  n_estimators=436, min_samples_split=4, min_samples_leaf=2, max_features=log2, max_depth=40, criterion=mae, total=   3.3s\n",
            "[CV] n_estimators=436, min_samples_split=4, min_samples_leaf=2, max_features=log2, max_depth=40, criterion=mae \n",
            "[CV]  n_estimators=436, min_samples_split=4, min_samples_leaf=2, max_features=log2, max_depth=40, criterion=mae, total=   3.3s\n",
            "[CV] n_estimators=436, min_samples_split=4, min_samples_leaf=2, max_features=log2, max_depth=40, criterion=mae \n",
            "[CV]  n_estimators=436, min_samples_split=4, min_samples_leaf=2, max_features=log2, max_depth=40, criterion=mae, total=   3.2s\n",
            "[CV] n_estimators=436, min_samples_split=4, min_samples_leaf=2, max_features=log2, max_depth=40, criterion=mae \n",
            "[CV]  n_estimators=436, min_samples_split=4, min_samples_leaf=2, max_features=log2, max_depth=40, criterion=mae, total=   3.3s\n",
            "[CV] n_estimators=390, min_samples_split=4, min_samples_leaf=1, max_features=log2, max_depth=20, criterion=mae \n",
            "[CV]  n_estimators=390, min_samples_split=4, min_samples_leaf=1, max_features=log2, max_depth=20, criterion=mae, total=   3.2s\n",
            "[CV] n_estimators=390, min_samples_split=4, min_samples_leaf=1, max_features=log2, max_depth=20, criterion=mae \n",
            "[CV]  n_estimators=390, min_samples_split=4, min_samples_leaf=1, max_features=log2, max_depth=20, criterion=mae, total=   3.2s\n",
            "[CV] n_estimators=390, min_samples_split=4, min_samples_leaf=1, max_features=log2, max_depth=20, criterion=mae \n",
            "[CV]  n_estimators=390, min_samples_split=4, min_samples_leaf=1, max_features=log2, max_depth=20, criterion=mae, total=   3.2s\n",
            "[CV] n_estimators=390, min_samples_split=4, min_samples_leaf=1, max_features=log2, max_depth=20, criterion=mae \n",
            "[CV]  n_estimators=390, min_samples_split=4, min_samples_leaf=1, max_features=log2, max_depth=20, criterion=mae, total=   3.2s\n",
            "[CV] n_estimators=390, min_samples_split=4, min_samples_leaf=1, max_features=log2, max_depth=20, criterion=mae \n",
            "[CV]  n_estimators=390, min_samples_split=4, min_samples_leaf=1, max_features=log2, max_depth=20, criterion=mae, total=   3.2s\n",
            "[CV] n_estimators=481, min_samples_split=3, min_samples_leaf=2, max_features=log2, max_depth=40, criterion=mse \n",
            "[CV]  n_estimators=481, min_samples_split=3, min_samples_leaf=2, max_features=log2, max_depth=40, criterion=mse, total=   0.7s\n",
            "[CV] n_estimators=481, min_samples_split=3, min_samples_leaf=2, max_features=log2, max_depth=40, criterion=mse \n",
            "[CV]  n_estimators=481, min_samples_split=3, min_samples_leaf=2, max_features=log2, max_depth=40, criterion=mse, total=   0.7s\n",
            "[CV] n_estimators=481, min_samples_split=3, min_samples_leaf=2, max_features=log2, max_depth=40, criterion=mse \n",
            "[CV]  n_estimators=481, min_samples_split=3, min_samples_leaf=2, max_features=log2, max_depth=40, criterion=mse, total=   0.7s\n",
            "[CV] n_estimators=481, min_samples_split=3, min_samples_leaf=2, max_features=log2, max_depth=40, criterion=mse \n",
            "[CV]  n_estimators=481, min_samples_split=3, min_samples_leaf=2, max_features=log2, max_depth=40, criterion=mse, total=   0.7s\n",
            "[CV] n_estimators=481, min_samples_split=3, min_samples_leaf=2, max_features=log2, max_depth=40, criterion=mse \n",
            "[CV]  n_estimators=481, min_samples_split=3, min_samples_leaf=2, max_features=log2, max_depth=40, criterion=mse, total=   0.7s\n",
            "[CV] n_estimators=572, min_samples_split=4, min_samples_leaf=1, max_features=log2, max_depth=36, criterion=mae \n",
            "[CV]  n_estimators=572, min_samples_split=4, min_samples_leaf=1, max_features=log2, max_depth=36, criterion=mae, total=   4.7s\n",
            "[CV] n_estimators=572, min_samples_split=4, min_samples_leaf=1, max_features=log2, max_depth=36, criterion=mae \n",
            "[CV]  n_estimators=572, min_samples_split=4, min_samples_leaf=1, max_features=log2, max_depth=36, criterion=mae, total=   4.7s\n",
            "[CV] n_estimators=572, min_samples_split=4, min_samples_leaf=1, max_features=log2, max_depth=36, criterion=mae \n",
            "[CV]  n_estimators=572, min_samples_split=4, min_samples_leaf=1, max_features=log2, max_depth=36, criterion=mae, total=   4.7s\n",
            "[CV] n_estimators=572, min_samples_split=4, min_samples_leaf=1, max_features=log2, max_depth=36, criterion=mae \n",
            "[CV]  n_estimators=572, min_samples_split=4, min_samples_leaf=1, max_features=log2, max_depth=36, criterion=mae, total=   4.7s\n",
            "[CV] n_estimators=572, min_samples_split=4, min_samples_leaf=1, max_features=log2, max_depth=36, criterion=mae \n",
            "[CV]  n_estimators=572, min_samples_split=4, min_samples_leaf=1, max_features=log2, max_depth=36, criterion=mae, total=   4.6s\n",
            "[CV] n_estimators=754, min_samples_split=3, min_samples_leaf=1, max_features=log2, max_depth=40, criterion=mae \n",
            "[CV]  n_estimators=754, min_samples_split=3, min_samples_leaf=1, max_features=log2, max_depth=40, criterion=mae, total=   6.4s\n",
            "[CV] n_estimators=754, min_samples_split=3, min_samples_leaf=1, max_features=log2, max_depth=40, criterion=mae \n",
            "[CV]  n_estimators=754, min_samples_split=3, min_samples_leaf=1, max_features=log2, max_depth=40, criterion=mae, total=   6.4s\n",
            "[CV] n_estimators=754, min_samples_split=3, min_samples_leaf=1, max_features=log2, max_depth=40, criterion=mae \n",
            "[CV]  n_estimators=754, min_samples_split=3, min_samples_leaf=1, max_features=log2, max_depth=40, criterion=mae, total=   6.3s\n",
            "[CV] n_estimators=754, min_samples_split=3, min_samples_leaf=1, max_features=log2, max_depth=40, criterion=mae \n",
            "[CV]  n_estimators=754, min_samples_split=3, min_samples_leaf=1, max_features=log2, max_depth=40, criterion=mae, total=   6.3s\n",
            "[CV] n_estimators=754, min_samples_split=3, min_samples_leaf=1, max_features=log2, max_depth=40, criterion=mae \n",
            "[CV]  n_estimators=754, min_samples_split=3, min_samples_leaf=1, max_features=log2, max_depth=40, criterion=mae, total=   6.4s\n",
            "[CV] n_estimators=345, min_samples_split=4, min_samples_leaf=2, max_features=log2, max_depth=50, criterion=mse \n",
            "[CV]  n_estimators=345, min_samples_split=4, min_samples_leaf=2, max_features=log2, max_depth=50, criterion=mse, total=   0.5s\n",
            "[CV] n_estimators=345, min_samples_split=4, min_samples_leaf=2, max_features=log2, max_depth=50, criterion=mse \n",
            "[CV]  n_estimators=345, min_samples_split=4, min_samples_leaf=2, max_features=log2, max_depth=50, criterion=mse, total=   0.5s\n",
            "[CV] n_estimators=345, min_samples_split=4, min_samples_leaf=2, max_features=log2, max_depth=50, criterion=mse \n",
            "[CV]  n_estimators=345, min_samples_split=4, min_samples_leaf=2, max_features=log2, max_depth=50, criterion=mse, total=   0.5s\n",
            "[CV] n_estimators=345, min_samples_split=4, min_samples_leaf=2, max_features=log2, max_depth=50, criterion=mse \n",
            "[CV]  n_estimators=345, min_samples_split=4, min_samples_leaf=2, max_features=log2, max_depth=50, criterion=mse, total=   0.5s\n",
            "[CV] n_estimators=345, min_samples_split=4, min_samples_leaf=2, max_features=log2, max_depth=50, criterion=mse \n",
            "[CV]  n_estimators=345, min_samples_split=4, min_samples_leaf=2, max_features=log2, max_depth=50, criterion=mse, total=   0.5s\n",
            "[CV] n_estimators=800, min_samples_split=4, min_samples_leaf=1, max_features=log2, max_depth=43, criterion=mse \n",
            "[CV]  n_estimators=800, min_samples_split=4, min_samples_leaf=1, max_features=log2, max_depth=43, criterion=mse, total=   1.2s\n",
            "[CV] n_estimators=800, min_samples_split=4, min_samples_leaf=1, max_features=log2, max_depth=43, criterion=mse \n",
            "[CV]  n_estimators=800, min_samples_split=4, min_samples_leaf=1, max_features=log2, max_depth=43, criterion=mse, total=   1.2s\n",
            "[CV] n_estimators=800, min_samples_split=4, min_samples_leaf=1, max_features=log2, max_depth=43, criterion=mse \n",
            "[CV]  n_estimators=800, min_samples_split=4, min_samples_leaf=1, max_features=log2, max_depth=43, criterion=mse, total=   1.2s\n",
            "[CV] n_estimators=800, min_samples_split=4, min_samples_leaf=1, max_features=log2, max_depth=43, criterion=mse \n",
            "[CV]  n_estimators=800, min_samples_split=4, min_samples_leaf=1, max_features=log2, max_depth=43, criterion=mse, total=   1.2s\n",
            "[CV] n_estimators=800, min_samples_split=4, min_samples_leaf=1, max_features=log2, max_depth=43, criterion=mse \n",
            "[CV]  n_estimators=800, min_samples_split=4, min_samples_leaf=1, max_features=log2, max_depth=43, criterion=mse, total=   1.2s\n",
            "[CV] n_estimators=618, min_samples_split=4, min_samples_leaf=1, max_features=log2, max_depth=33, criterion=mae \n",
            "[CV]  n_estimators=618, min_samples_split=4, min_samples_leaf=1, max_features=log2, max_depth=33, criterion=mae, total=   5.1s\n",
            "[CV] n_estimators=618, min_samples_split=4, min_samples_leaf=1, max_features=log2, max_depth=33, criterion=mae \n",
            "[CV]  n_estimators=618, min_samples_split=4, min_samples_leaf=1, max_features=log2, max_depth=33, criterion=mae, total=   5.1s\n",
            "[CV] n_estimators=618, min_samples_split=4, min_samples_leaf=1, max_features=log2, max_depth=33, criterion=mae \n",
            "[CV]  n_estimators=618, min_samples_split=4, min_samples_leaf=1, max_features=log2, max_depth=33, criterion=mae, total=   5.1s\n",
            "[CV] n_estimators=618, min_samples_split=4, min_samples_leaf=1, max_features=log2, max_depth=33, criterion=mae \n",
            "[CV]  n_estimators=618, min_samples_split=4, min_samples_leaf=1, max_features=log2, max_depth=33, criterion=mae, total=   5.1s\n",
            "[CV] n_estimators=618, min_samples_split=4, min_samples_leaf=1, max_features=log2, max_depth=33, criterion=mae \n",
            "[CV]  n_estimators=618, min_samples_split=4, min_samples_leaf=1, max_features=log2, max_depth=33, criterion=mae, total=   5.1s\n",
            "[CV] n_estimators=754, min_samples_split=5, min_samples_leaf=1, max_features=log2, max_depth=46, criterion=mse \n",
            "[CV]  n_estimators=754, min_samples_split=5, min_samples_leaf=1, max_features=log2, max_depth=46, criterion=mse, total=   1.1s\n",
            "[CV] n_estimators=754, min_samples_split=5, min_samples_leaf=1, max_features=log2, max_depth=46, criterion=mse \n",
            "[CV]  n_estimators=754, min_samples_split=5, min_samples_leaf=1, max_features=log2, max_depth=46, criterion=mse, total=   1.1s\n",
            "[CV] n_estimators=754, min_samples_split=5, min_samples_leaf=1, max_features=log2, max_depth=46, criterion=mse \n",
            "[CV]  n_estimators=754, min_samples_split=5, min_samples_leaf=1, max_features=log2, max_depth=46, criterion=mse, total=   1.1s\n",
            "[CV] n_estimators=754, min_samples_split=5, min_samples_leaf=1, max_features=log2, max_depth=46, criterion=mse \n",
            "[CV]  n_estimators=754, min_samples_split=5, min_samples_leaf=1, max_features=log2, max_depth=46, criterion=mse, total=   1.1s\n",
            "[CV] n_estimators=754, min_samples_split=5, min_samples_leaf=1, max_features=log2, max_depth=46, criterion=mse \n",
            "[CV]  n_estimators=754, min_samples_split=5, min_samples_leaf=1, max_features=log2, max_depth=46, criterion=mse, total=   1.1s\n",
            "[CV] n_estimators=390, min_samples_split=5, min_samples_leaf=1, max_features=log2, max_depth=43, criterion=mae \n",
            "[CV]  n_estimators=390, min_samples_split=5, min_samples_leaf=1, max_features=log2, max_depth=43, criterion=mae, total=   3.1s\n",
            "[CV] n_estimators=390, min_samples_split=5, min_samples_leaf=1, max_features=log2, max_depth=43, criterion=mae \n",
            "[CV]  n_estimators=390, min_samples_split=5, min_samples_leaf=1, max_features=log2, max_depth=43, criterion=mae, total=   3.1s\n",
            "[CV] n_estimators=390, min_samples_split=5, min_samples_leaf=1, max_features=log2, max_depth=43, criterion=mae \n",
            "[CV]  n_estimators=390, min_samples_split=5, min_samples_leaf=1, max_features=log2, max_depth=43, criterion=mae, total=   3.2s\n",
            "[CV] n_estimators=390, min_samples_split=5, min_samples_leaf=1, max_features=log2, max_depth=43, criterion=mae \n",
            "[CV]  n_estimators=390, min_samples_split=5, min_samples_leaf=1, max_features=log2, max_depth=43, criterion=mae, total=   3.1s\n",
            "[CV] n_estimators=390, min_samples_split=5, min_samples_leaf=1, max_features=log2, max_depth=43, criterion=mae \n",
            "[CV]  n_estimators=390, min_samples_split=5, min_samples_leaf=1, max_features=log2, max_depth=43, criterion=mae, total=   3.1s\n",
            "[CV] n_estimators=754, min_samples_split=4, min_samples_leaf=2, max_features=log2, max_depth=46, criterion=mse \n",
            "[CV]  n_estimators=754, min_samples_split=4, min_samples_leaf=2, max_features=log2, max_depth=46, criterion=mse, total=   1.1s\n",
            "[CV] n_estimators=754, min_samples_split=4, min_samples_leaf=2, max_features=log2, max_depth=46, criterion=mse \n",
            "[CV]  n_estimators=754, min_samples_split=4, min_samples_leaf=2, max_features=log2, max_depth=46, criterion=mse, total=   1.1s\n",
            "[CV] n_estimators=754, min_samples_split=4, min_samples_leaf=2, max_features=log2, max_depth=46, criterion=mse \n",
            "[CV]  n_estimators=754, min_samples_split=4, min_samples_leaf=2, max_features=log2, max_depth=46, criterion=mse, total=   1.1s\n",
            "[CV] n_estimators=754, min_samples_split=4, min_samples_leaf=2, max_features=log2, max_depth=46, criterion=mse \n",
            "[CV]  n_estimators=754, min_samples_split=4, min_samples_leaf=2, max_features=log2, max_depth=46, criterion=mse, total=   1.1s\n",
            "[CV] n_estimators=754, min_samples_split=4, min_samples_leaf=2, max_features=log2, max_depth=46, criterion=mse \n",
            "[CV]  n_estimators=754, min_samples_split=4, min_samples_leaf=2, max_features=log2, max_depth=46, criterion=mse, total=   1.1s\n",
            "[CV] n_estimators=572, min_samples_split=3, min_samples_leaf=2, max_features=log2, max_depth=46, criterion=mae \n",
            "[CV]  n_estimators=572, min_samples_split=3, min_samples_leaf=2, max_features=log2, max_depth=46, criterion=mae, total=   4.3s\n",
            "[CV] n_estimators=572, min_samples_split=3, min_samples_leaf=2, max_features=log2, max_depth=46, criterion=mae \n",
            "[CV]  n_estimators=572, min_samples_split=3, min_samples_leaf=2, max_features=log2, max_depth=46, criterion=mae, total=   4.3s\n",
            "[CV] n_estimators=572, min_samples_split=3, min_samples_leaf=2, max_features=log2, max_depth=46, criterion=mae \n",
            "[CV]  n_estimators=572, min_samples_split=3, min_samples_leaf=2, max_features=log2, max_depth=46, criterion=mae, total=   4.3s\n",
            "[CV] n_estimators=572, min_samples_split=3, min_samples_leaf=2, max_features=log2, max_depth=46, criterion=mae \n",
            "[CV]  n_estimators=572, min_samples_split=3, min_samples_leaf=2, max_features=log2, max_depth=46, criterion=mae, total=   4.2s\n",
            "[CV] n_estimators=572, min_samples_split=3, min_samples_leaf=2, max_features=log2, max_depth=46, criterion=mae \n",
            "[CV]  n_estimators=572, min_samples_split=3, min_samples_leaf=2, max_features=log2, max_depth=46, criterion=mae, total=   4.3s\n",
            "[CV] n_estimators=345, min_samples_split=4, min_samples_leaf=1, max_features=log2, max_depth=33, criterion=mse \n",
            "[CV]  n_estimators=345, min_samples_split=4, min_samples_leaf=1, max_features=log2, max_depth=33, criterion=mse, total=   0.5s\n",
            "[CV] n_estimators=345, min_samples_split=4, min_samples_leaf=1, max_features=log2, max_depth=33, criterion=mse \n",
            "[CV]  n_estimators=345, min_samples_split=4, min_samples_leaf=1, max_features=log2, max_depth=33, criterion=mse, total=   0.5s\n",
            "[CV] n_estimators=345, min_samples_split=4, min_samples_leaf=1, max_features=log2, max_depth=33, criterion=mse \n",
            "[CV]  n_estimators=345, min_samples_split=4, min_samples_leaf=1, max_features=log2, max_depth=33, criterion=mse, total=   0.5s\n",
            "[CV] n_estimators=345, min_samples_split=4, min_samples_leaf=1, max_features=log2, max_depth=33, criterion=mse \n",
            "[CV]  n_estimators=345, min_samples_split=4, min_samples_leaf=1, max_features=log2, max_depth=33, criterion=mse, total=   0.5s\n",
            "[CV] n_estimators=345, min_samples_split=4, min_samples_leaf=1, max_features=log2, max_depth=33, criterion=mse \n",
            "[CV]  n_estimators=345, min_samples_split=4, min_samples_leaf=1, max_features=log2, max_depth=33, criterion=mse, total=   0.5s\n",
            "[CV] n_estimators=572, min_samples_split=5, min_samples_leaf=1, max_features=log2, max_depth=20, criterion=mse \n",
            "[CV]  n_estimators=572, min_samples_split=5, min_samples_leaf=1, max_features=log2, max_depth=20, criterion=mse, total=   0.8s\n",
            "[CV] n_estimators=572, min_samples_split=5, min_samples_leaf=1, max_features=log2, max_depth=20, criterion=mse \n",
            "[CV]  n_estimators=572, min_samples_split=5, min_samples_leaf=1, max_features=log2, max_depth=20, criterion=mse, total=   0.8s\n",
            "[CV] n_estimators=572, min_samples_split=5, min_samples_leaf=1, max_features=log2, max_depth=20, criterion=mse \n",
            "[CV]  n_estimators=572, min_samples_split=5, min_samples_leaf=1, max_features=log2, max_depth=20, criterion=mse, total=   0.8s\n",
            "[CV] n_estimators=572, min_samples_split=5, min_samples_leaf=1, max_features=log2, max_depth=20, criterion=mse \n",
            "[CV]  n_estimators=572, min_samples_split=5, min_samples_leaf=1, max_features=log2, max_depth=20, criterion=mse, total=   0.8s\n",
            "[CV] n_estimators=572, min_samples_split=5, min_samples_leaf=1, max_features=log2, max_depth=20, criterion=mse \n",
            "[CV]  n_estimators=572, min_samples_split=5, min_samples_leaf=1, max_features=log2, max_depth=20, criterion=mse, total=   0.8s\n",
            "[CV] n_estimators=709, min_samples_split=3, min_samples_leaf=1, max_features=log2, max_depth=30, criterion=mae \n",
            "[CV]  n_estimators=709, min_samples_split=3, min_samples_leaf=1, max_features=log2, max_depth=30, criterion=mae, total=   6.0s\n",
            "[CV] n_estimators=709, min_samples_split=3, min_samples_leaf=1, max_features=log2, max_depth=30, criterion=mae \n",
            "[CV]  n_estimators=709, min_samples_split=3, min_samples_leaf=1, max_features=log2, max_depth=30, criterion=mae, total=   6.0s\n",
            "[CV] n_estimators=709, min_samples_split=3, min_samples_leaf=1, max_features=log2, max_depth=30, criterion=mae \n",
            "[CV]  n_estimators=709, min_samples_split=3, min_samples_leaf=1, max_features=log2, max_depth=30, criterion=mae, total=   6.0s\n",
            "[CV] n_estimators=709, min_samples_split=3, min_samples_leaf=1, max_features=log2, max_depth=30, criterion=mae \n",
            "[CV]  n_estimators=709, min_samples_split=3, min_samples_leaf=1, max_features=log2, max_depth=30, criterion=mae, total=   5.9s\n",
            "[CV] n_estimators=709, min_samples_split=3, min_samples_leaf=1, max_features=log2, max_depth=30, criterion=mae \n",
            "[CV]  n_estimators=709, min_samples_split=3, min_samples_leaf=1, max_features=log2, max_depth=30, criterion=mae, total=   5.9s\n",
            "[CV] n_estimators=572, min_samples_split=5, min_samples_leaf=2, max_features=log2, max_depth=33, criterion=mse \n",
            "[CV]  n_estimators=572, min_samples_split=5, min_samples_leaf=2, max_features=log2, max_depth=33, criterion=mse, total=   0.8s\n",
            "[CV] n_estimators=572, min_samples_split=5, min_samples_leaf=2, max_features=log2, max_depth=33, criterion=mse \n",
            "[CV]  n_estimators=572, min_samples_split=5, min_samples_leaf=2, max_features=log2, max_depth=33, criterion=mse, total=   0.8s\n",
            "[CV] n_estimators=572, min_samples_split=5, min_samples_leaf=2, max_features=log2, max_depth=33, criterion=mse \n",
            "[CV]  n_estimators=572, min_samples_split=5, min_samples_leaf=2, max_features=log2, max_depth=33, criterion=mse, total=   0.8s\n",
            "[CV] n_estimators=572, min_samples_split=5, min_samples_leaf=2, max_features=log2, max_depth=33, criterion=mse \n",
            "[CV]  n_estimators=572, min_samples_split=5, min_samples_leaf=2, max_features=log2, max_depth=33, criterion=mse, total=   0.8s\n",
            "[CV] n_estimators=572, min_samples_split=5, min_samples_leaf=2, max_features=log2, max_depth=33, criterion=mse \n",
            "[CV]  n_estimators=572, min_samples_split=5, min_samples_leaf=2, max_features=log2, max_depth=33, criterion=mse, total=   0.8s\n",
            "[CV] n_estimators=390, min_samples_split=5, min_samples_leaf=2, max_features=log2, max_depth=50, criterion=mse \n",
            "[CV]  n_estimators=390, min_samples_split=5, min_samples_leaf=2, max_features=log2, max_depth=50, criterion=mse, total=   0.5s\n",
            "[CV] n_estimators=390, min_samples_split=5, min_samples_leaf=2, max_features=log2, max_depth=50, criterion=mse \n",
            "[CV]  n_estimators=390, min_samples_split=5, min_samples_leaf=2, max_features=log2, max_depth=50, criterion=mse, total=   0.5s\n",
            "[CV] n_estimators=390, min_samples_split=5, min_samples_leaf=2, max_features=log2, max_depth=50, criterion=mse \n",
            "[CV]  n_estimators=390, min_samples_split=5, min_samples_leaf=2, max_features=log2, max_depth=50, criterion=mse, total=   0.5s\n",
            "[CV] n_estimators=390, min_samples_split=5, min_samples_leaf=2, max_features=log2, max_depth=50, criterion=mse \n",
            "[CV]  n_estimators=390, min_samples_split=5, min_samples_leaf=2, max_features=log2, max_depth=50, criterion=mse, total=   0.6s\n",
            "[CV] n_estimators=390, min_samples_split=5, min_samples_leaf=2, max_features=log2, max_depth=50, criterion=mse \n",
            "[CV]  n_estimators=390, min_samples_split=5, min_samples_leaf=2, max_features=log2, max_depth=50, criterion=mse, total=   0.5s\n",
            "[CV] n_estimators=390, min_samples_split=5, min_samples_leaf=1, max_features=log2, max_depth=26, criterion=mse \n",
            "[CV]  n_estimators=390, min_samples_split=5, min_samples_leaf=1, max_features=log2, max_depth=26, criterion=mse, total=   0.6s\n",
            "[CV] n_estimators=390, min_samples_split=5, min_samples_leaf=1, max_features=log2, max_depth=26, criterion=mse \n",
            "[CV]  n_estimators=390, min_samples_split=5, min_samples_leaf=1, max_features=log2, max_depth=26, criterion=mse, total=   0.6s\n",
            "[CV] n_estimators=390, min_samples_split=5, min_samples_leaf=1, max_features=log2, max_depth=26, criterion=mse \n",
            "[CV]  n_estimators=390, min_samples_split=5, min_samples_leaf=1, max_features=log2, max_depth=26, criterion=mse, total=   0.6s\n",
            "[CV] n_estimators=390, min_samples_split=5, min_samples_leaf=1, max_features=log2, max_depth=26, criterion=mse \n",
            "[CV]  n_estimators=390, min_samples_split=5, min_samples_leaf=1, max_features=log2, max_depth=26, criterion=mse, total=   0.6s\n",
            "[CV] n_estimators=390, min_samples_split=5, min_samples_leaf=1, max_features=log2, max_depth=26, criterion=mse \n",
            "[CV]  n_estimators=390, min_samples_split=5, min_samples_leaf=1, max_features=log2, max_depth=26, criterion=mse, total=   0.5s\n",
            "[CV] n_estimators=663, min_samples_split=4, min_samples_leaf=2, max_features=log2, max_depth=26, criterion=mse \n",
            "[CV]  n_estimators=663, min_samples_split=4, min_samples_leaf=2, max_features=log2, max_depth=26, criterion=mse, total=   0.9s\n",
            "[CV] n_estimators=663, min_samples_split=4, min_samples_leaf=2, max_features=log2, max_depth=26, criterion=mse \n",
            "[CV]  n_estimators=663, min_samples_split=4, min_samples_leaf=2, max_features=log2, max_depth=26, criterion=mse, total=   0.9s\n",
            "[CV] n_estimators=663, min_samples_split=4, min_samples_leaf=2, max_features=log2, max_depth=26, criterion=mse \n",
            "[CV]  n_estimators=663, min_samples_split=4, min_samples_leaf=2, max_features=log2, max_depth=26, criterion=mse, total=   0.9s\n",
            "[CV] n_estimators=663, min_samples_split=4, min_samples_leaf=2, max_features=log2, max_depth=26, criterion=mse \n",
            "[CV]  n_estimators=663, min_samples_split=4, min_samples_leaf=2, max_features=log2, max_depth=26, criterion=mse, total=   0.9s\n",
            "[CV] n_estimators=663, min_samples_split=4, min_samples_leaf=2, max_features=log2, max_depth=26, criterion=mse \n",
            "[CV]  n_estimators=663, min_samples_split=4, min_samples_leaf=2, max_features=log2, max_depth=26, criterion=mse, total=   0.9s\n",
            "[CV] n_estimators=754, min_samples_split=5, min_samples_leaf=1, max_features=log2, max_depth=50, criterion=mse \n",
            "[CV]  n_estimators=754, min_samples_split=5, min_samples_leaf=1, max_features=log2, max_depth=50, criterion=mse, total=   1.1s\n",
            "[CV] n_estimators=754, min_samples_split=5, min_samples_leaf=1, max_features=log2, max_depth=50, criterion=mse \n",
            "[CV]  n_estimators=754, min_samples_split=5, min_samples_leaf=1, max_features=log2, max_depth=50, criterion=mse, total=   1.1s\n",
            "[CV] n_estimators=754, min_samples_split=5, min_samples_leaf=1, max_features=log2, max_depth=50, criterion=mse \n",
            "[CV]  n_estimators=754, min_samples_split=5, min_samples_leaf=1, max_features=log2, max_depth=50, criterion=mse, total=   1.1s\n",
            "[CV] n_estimators=754, min_samples_split=5, min_samples_leaf=1, max_features=log2, max_depth=50, criterion=mse \n",
            "[CV]  n_estimators=754, min_samples_split=5, min_samples_leaf=1, max_features=log2, max_depth=50, criterion=mse, total=   1.1s\n",
            "[CV] n_estimators=754, min_samples_split=5, min_samples_leaf=1, max_features=log2, max_depth=50, criterion=mse \n",
            "[CV]  n_estimators=754, min_samples_split=5, min_samples_leaf=1, max_features=log2, max_depth=50, criterion=mse, total=   1.1s\n",
            "[CV] n_estimators=481, min_samples_split=3, min_samples_leaf=2, max_features=log2, max_depth=33, criterion=mae \n",
            "[CV]  n_estimators=481, min_samples_split=3, min_samples_leaf=2, max_features=log2, max_depth=33, criterion=mae, total=   3.6s\n",
            "[CV] n_estimators=481, min_samples_split=3, min_samples_leaf=2, max_features=log2, max_depth=33, criterion=mae \n",
            "[CV]  n_estimators=481, min_samples_split=3, min_samples_leaf=2, max_features=log2, max_depth=33, criterion=mae, total=   3.6s\n",
            "[CV] n_estimators=481, min_samples_split=3, min_samples_leaf=2, max_features=log2, max_depth=33, criterion=mae \n",
            "[CV]  n_estimators=481, min_samples_split=3, min_samples_leaf=2, max_features=log2, max_depth=33, criterion=mae, total=   3.7s\n",
            "[CV] n_estimators=481, min_samples_split=3, min_samples_leaf=2, max_features=log2, max_depth=33, criterion=mae \n",
            "[CV]  n_estimators=481, min_samples_split=3, min_samples_leaf=2, max_features=log2, max_depth=33, criterion=mae, total=   3.5s\n",
            "[CV] n_estimators=481, min_samples_split=3, min_samples_leaf=2, max_features=log2, max_depth=33, criterion=mae \n",
            "[CV]  n_estimators=481, min_samples_split=3, min_samples_leaf=2, max_features=log2, max_depth=33, criterion=mae, total=   3.6s\n",
            "[CV] n_estimators=300, min_samples_split=3, min_samples_leaf=1, max_features=log2, max_depth=43, criterion=mae \n",
            "[CV]  n_estimators=300, min_samples_split=3, min_samples_leaf=1, max_features=log2, max_depth=43, criterion=mae, total=   2.5s\n",
            "[CV] n_estimators=300, min_samples_split=3, min_samples_leaf=1, max_features=log2, max_depth=43, criterion=mae \n",
            "[CV]  n_estimators=300, min_samples_split=3, min_samples_leaf=1, max_features=log2, max_depth=43, criterion=mae, total=   2.5s\n",
            "[CV] n_estimators=300, min_samples_split=3, min_samples_leaf=1, max_features=log2, max_depth=43, criterion=mae \n",
            "[CV]  n_estimators=300, min_samples_split=3, min_samples_leaf=1, max_features=log2, max_depth=43, criterion=mae, total=   2.5s\n",
            "[CV] n_estimators=300, min_samples_split=3, min_samples_leaf=1, max_features=log2, max_depth=43, criterion=mae \n",
            "[CV]  n_estimators=300, min_samples_split=3, min_samples_leaf=1, max_features=log2, max_depth=43, criterion=mae, total=   2.5s\n",
            "[CV] n_estimators=300, min_samples_split=3, min_samples_leaf=1, max_features=log2, max_depth=43, criterion=mae \n",
            "[CV]  n_estimators=300, min_samples_split=3, min_samples_leaf=1, max_features=log2, max_depth=43, criterion=mae, total=   2.5s\n",
            "[CV] n_estimators=345, min_samples_split=4, min_samples_leaf=1, max_features=log2, max_depth=26, criterion=mse \n",
            "[CV]  n_estimators=345, min_samples_split=4, min_samples_leaf=1, max_features=log2, max_depth=26, criterion=mse, total=   0.5s\n",
            "[CV] n_estimators=345, min_samples_split=4, min_samples_leaf=1, max_features=log2, max_depth=26, criterion=mse \n",
            "[CV]  n_estimators=345, min_samples_split=4, min_samples_leaf=1, max_features=log2, max_depth=26, criterion=mse, total=   0.5s\n",
            "[CV] n_estimators=345, min_samples_split=4, min_samples_leaf=1, max_features=log2, max_depth=26, criterion=mse \n",
            "[CV]  n_estimators=345, min_samples_split=4, min_samples_leaf=1, max_features=log2, max_depth=26, criterion=mse, total=   0.5s\n",
            "[CV] n_estimators=345, min_samples_split=4, min_samples_leaf=1, max_features=log2, max_depth=26, criterion=mse \n",
            "[CV]  n_estimators=345, min_samples_split=4, min_samples_leaf=1, max_features=log2, max_depth=26, criterion=mse, total=   0.5s\n",
            "[CV] n_estimators=345, min_samples_split=4, min_samples_leaf=1, max_features=log2, max_depth=26, criterion=mse \n",
            "[CV]  n_estimators=345, min_samples_split=4, min_samples_leaf=1, max_features=log2, max_depth=26, criterion=mse, total=   0.5s\n",
            "[CV] n_estimators=754, min_samples_split=4, min_samples_leaf=2, max_features=log2, max_depth=43, criterion=mae \n",
            "[CV]  n_estimators=754, min_samples_split=4, min_samples_leaf=2, max_features=log2, max_depth=43, criterion=mae, total=   5.6s\n",
            "[CV] n_estimators=754, min_samples_split=4, min_samples_leaf=2, max_features=log2, max_depth=43, criterion=mae \n",
            "[CV]  n_estimators=754, min_samples_split=4, min_samples_leaf=2, max_features=log2, max_depth=43, criterion=mae, total=   5.6s\n",
            "[CV] n_estimators=754, min_samples_split=4, min_samples_leaf=2, max_features=log2, max_depth=43, criterion=mae \n",
            "[CV]  n_estimators=754, min_samples_split=4, min_samples_leaf=2, max_features=log2, max_depth=43, criterion=mae, total=   5.6s\n",
            "[CV] n_estimators=754, min_samples_split=4, min_samples_leaf=2, max_features=log2, max_depth=43, criterion=mae \n",
            "[CV]  n_estimators=754, min_samples_split=4, min_samples_leaf=2, max_features=log2, max_depth=43, criterion=mae, total=   5.5s\n",
            "[CV] n_estimators=754, min_samples_split=4, min_samples_leaf=2, max_features=log2, max_depth=43, criterion=mae \n",
            "[CV]  n_estimators=754, min_samples_split=4, min_samples_leaf=2, max_features=log2, max_depth=43, criterion=mae, total=   5.6s\n",
            "[CV] n_estimators=481, min_samples_split=5, min_samples_leaf=2, max_features=log2, max_depth=43, criterion=mse \n",
            "[CV]  n_estimators=481, min_samples_split=5, min_samples_leaf=2, max_features=log2, max_depth=43, criterion=mse, total=   0.7s\n",
            "[CV] n_estimators=481, min_samples_split=5, min_samples_leaf=2, max_features=log2, max_depth=43, criterion=mse \n",
            "[CV]  n_estimators=481, min_samples_split=5, min_samples_leaf=2, max_features=log2, max_depth=43, criterion=mse, total=   0.7s\n",
            "[CV] n_estimators=481, min_samples_split=5, min_samples_leaf=2, max_features=log2, max_depth=43, criterion=mse \n",
            "[CV]  n_estimators=481, min_samples_split=5, min_samples_leaf=2, max_features=log2, max_depth=43, criterion=mse, total=   0.7s\n",
            "[CV] n_estimators=481, min_samples_split=5, min_samples_leaf=2, max_features=log2, max_depth=43, criterion=mse \n",
            "[CV]  n_estimators=481, min_samples_split=5, min_samples_leaf=2, max_features=log2, max_depth=43, criterion=mse, total=   0.7s\n",
            "[CV] n_estimators=481, min_samples_split=5, min_samples_leaf=2, max_features=log2, max_depth=43, criterion=mse \n",
            "[CV]  n_estimators=481, min_samples_split=5, min_samples_leaf=2, max_features=log2, max_depth=43, criterion=mse, total=   0.7s\n",
            "[CV] n_estimators=800, min_samples_split=3, min_samples_leaf=1, max_features=log2, max_depth=33, criterion=mse \n",
            "[CV]  n_estimators=800, min_samples_split=3, min_samples_leaf=1, max_features=log2, max_depth=33, criterion=mse, total=   1.3s\n",
            "[CV] n_estimators=800, min_samples_split=3, min_samples_leaf=1, max_features=log2, max_depth=33, criterion=mse \n",
            "[CV]  n_estimators=800, min_samples_split=3, min_samples_leaf=1, max_features=log2, max_depth=33, criterion=mse, total=   1.2s\n",
            "[CV] n_estimators=800, min_samples_split=3, min_samples_leaf=1, max_features=log2, max_depth=33, criterion=mse \n",
            "[CV]  n_estimators=800, min_samples_split=3, min_samples_leaf=1, max_features=log2, max_depth=33, criterion=mse, total=   1.2s\n",
            "[CV] n_estimators=800, min_samples_split=3, min_samples_leaf=1, max_features=log2, max_depth=33, criterion=mse \n",
            "[CV]  n_estimators=800, min_samples_split=3, min_samples_leaf=1, max_features=log2, max_depth=33, criterion=mse, total=   1.3s\n",
            "[CV] n_estimators=800, min_samples_split=3, min_samples_leaf=1, max_features=log2, max_depth=33, criterion=mse \n",
            "[CV]  n_estimators=800, min_samples_split=3, min_samples_leaf=1, max_features=log2, max_depth=33, criterion=mse, total=   1.3s\n",
            "[CV] n_estimators=572, min_samples_split=3, min_samples_leaf=2, max_features=log2, max_depth=36, criterion=mse \n",
            "[CV]  n_estimators=572, min_samples_split=3, min_samples_leaf=2, max_features=log2, max_depth=36, criterion=mse, total=   0.8s\n",
            "[CV] n_estimators=572, min_samples_split=3, min_samples_leaf=2, max_features=log2, max_depth=36, criterion=mse \n",
            "[CV]  n_estimators=572, min_samples_split=3, min_samples_leaf=2, max_features=log2, max_depth=36, criterion=mse, total=   0.8s\n",
            "[CV] n_estimators=572, min_samples_split=3, min_samples_leaf=2, max_features=log2, max_depth=36, criterion=mse \n",
            "[CV]  n_estimators=572, min_samples_split=3, min_samples_leaf=2, max_features=log2, max_depth=36, criterion=mse, total=   0.8s\n",
            "[CV] n_estimators=572, min_samples_split=3, min_samples_leaf=2, max_features=log2, max_depth=36, criterion=mse \n",
            "[CV]  n_estimators=572, min_samples_split=3, min_samples_leaf=2, max_features=log2, max_depth=36, criterion=mse, total=   0.8s\n",
            "[CV] n_estimators=572, min_samples_split=3, min_samples_leaf=2, max_features=log2, max_depth=36, criterion=mse \n",
            "[CV]  n_estimators=572, min_samples_split=3, min_samples_leaf=2, max_features=log2, max_depth=36, criterion=mse, total=   0.8s\n",
            "[CV] n_estimators=527, min_samples_split=5, min_samples_leaf=2, max_features=log2, max_depth=46, criterion=mse \n",
            "[CV]  n_estimators=527, min_samples_split=5, min_samples_leaf=2, max_features=log2, max_depth=46, criterion=mse, total=   0.7s\n",
            "[CV] n_estimators=527, min_samples_split=5, min_samples_leaf=2, max_features=log2, max_depth=46, criterion=mse \n",
            "[CV]  n_estimators=527, min_samples_split=5, min_samples_leaf=2, max_features=log2, max_depth=46, criterion=mse, total=   0.7s\n",
            "[CV] n_estimators=527, min_samples_split=5, min_samples_leaf=2, max_features=log2, max_depth=46, criterion=mse \n",
            "[CV]  n_estimators=527, min_samples_split=5, min_samples_leaf=2, max_features=log2, max_depth=46, criterion=mse, total=   0.7s\n",
            "[CV] n_estimators=527, min_samples_split=5, min_samples_leaf=2, max_features=log2, max_depth=46, criterion=mse \n",
            "[CV]  n_estimators=527, min_samples_split=5, min_samples_leaf=2, max_features=log2, max_depth=46, criterion=mse, total=   0.7s\n",
            "[CV] n_estimators=527, min_samples_split=5, min_samples_leaf=2, max_features=log2, max_depth=46, criterion=mse \n",
            "[CV]  n_estimators=527, min_samples_split=5, min_samples_leaf=2, max_features=log2, max_depth=46, criterion=mse, total=   0.7s\n",
            "[CV] n_estimators=618, min_samples_split=5, min_samples_leaf=1, max_features=log2, max_depth=36, criterion=mae \n",
            "[CV]  n_estimators=618, min_samples_split=5, min_samples_leaf=1, max_features=log2, max_depth=36, criterion=mae, total=   4.9s\n",
            "[CV] n_estimators=618, min_samples_split=5, min_samples_leaf=1, max_features=log2, max_depth=36, criterion=mae \n",
            "[CV]  n_estimators=618, min_samples_split=5, min_samples_leaf=1, max_features=log2, max_depth=36, criterion=mae, total=   5.0s\n",
            "[CV] n_estimators=618, min_samples_split=5, min_samples_leaf=1, max_features=log2, max_depth=36, criterion=mae \n",
            "[CV]  n_estimators=618, min_samples_split=5, min_samples_leaf=1, max_features=log2, max_depth=36, criterion=mae, total=   5.0s\n",
            "[CV] n_estimators=618, min_samples_split=5, min_samples_leaf=1, max_features=log2, max_depth=36, criterion=mae \n",
            "[CV]  n_estimators=618, min_samples_split=5, min_samples_leaf=1, max_features=log2, max_depth=36, criterion=mae, total=   5.0s\n",
            "[CV] n_estimators=618, min_samples_split=5, min_samples_leaf=1, max_features=log2, max_depth=36, criterion=mae \n",
            "[CV]  n_estimators=618, min_samples_split=5, min_samples_leaf=1, max_features=log2, max_depth=36, criterion=mae, total=   4.9s\n",
            "[CV] n_estimators=300, min_samples_split=4, min_samples_leaf=2, max_features=log2, max_depth=50, criterion=mae \n",
            "[CV]  n_estimators=300, min_samples_split=4, min_samples_leaf=2, max_features=log2, max_depth=50, criterion=mae, total=   2.2s\n",
            "[CV] n_estimators=300, min_samples_split=4, min_samples_leaf=2, max_features=log2, max_depth=50, criterion=mae \n",
            "[CV]  n_estimators=300, min_samples_split=4, min_samples_leaf=2, max_features=log2, max_depth=50, criterion=mae, total=   2.2s\n",
            "[CV] n_estimators=300, min_samples_split=4, min_samples_leaf=2, max_features=log2, max_depth=50, criterion=mae \n",
            "[CV]  n_estimators=300, min_samples_split=4, min_samples_leaf=2, max_features=log2, max_depth=50, criterion=mae, total=   2.3s\n",
            "[CV] n_estimators=300, min_samples_split=4, min_samples_leaf=2, max_features=log2, max_depth=50, criterion=mae \n",
            "[CV]  n_estimators=300, min_samples_split=4, min_samples_leaf=2, max_features=log2, max_depth=50, criterion=mae, total=   2.2s\n",
            "[CV] n_estimators=300, min_samples_split=4, min_samples_leaf=2, max_features=log2, max_depth=50, criterion=mae \n",
            "[CV]  n_estimators=300, min_samples_split=4, min_samples_leaf=2, max_features=log2, max_depth=50, criterion=mae, total=   2.2s\n",
            "[CV] n_estimators=572, min_samples_split=3, min_samples_leaf=2, max_features=log2, max_depth=43, criterion=mse \n",
            "[CV]  n_estimators=572, min_samples_split=3, min_samples_leaf=2, max_features=log2, max_depth=43, criterion=mse, total=   0.8s\n",
            "[CV] n_estimators=572, min_samples_split=3, min_samples_leaf=2, max_features=log2, max_depth=43, criterion=mse \n",
            "[CV]  n_estimators=572, min_samples_split=3, min_samples_leaf=2, max_features=log2, max_depth=43, criterion=mse, total=   0.8s\n",
            "[CV] n_estimators=572, min_samples_split=3, min_samples_leaf=2, max_features=log2, max_depth=43, criterion=mse \n",
            "[CV]  n_estimators=572, min_samples_split=3, min_samples_leaf=2, max_features=log2, max_depth=43, criterion=mse, total=   0.8s\n",
            "[CV] n_estimators=572, min_samples_split=3, min_samples_leaf=2, max_features=log2, max_depth=43, criterion=mse \n",
            "[CV]  n_estimators=572, min_samples_split=3, min_samples_leaf=2, max_features=log2, max_depth=43, criterion=mse, total=   0.8s\n",
            "[CV] n_estimators=572, min_samples_split=3, min_samples_leaf=2, max_features=log2, max_depth=43, criterion=mse \n",
            "[CV]  n_estimators=572, min_samples_split=3, min_samples_leaf=2, max_features=log2, max_depth=43, criterion=mse, total=   0.8s\n",
            "[CV] n_estimators=754, min_samples_split=3, min_samples_leaf=1, max_features=log2, max_depth=33, criterion=mse \n",
            "[CV]  n_estimators=754, min_samples_split=3, min_samples_leaf=1, max_features=log2, max_depth=33, criterion=mse, total=   1.2s\n",
            "[CV] n_estimators=754, min_samples_split=3, min_samples_leaf=1, max_features=log2, max_depth=33, criterion=mse \n",
            "[CV]  n_estimators=754, min_samples_split=3, min_samples_leaf=1, max_features=log2, max_depth=33, criterion=mse, total=   1.2s\n",
            "[CV] n_estimators=754, min_samples_split=3, min_samples_leaf=1, max_features=log2, max_depth=33, criterion=mse \n",
            "[CV]  n_estimators=754, min_samples_split=3, min_samples_leaf=1, max_features=log2, max_depth=33, criterion=mse, total=   1.2s\n",
            "[CV] n_estimators=754, min_samples_split=3, min_samples_leaf=1, max_features=log2, max_depth=33, criterion=mse \n",
            "[CV]  n_estimators=754, min_samples_split=3, min_samples_leaf=1, max_features=log2, max_depth=33, criterion=mse, total=   1.2s\n",
            "[CV] n_estimators=754, min_samples_split=3, min_samples_leaf=1, max_features=log2, max_depth=33, criterion=mse \n",
            "[CV]  n_estimators=754, min_samples_split=3, min_samples_leaf=1, max_features=log2, max_depth=33, criterion=mse, total=   1.2s\n",
            "[CV] n_estimators=618, min_samples_split=4, min_samples_leaf=1, max_features=log2, max_depth=30, criterion=mae \n",
            "[CV]  n_estimators=618, min_samples_split=4, min_samples_leaf=1, max_features=log2, max_depth=30, criterion=mae, total=   5.1s\n",
            "[CV] n_estimators=618, min_samples_split=4, min_samples_leaf=1, max_features=log2, max_depth=30, criterion=mae \n",
            "[CV]  n_estimators=618, min_samples_split=4, min_samples_leaf=1, max_features=log2, max_depth=30, criterion=mae, total=   5.1s\n",
            "[CV] n_estimators=618, min_samples_split=4, min_samples_leaf=1, max_features=log2, max_depth=30, criterion=mae \n",
            "[CV]  n_estimators=618, min_samples_split=4, min_samples_leaf=1, max_features=log2, max_depth=30, criterion=mae, total=   5.1s\n",
            "[CV] n_estimators=618, min_samples_split=4, min_samples_leaf=1, max_features=log2, max_depth=30, criterion=mae \n",
            "[CV]  n_estimators=618, min_samples_split=4, min_samples_leaf=1, max_features=log2, max_depth=30, criterion=mae, total=   5.0s\n",
            "[CV] n_estimators=618, min_samples_split=4, min_samples_leaf=1, max_features=log2, max_depth=30, criterion=mae \n",
            "[CV]  n_estimators=618, min_samples_split=4, min_samples_leaf=1, max_features=log2, max_depth=30, criterion=mae, total=   5.0s\n",
            "[CV] n_estimators=481, min_samples_split=3, min_samples_leaf=2, max_features=log2, max_depth=26, criterion=mae \n",
            "[CV]  n_estimators=481, min_samples_split=3, min_samples_leaf=2, max_features=log2, max_depth=26, criterion=mae, total=   3.6s\n",
            "[CV] n_estimators=481, min_samples_split=3, min_samples_leaf=2, max_features=log2, max_depth=26, criterion=mae \n",
            "[CV]  n_estimators=481, min_samples_split=3, min_samples_leaf=2, max_features=log2, max_depth=26, criterion=mae, total=   3.6s\n",
            "[CV] n_estimators=481, min_samples_split=3, min_samples_leaf=2, max_features=log2, max_depth=26, criterion=mae \n",
            "[CV]  n_estimators=481, min_samples_split=3, min_samples_leaf=2, max_features=log2, max_depth=26, criterion=mae, total=   3.6s\n",
            "[CV] n_estimators=481, min_samples_split=3, min_samples_leaf=2, max_features=log2, max_depth=26, criterion=mae \n",
            "[CV]  n_estimators=481, min_samples_split=3, min_samples_leaf=2, max_features=log2, max_depth=26, criterion=mae, total=   3.6s\n",
            "[CV] n_estimators=481, min_samples_split=3, min_samples_leaf=2, max_features=log2, max_depth=26, criterion=mae \n",
            "[CV]  n_estimators=481, min_samples_split=3, min_samples_leaf=2, max_features=log2, max_depth=26, criterion=mae, total=   3.6s\n",
            "[CV] n_estimators=481, min_samples_split=3, min_samples_leaf=2, max_features=log2, max_depth=30, criterion=mse \n",
            "[CV]  n_estimators=481, min_samples_split=3, min_samples_leaf=2, max_features=log2, max_depth=30, criterion=mse, total=   0.7s\n",
            "[CV] n_estimators=481, min_samples_split=3, min_samples_leaf=2, max_features=log2, max_depth=30, criterion=mse \n",
            "[CV]  n_estimators=481, min_samples_split=3, min_samples_leaf=2, max_features=log2, max_depth=30, criterion=mse, total=   0.7s\n",
            "[CV] n_estimators=481, min_samples_split=3, min_samples_leaf=2, max_features=log2, max_depth=30, criterion=mse \n",
            "[CV]  n_estimators=481, min_samples_split=3, min_samples_leaf=2, max_features=log2, max_depth=30, criterion=mse, total=   0.7s\n",
            "[CV] n_estimators=481, min_samples_split=3, min_samples_leaf=2, max_features=log2, max_depth=30, criterion=mse \n",
            "[CV]  n_estimators=481, min_samples_split=3, min_samples_leaf=2, max_features=log2, max_depth=30, criterion=mse, total=   0.7s\n",
            "[CV] n_estimators=481, min_samples_split=3, min_samples_leaf=2, max_features=log2, max_depth=30, criterion=mse \n",
            "[CV]  n_estimators=481, min_samples_split=3, min_samples_leaf=2, max_features=log2, max_depth=30, criterion=mse, total=   0.7s\n",
            "[CV] n_estimators=800, min_samples_split=3, min_samples_leaf=2, max_features=log2, max_depth=30, criterion=mae \n",
            "[CV]  n_estimators=800, min_samples_split=3, min_samples_leaf=2, max_features=log2, max_depth=30, criterion=mae, total=   6.0s\n",
            "[CV] n_estimators=800, min_samples_split=3, min_samples_leaf=2, max_features=log2, max_depth=30, criterion=mae \n",
            "[CV]  n_estimators=800, min_samples_split=3, min_samples_leaf=2, max_features=log2, max_depth=30, criterion=mae, total=   5.9s\n",
            "[CV] n_estimators=800, min_samples_split=3, min_samples_leaf=2, max_features=log2, max_depth=30, criterion=mae \n",
            "[CV]  n_estimators=800, min_samples_split=3, min_samples_leaf=2, max_features=log2, max_depth=30, criterion=mae, total=   6.0s\n",
            "[CV] n_estimators=800, min_samples_split=3, min_samples_leaf=2, max_features=log2, max_depth=30, criterion=mae \n",
            "[CV]  n_estimators=800, min_samples_split=3, min_samples_leaf=2, max_features=log2, max_depth=30, criterion=mae, total=   5.9s\n",
            "[CV] n_estimators=800, min_samples_split=3, min_samples_leaf=2, max_features=log2, max_depth=30, criterion=mae \n",
            "[CV]  n_estimators=800, min_samples_split=3, min_samples_leaf=2, max_features=log2, max_depth=30, criterion=mae, total=   5.9s\n",
            "[CV] n_estimators=618, min_samples_split=3, min_samples_leaf=1, max_features=log2, max_depth=43, criterion=mse \n",
            "[CV]  n_estimators=618, min_samples_split=3, min_samples_leaf=1, max_features=log2, max_depth=43, criterion=mse, total=   1.0s\n",
            "[CV] n_estimators=618, min_samples_split=3, min_samples_leaf=1, max_features=log2, max_depth=43, criterion=mse \n",
            "[CV]  n_estimators=618, min_samples_split=3, min_samples_leaf=1, max_features=log2, max_depth=43, criterion=mse, total=   1.0s\n",
            "[CV] n_estimators=618, min_samples_split=3, min_samples_leaf=1, max_features=log2, max_depth=43, criterion=mse \n",
            "[CV]  n_estimators=618, min_samples_split=3, min_samples_leaf=1, max_features=log2, max_depth=43, criterion=mse, total=   1.0s\n",
            "[CV] n_estimators=618, min_samples_split=3, min_samples_leaf=1, max_features=log2, max_depth=43, criterion=mse \n",
            "[CV]  n_estimators=618, min_samples_split=3, min_samples_leaf=1, max_features=log2, max_depth=43, criterion=mse, total=   1.0s\n",
            "[CV] n_estimators=618, min_samples_split=3, min_samples_leaf=1, max_features=log2, max_depth=43, criterion=mse \n",
            "[CV]  n_estimators=618, min_samples_split=3, min_samples_leaf=1, max_features=log2, max_depth=43, criterion=mse, total=   1.0s\n",
            "[CV] n_estimators=800, min_samples_split=4, min_samples_leaf=1, max_features=log2, max_depth=50, criterion=mae \n",
            "[CV]  n_estimators=800, min_samples_split=4, min_samples_leaf=1, max_features=log2, max_depth=50, criterion=mae, total=   6.6s\n",
            "[CV] n_estimators=800, min_samples_split=4, min_samples_leaf=1, max_features=log2, max_depth=50, criterion=mae \n",
            "[CV]  n_estimators=800, min_samples_split=4, min_samples_leaf=1, max_features=log2, max_depth=50, criterion=mae, total=   6.6s\n",
            "[CV] n_estimators=800, min_samples_split=4, min_samples_leaf=1, max_features=log2, max_depth=50, criterion=mae \n",
            "[CV]  n_estimators=800, min_samples_split=4, min_samples_leaf=1, max_features=log2, max_depth=50, criterion=mae, total=   6.5s\n",
            "[CV] n_estimators=800, min_samples_split=4, min_samples_leaf=1, max_features=log2, max_depth=50, criterion=mae \n",
            "[CV]  n_estimators=800, min_samples_split=4, min_samples_leaf=1, max_features=log2, max_depth=50, criterion=mae, total=   6.6s\n",
            "[CV] n_estimators=800, min_samples_split=4, min_samples_leaf=1, max_features=log2, max_depth=50, criterion=mae \n",
            "[CV]  n_estimators=800, min_samples_split=4, min_samples_leaf=1, max_features=log2, max_depth=50, criterion=mae, total=   6.6s\n",
            "[CV] n_estimators=618, min_samples_split=5, min_samples_leaf=2, max_features=log2, max_depth=40, criterion=mse \n",
            "[CV]  n_estimators=618, min_samples_split=5, min_samples_leaf=2, max_features=log2, max_depth=40, criterion=mse, total=   0.9s\n",
            "[CV] n_estimators=618, min_samples_split=5, min_samples_leaf=2, max_features=log2, max_depth=40, criterion=mse \n",
            "[CV]  n_estimators=618, min_samples_split=5, min_samples_leaf=2, max_features=log2, max_depth=40, criterion=mse, total=   0.9s\n",
            "[CV] n_estimators=618, min_samples_split=5, min_samples_leaf=2, max_features=log2, max_depth=40, criterion=mse \n",
            "[CV]  n_estimators=618, min_samples_split=5, min_samples_leaf=2, max_features=log2, max_depth=40, criterion=mse, total=   0.9s\n",
            "[CV] n_estimators=618, min_samples_split=5, min_samples_leaf=2, max_features=log2, max_depth=40, criterion=mse \n",
            "[CV]  n_estimators=618, min_samples_split=5, min_samples_leaf=2, max_features=log2, max_depth=40, criterion=mse, total=   0.9s\n",
            "[CV] n_estimators=618, min_samples_split=5, min_samples_leaf=2, max_features=log2, max_depth=40, criterion=mse \n",
            "[CV]  n_estimators=618, min_samples_split=5, min_samples_leaf=2, max_features=log2, max_depth=40, criterion=mse, total=   0.9s\n",
            "[CV] n_estimators=345, min_samples_split=3, min_samples_leaf=1, max_features=log2, max_depth=26, criterion=mae \n",
            "[CV]  n_estimators=345, min_samples_split=3, min_samples_leaf=1, max_features=log2, max_depth=26, criterion=mae, total=   2.9s\n",
            "[CV] n_estimators=345, min_samples_split=3, min_samples_leaf=1, max_features=log2, max_depth=26, criterion=mae \n",
            "[CV]  n_estimators=345, min_samples_split=3, min_samples_leaf=1, max_features=log2, max_depth=26, criterion=mae, total=   2.9s\n",
            "[CV] n_estimators=345, min_samples_split=3, min_samples_leaf=1, max_features=log2, max_depth=26, criterion=mae \n",
            "[CV]  n_estimators=345, min_samples_split=3, min_samples_leaf=1, max_features=log2, max_depth=26, criterion=mae, total=   3.0s\n",
            "[CV] n_estimators=345, min_samples_split=3, min_samples_leaf=1, max_features=log2, max_depth=26, criterion=mae \n",
            "[CV]  n_estimators=345, min_samples_split=3, min_samples_leaf=1, max_features=log2, max_depth=26, criterion=mae, total=   2.9s\n",
            "[CV] n_estimators=345, min_samples_split=3, min_samples_leaf=1, max_features=log2, max_depth=26, criterion=mae \n",
            "[CV]  n_estimators=345, min_samples_split=3, min_samples_leaf=1, max_features=log2, max_depth=26, criterion=mae, total=   2.9s\n",
            "[CV] n_estimators=481, min_samples_split=4, min_samples_leaf=1, max_features=log2, max_depth=36, criterion=mse \n",
            "[CV]  n_estimators=481, min_samples_split=4, min_samples_leaf=1, max_features=log2, max_depth=36, criterion=mse, total=   0.7s\n",
            "[CV] n_estimators=481, min_samples_split=4, min_samples_leaf=1, max_features=log2, max_depth=36, criterion=mse \n",
            "[CV]  n_estimators=481, min_samples_split=4, min_samples_leaf=1, max_features=log2, max_depth=36, criterion=mse, total=   0.7s\n",
            "[CV] n_estimators=481, min_samples_split=4, min_samples_leaf=1, max_features=log2, max_depth=36, criterion=mse \n",
            "[CV]  n_estimators=481, min_samples_split=4, min_samples_leaf=1, max_features=log2, max_depth=36, criterion=mse, total=   0.7s\n",
            "[CV] n_estimators=481, min_samples_split=4, min_samples_leaf=1, max_features=log2, max_depth=36, criterion=mse \n",
            "[CV]  n_estimators=481, min_samples_split=4, min_samples_leaf=1, max_features=log2, max_depth=36, criterion=mse, total=   0.7s\n",
            "[CV] n_estimators=481, min_samples_split=4, min_samples_leaf=1, max_features=log2, max_depth=36, criterion=mse \n",
            "[CV]  n_estimators=481, min_samples_split=4, min_samples_leaf=1, max_features=log2, max_depth=36, criterion=mse, total=   0.7s\n",
            "[CV] n_estimators=754, min_samples_split=5, min_samples_leaf=1, max_features=log2, max_depth=30, criterion=mse \n",
            "[CV]  n_estimators=754, min_samples_split=5, min_samples_leaf=1, max_features=log2, max_depth=30, criterion=mse, total=   1.1s\n",
            "[CV] n_estimators=754, min_samples_split=5, min_samples_leaf=1, max_features=log2, max_depth=30, criterion=mse \n",
            "[CV]  n_estimators=754, min_samples_split=5, min_samples_leaf=1, max_features=log2, max_depth=30, criterion=mse, total=   1.1s\n",
            "[CV] n_estimators=754, min_samples_split=5, min_samples_leaf=1, max_features=log2, max_depth=30, criterion=mse \n",
            "[CV]  n_estimators=754, min_samples_split=5, min_samples_leaf=1, max_features=log2, max_depth=30, criterion=mse, total=   1.1s\n",
            "[CV] n_estimators=754, min_samples_split=5, min_samples_leaf=1, max_features=log2, max_depth=30, criterion=mse \n",
            "[CV]  n_estimators=754, min_samples_split=5, min_samples_leaf=1, max_features=log2, max_depth=30, criterion=mse, total=   1.1s\n",
            "[CV] n_estimators=754, min_samples_split=5, min_samples_leaf=1, max_features=log2, max_depth=30, criterion=mse \n",
            "[CV]  n_estimators=754, min_samples_split=5, min_samples_leaf=1, max_features=log2, max_depth=30, criterion=mse, total=   1.1s\n",
            "[CV] n_estimators=663, min_samples_split=3, min_samples_leaf=1, max_features=log2, max_depth=46, criterion=mse \n",
            "[CV]  n_estimators=663, min_samples_split=3, min_samples_leaf=1, max_features=log2, max_depth=46, criterion=mse, total=   1.0s\n",
            "[CV] n_estimators=663, min_samples_split=3, min_samples_leaf=1, max_features=log2, max_depth=46, criterion=mse \n",
            "[CV]  n_estimators=663, min_samples_split=3, min_samples_leaf=1, max_features=log2, max_depth=46, criterion=mse, total=   1.0s\n",
            "[CV] n_estimators=663, min_samples_split=3, min_samples_leaf=1, max_features=log2, max_depth=46, criterion=mse \n",
            "[CV]  n_estimators=663, min_samples_split=3, min_samples_leaf=1, max_features=log2, max_depth=46, criterion=mse, total=   1.0s\n",
            "[CV] n_estimators=663, min_samples_split=3, min_samples_leaf=1, max_features=log2, max_depth=46, criterion=mse \n",
            "[CV]  n_estimators=663, min_samples_split=3, min_samples_leaf=1, max_features=log2, max_depth=46, criterion=mse, total=   1.0s\n",
            "[CV] n_estimators=663, min_samples_split=3, min_samples_leaf=1, max_features=log2, max_depth=46, criterion=mse \n",
            "[CV]  n_estimators=663, min_samples_split=3, min_samples_leaf=1, max_features=log2, max_depth=46, criterion=mse, total=   1.0s\n",
            "[CV] n_estimators=345, min_samples_split=3, min_samples_leaf=2, max_features=log2, max_depth=46, criterion=mae \n",
            "[CV]  n_estimators=345, min_samples_split=3, min_samples_leaf=2, max_features=log2, max_depth=46, criterion=mae, total=   2.6s\n",
            "[CV] n_estimators=345, min_samples_split=3, min_samples_leaf=2, max_features=log2, max_depth=46, criterion=mae \n",
            "[CV]  n_estimators=345, min_samples_split=3, min_samples_leaf=2, max_features=log2, max_depth=46, criterion=mae, total=   2.6s\n",
            "[CV] n_estimators=345, min_samples_split=3, min_samples_leaf=2, max_features=log2, max_depth=46, criterion=mae \n",
            "[CV]  n_estimators=345, min_samples_split=3, min_samples_leaf=2, max_features=log2, max_depth=46, criterion=mae, total=   2.6s\n",
            "[CV] n_estimators=345, min_samples_split=3, min_samples_leaf=2, max_features=log2, max_depth=46, criterion=mae \n",
            "[CV]  n_estimators=345, min_samples_split=3, min_samples_leaf=2, max_features=log2, max_depth=46, criterion=mae, total=   2.6s\n",
            "[CV] n_estimators=345, min_samples_split=3, min_samples_leaf=2, max_features=log2, max_depth=46, criterion=mae \n",
            "[CV]  n_estimators=345, min_samples_split=3, min_samples_leaf=2, max_features=log2, max_depth=46, criterion=mae, total=   2.6s\n",
            "[CV] n_estimators=800, min_samples_split=5, min_samples_leaf=2, max_features=log2, max_depth=30, criterion=mae \n",
            "[CV]  n_estimators=800, min_samples_split=5, min_samples_leaf=2, max_features=log2, max_depth=30, criterion=mae, total=   5.9s\n",
            "[CV] n_estimators=800, min_samples_split=5, min_samples_leaf=2, max_features=log2, max_depth=30, criterion=mae \n",
            "[CV]  n_estimators=800, min_samples_split=5, min_samples_leaf=2, max_features=log2, max_depth=30, criterion=mae, total=   6.0s\n",
            "[CV] n_estimators=800, min_samples_split=5, min_samples_leaf=2, max_features=log2, max_depth=30, criterion=mae \n",
            "[CV]  n_estimators=800, min_samples_split=5, min_samples_leaf=2, max_features=log2, max_depth=30, criterion=mae, total=   6.0s\n",
            "[CV] n_estimators=800, min_samples_split=5, min_samples_leaf=2, max_features=log2, max_depth=30, criterion=mae \n",
            "[CV]  n_estimators=800, min_samples_split=5, min_samples_leaf=2, max_features=log2, max_depth=30, criterion=mae, total=   5.9s\n",
            "[CV] n_estimators=800, min_samples_split=5, min_samples_leaf=2, max_features=log2, max_depth=30, criterion=mae \n",
            "[CV]  n_estimators=800, min_samples_split=5, min_samples_leaf=2, max_features=log2, max_depth=30, criterion=mae, total=   5.9s\n",
            "[CV] n_estimators=436, min_samples_split=4, min_samples_leaf=2, max_features=log2, max_depth=43, criterion=mse \n",
            "[CV]  n_estimators=436, min_samples_split=4, min_samples_leaf=2, max_features=log2, max_depth=43, criterion=mse, total=   0.6s\n",
            "[CV] n_estimators=436, min_samples_split=4, min_samples_leaf=2, max_features=log2, max_depth=43, criterion=mse \n",
            "[CV]  n_estimators=436, min_samples_split=4, min_samples_leaf=2, max_features=log2, max_depth=43, criterion=mse, total=   0.6s\n",
            "[CV] n_estimators=436, min_samples_split=4, min_samples_leaf=2, max_features=log2, max_depth=43, criterion=mse \n",
            "[CV]  n_estimators=436, min_samples_split=4, min_samples_leaf=2, max_features=log2, max_depth=43, criterion=mse, total=   0.6s\n",
            "[CV] n_estimators=436, min_samples_split=4, min_samples_leaf=2, max_features=log2, max_depth=43, criterion=mse \n",
            "[CV]  n_estimators=436, min_samples_split=4, min_samples_leaf=2, max_features=log2, max_depth=43, criterion=mse, total=   0.6s\n",
            "[CV] n_estimators=436, min_samples_split=4, min_samples_leaf=2, max_features=log2, max_depth=43, criterion=mse \n",
            "[CV]  n_estimators=436, min_samples_split=4, min_samples_leaf=2, max_features=log2, max_depth=43, criterion=mse, total=   0.6s\n",
            "[CV] n_estimators=800, min_samples_split=5, min_samples_leaf=2, max_features=log2, max_depth=23, criterion=mae \n",
            "[CV]  n_estimators=800, min_samples_split=5, min_samples_leaf=2, max_features=log2, max_depth=23, criterion=mae, total=   6.0s\n",
            "[CV] n_estimators=800, min_samples_split=5, min_samples_leaf=2, max_features=log2, max_depth=23, criterion=mae \n",
            "[CV]  n_estimators=800, min_samples_split=5, min_samples_leaf=2, max_features=log2, max_depth=23, criterion=mae, total=   6.0s\n",
            "[CV] n_estimators=800, min_samples_split=5, min_samples_leaf=2, max_features=log2, max_depth=23, criterion=mae \n",
            "[CV]  n_estimators=800, min_samples_split=5, min_samples_leaf=2, max_features=log2, max_depth=23, criterion=mae, total=   6.0s\n",
            "[CV] n_estimators=800, min_samples_split=5, min_samples_leaf=2, max_features=log2, max_depth=23, criterion=mae \n",
            "[CV]  n_estimators=800, min_samples_split=5, min_samples_leaf=2, max_features=log2, max_depth=23, criterion=mae, total=   5.9s\n",
            "[CV] n_estimators=800, min_samples_split=5, min_samples_leaf=2, max_features=log2, max_depth=23, criterion=mae \n",
            "[CV]  n_estimators=800, min_samples_split=5, min_samples_leaf=2, max_features=log2, max_depth=23, criterion=mae, total=   6.0s\n",
            "[CV] n_estimators=754, min_samples_split=3, min_samples_leaf=2, max_features=log2, max_depth=26, criterion=mae \n",
            "[CV]  n_estimators=754, min_samples_split=3, min_samples_leaf=2, max_features=log2, max_depth=26, criterion=mae, total=   5.6s\n",
            "[CV] n_estimators=754, min_samples_split=3, min_samples_leaf=2, max_features=log2, max_depth=26, criterion=mae \n",
            "[CV]  n_estimators=754, min_samples_split=3, min_samples_leaf=2, max_features=log2, max_depth=26, criterion=mae, total=   5.7s\n",
            "[CV] n_estimators=754, min_samples_split=3, min_samples_leaf=2, max_features=log2, max_depth=26, criterion=mae \n",
            "[CV]  n_estimators=754, min_samples_split=3, min_samples_leaf=2, max_features=log2, max_depth=26, criterion=mae, total=   5.7s\n",
            "[CV] n_estimators=754, min_samples_split=3, min_samples_leaf=2, max_features=log2, max_depth=26, criterion=mae \n",
            "[CV]  n_estimators=754, min_samples_split=3, min_samples_leaf=2, max_features=log2, max_depth=26, criterion=mae, total=   5.6s\n",
            "[CV] n_estimators=754, min_samples_split=3, min_samples_leaf=2, max_features=log2, max_depth=26, criterion=mae \n",
            "[CV]  n_estimators=754, min_samples_split=3, min_samples_leaf=2, max_features=log2, max_depth=26, criterion=mae, total=   5.7s\n"
          ],
          "name": "stdout"
        },
        {
          "output_type": "stream",
          "text": [
            "[Parallel(n_jobs=1)]: Done 250 out of 250 | elapsed: 10.3min finished\n"
          ],
          "name": "stderr"
        },
        {
          "output_type": "execute_result",
          "data": {
            "text/plain": [
              "RandomizedSearchCV(cv=5, error_score=nan,\n",
              "                   estimator=ExtraTreesRegressor(bootstrap=False, ccp_alpha=0.0,\n",
              "                                                 criterion='mse',\n",
              "                                                 max_depth=None,\n",
              "                                                 max_features='auto',\n",
              "                                                 max_leaf_nodes=None,\n",
              "                                                 max_samples=None,\n",
              "                                                 min_impurity_decrease=0.0,\n",
              "                                                 min_impurity_split=None,\n",
              "                                                 min_samples_leaf=1,\n",
              "                                                 min_samples_split=2,\n",
              "                                                 min_weight_fraction_leaf=0.0,\n",
              "                                                 n_estimators=100, n_jobs=None,\n",
              "                                                 oob_score=False...\n",
              "                   param_distributions={'criterion': ['mse', 'mae'],\n",
              "                                        'max_depth': [20, 23, 26, 30, 33, 36,\n",
              "                                                      40, 43, 46, 50],\n",
              "                                        'max_features': ['log2'],\n",
              "                                        'min_samples_leaf': [1, 2],\n",
              "                                        'min_samples_split': [3, 4, 5],\n",
              "                                        'n_estimators': [300, 345, 390, 436,\n",
              "                                                         481, 527, 572, 618,\n",
              "                                                         663, 709, 754, 800]},\n",
              "                   pre_dispatch='2*n_jobs', random_state=100, refit=True,\n",
              "                   return_train_score=False, scoring='neg_mean_squared_error',\n",
              "                   verbose=2)"
            ]
          },
          "metadata": {
            "tags": []
          },
          "execution_count": 50
        }
      ]
    },
    {
      "cell_type": "code",
      "metadata": {
        "colab": {
          "base_uri": "https://localhost:8080/"
        },
        "id": "z6P7qU0WjsPc",
        "outputId": "ee0a71dc-5a45-4ea2-971f-8f4793e384ed"
      },
      "source": [
        "print(tree_random_cv2.best_params_)"
      ],
      "execution_count": 51,
      "outputs": [
        {
          "output_type": "stream",
          "text": [
            "{'n_estimators': 663, 'min_samples_split': 3, 'min_samples_leaf': 1, 'max_features': 'log2', 'max_depth': 46, 'criterion': 'mse'}\n"
          ],
          "name": "stdout"
        }
      ]
    },
    {
      "cell_type": "markdown",
      "metadata": {
        "id": "4xYYo7xgzPB9"
      },
      "source": [
        "### **Model Evaluation-2**"
      ]
    },
    {
      "cell_type": "code",
      "metadata": {
        "colab": {
          "base_uri": "https://localhost:8080/"
        },
        "id": "XJ3pVJnPbDHw",
        "outputId": "840ab42d-5269-4f6b-8d7e-e4e64ae19099"
      },
      "source": [
        "tree_rcv2_prediction=tree_random_cv2.predict(X_test)\n",
        "\n",
        "print('MAE:', metrics.mean_absolute_error(y_test, tree_rcv2_prediction))\n",
        "print('MSE:', metrics.mean_squared_error(y_test, tree_rcv2_prediction))\n",
        "print('RMSE:', np.sqrt(metrics.mean_squared_error(y_test, tree_rcv2_prediction)))"
      ],
      "execution_count": 39,
      "outputs": [
        {
          "output_type": "stream",
          "text": [
            "MAE: 18.172227571188355\n",
            "MSE: 1117.5093773040867\n",
            "RMSE: 33.42916955750003\n"
          ],
          "name": "stdout"
        }
      ]
    },
    {
      "cell_type": "markdown",
      "metadata": {
        "id": "rQiNwJYdhmzS"
      },
      "source": [
        "### **ExtraTreesRegressor Implementation with Hyper Tuning-GridSerchCV-1 Tuning**"
      ]
    },
    {
      "cell_type": "code",
      "metadata": {
        "id": "q8ZrHwnwk0l7"
      },
      "source": [
        "extra_tree_rcv_1=ensemble.ExtraTreesRegressor()"
      ],
      "execution_count": 53,
      "outputs": []
    },
    {
      "cell_type": "code",
      "metadata": {
        "id": "x-a8mGPfhZkr"
      },
      "source": [
        "## Hyperparameter optimization using GridSearchCV\n",
        "from sklearn.model_selection import GridSearchCV\n",
        "## Hyper Parameter Optimization\n",
        "\n",
        "params_gridcv1={\n",
        "  \"n_estimators\": [int(x) for x in np.linspace(start = 550, stop = 800, num = 6)],\n",
        "  \"criterion\":[\"mse\", \"mae\"],\n",
        "  \"max_depth\": [int(x) for x in np.linspace(36, 66, num = 5)],\n",
        "# Minimum samples weight parameters\n",
        "  \"min_samples_split\":[3,4,5],\n",
        "# Minimum samples leaf parameters\n",
        "  \"min_samples_leaf\":[1],\n",
        "# features type \n",
        "  \"max_features\":[\"log2\"]\n",
        "  \n",
        "}"
      ],
      "execution_count": 56,
      "outputs": []
    },
    {
      "cell_type": "code",
      "metadata": {
        "id": "h1IHBw7kkiZL"
      },
      "source": [
        "tree_gcv_1=GridSearchCV( extra_tree_rcv_1,param_grid=params_gridcv1,scoring='neg_mean_squared_error',n_jobs=-1,cv=10,verbose=10)\n"
      ],
      "execution_count": 57,
      "outputs": []
    },
    {
      "cell_type": "code",
      "metadata": {
        "colab": {
          "base_uri": "https://localhost:8080/"
        },
        "id": "UFfqF0IJkiba",
        "outputId": "8b9bedef-9676-43ae-cd0e-2d0dc03659e4"
      },
      "source": [
        "tree_gcv_1.fit(X_train,y_train)"
      ],
      "execution_count": 58,
      "outputs": [
        {
          "output_type": "stream",
          "text": [
            "Fitting 10 folds for each of 180 candidates, totalling 1800 fits\n"
          ],
          "name": "stdout"
        },
        {
          "output_type": "stream",
          "text": [
            "[Parallel(n_jobs=-1)]: Using backend LokyBackend with 2 concurrent workers.\n",
            "[Parallel(n_jobs=-1)]: Done   1 tasks      | elapsed:    2.9s\n",
            "[Parallel(n_jobs=-1)]: Done   4 tasks      | elapsed:    4.5s\n",
            "[Parallel(n_jobs=-1)]: Done   9 tasks      | elapsed:    9.0s\n",
            "[Parallel(n_jobs=-1)]: Done  14 tasks      | elapsed:   12.5s\n",
            "[Parallel(n_jobs=-1)]: Done  21 tasks      | elapsed:   19.1s\n",
            "[Parallel(n_jobs=-1)]: Done  28 tasks      | elapsed:   24.6s\n",
            "[Parallel(n_jobs=-1)]: Done  37 tasks      | elapsed:   34.1s\n",
            "[Parallel(n_jobs=-1)]: Done  46 tasks      | elapsed:   42.4s\n",
            "[Parallel(n_jobs=-1)]: Done  57 tasks      | elapsed:   55.2s\n",
            "[Parallel(n_jobs=-1)]: Done  68 tasks      | elapsed:  1.1min\n",
            "[Parallel(n_jobs=-1)]: Done  81 tasks      | elapsed:  1.2min\n",
            "[Parallel(n_jobs=-1)]: Done  94 tasks      | elapsed:  1.4min\n",
            "[Parallel(n_jobs=-1)]: Done 109 tasks      | elapsed:  1.7min\n",
            "[Parallel(n_jobs=-1)]: Done 124 tasks      | elapsed:  1.9min\n",
            "[Parallel(n_jobs=-1)]: Done 141 tasks      | elapsed:  2.1min\n",
            "[Parallel(n_jobs=-1)]: Done 158 tasks      | elapsed:  2.4min\n",
            "[Parallel(n_jobs=-1)]: Done 177 tasks      | elapsed:  2.7min\n",
            "[Parallel(n_jobs=-1)]: Done 196 tasks      | elapsed:  3.0min\n",
            "[Parallel(n_jobs=-1)]: Done 217 tasks      | elapsed:  3.3min\n",
            "[Parallel(n_jobs=-1)]: Done 238 tasks      | elapsed:  3.6min\n",
            "[Parallel(n_jobs=-1)]: Done 261 tasks      | elapsed:  4.0min\n",
            "[Parallel(n_jobs=-1)]: Done 284 tasks      | elapsed:  4.3min\n",
            "[Parallel(n_jobs=-1)]: Done 309 tasks      | elapsed:  4.7min\n",
            "[Parallel(n_jobs=-1)]: Done 334 tasks      | elapsed:  5.0min\n",
            "[Parallel(n_jobs=-1)]: Done 361 tasks      | elapsed:  5.5min\n",
            "[Parallel(n_jobs=-1)]: Done 388 tasks      | elapsed:  5.8min\n",
            "[Parallel(n_jobs=-1)]: Done 417 tasks      | elapsed:  6.3min\n",
            "[Parallel(n_jobs=-1)]: Done 446 tasks      | elapsed:  6.7min\n",
            "[Parallel(n_jobs=-1)]: Done 477 tasks      | elapsed:  7.3min\n",
            "[Parallel(n_jobs=-1)]: Done 508 tasks      | elapsed:  7.7min\n",
            "[Parallel(n_jobs=-1)]: Done 541 tasks      | elapsed:  8.2min\n",
            "[Parallel(n_jobs=-1)]: Done 574 tasks      | elapsed:  8.6min\n",
            "[Parallel(n_jobs=-1)]: Done 609 tasks      | elapsed:  9.2min\n",
            "[Parallel(n_jobs=-1)]: Done 644 tasks      | elapsed:  9.7min\n",
            "[Parallel(n_jobs=-1)]: Done 681 tasks      | elapsed: 10.3min\n",
            "[Parallel(n_jobs=-1)]: Done 718 tasks      | elapsed: 10.8min\n",
            "[Parallel(n_jobs=-1)]: Done 757 tasks      | elapsed: 11.4min\n",
            "[Parallel(n_jobs=-1)]: Done 796 tasks      | elapsed: 12.0min\n",
            "[Parallel(n_jobs=-1)]: Done 837 tasks      | elapsed: 12.7min\n",
            "[Parallel(n_jobs=-1)]: Done 878 tasks      | elapsed: 13.2min\n",
            "[Parallel(n_jobs=-1)]: Done 921 tasks      | elapsed: 15.2min\n",
            "[Parallel(n_jobs=-1)]: Done 964 tasks      | elapsed: 19.0min\n",
            "[Parallel(n_jobs=-1)]: Done 1009 tasks      | elapsed: 22.7min\n",
            "[Parallel(n_jobs=-1)]: Done 1054 tasks      | elapsed: 26.2min\n",
            "[Parallel(n_jobs=-1)]: Done 1101 tasks      | elapsed: 30.2min\n",
            "[Parallel(n_jobs=-1)]: Done 1148 tasks      | elapsed: 34.2min\n",
            "[Parallel(n_jobs=-1)]: Done 1197 tasks      | elapsed: 38.4min\n",
            "[Parallel(n_jobs=-1)]: Done 1246 tasks      | elapsed: 42.1min\n",
            "[Parallel(n_jobs=-1)]: Done 1297 tasks      | elapsed: 46.4min\n",
            "[Parallel(n_jobs=-1)]: Done 1348 tasks      | elapsed: 50.6min\n",
            "[Parallel(n_jobs=-1)]: Done 1401 tasks      | elapsed: 55.1min\n",
            "[Parallel(n_jobs=-1)]: Done 1454 tasks      | elapsed: 59.4min\n",
            "[Parallel(n_jobs=-1)]: Done 1509 tasks      | elapsed: 64.2min\n",
            "[Parallel(n_jobs=-1)]: Done 1564 tasks      | elapsed: 68.7min\n",
            "[Parallel(n_jobs=-1)]: Done 1621 tasks      | elapsed: 73.5min\n",
            "[Parallel(n_jobs=-1)]: Done 1678 tasks      | elapsed: 78.2min\n",
            "[Parallel(n_jobs=-1)]: Done 1737 tasks      | elapsed: 83.2min\n",
            "[Parallel(n_jobs=-1)]: Done 1796 tasks      | elapsed: 87.9min\n",
            "[Parallel(n_jobs=-1)]: Done 1800 out of 1800 | elapsed: 88.3min finished\n"
          ],
          "name": "stderr"
        },
        {
          "output_type": "execute_result",
          "data": {
            "text/plain": [
              "GridSearchCV(cv=10, error_score=nan,\n",
              "             estimator=ExtraTreesRegressor(bootstrap=False, ccp_alpha=0.0,\n",
              "                                           criterion='mse', max_depth=None,\n",
              "                                           max_features='auto',\n",
              "                                           max_leaf_nodes=None,\n",
              "                                           max_samples=None,\n",
              "                                           min_impurity_decrease=0.0,\n",
              "                                           min_impurity_split=None,\n",
              "                                           min_samples_leaf=1,\n",
              "                                           min_samples_split=2,\n",
              "                                           min_weight_fraction_leaf=0.0,\n",
              "                                           n_estimators=100, n_jobs=None,\n",
              "                                           oob_score=False, rand...e=None,\n",
              "                                           verbose=0, warm_start=False),\n",
              "             iid='deprecated', n_jobs=-1,\n",
              "             param_grid={'criterion': ['mse', 'mae'],\n",
              "                         'max_depth': [36, 43, 51, 58, 66],\n",
              "                         'max_features': ['log2'], 'min_samples_leaf': [1],\n",
              "                         'min_samples_split': [3, 4, 5],\n",
              "                         'n_estimators': [550, 600, 650, 700, 750, 800]},\n",
              "             pre_dispatch='2*n_jobs', refit=True, return_train_score=False,\n",
              "             scoring='neg_mean_squared_error', verbose=10)"
            ]
          },
          "metadata": {
            "tags": []
          },
          "execution_count": 58
        }
      ]
    },
    {
      "cell_type": "code",
      "metadata": {
        "colab": {
          "base_uri": "https://localhost:8080/"
        },
        "id": "HaTVxymPkidv",
        "outputId": "5b0ea1f4-daad-4ce0-fdf9-e32af767414a"
      },
      "source": [
        "from sklearn import metrics\n",
        "gcv1_prediction_1=tree_gcv_1.predict(X_test)\n",
        "print('MAE:', metrics.mean_absolute_error(y_test, gcv1_prediction_1))\n",
        "print('MSE:', metrics.mean_squared_error(y_test, gcv1_prediction_1))\n",
        "print('RMSE:', np.sqrt(metrics.mean_squared_error(y_test, gcv1_prediction_1)))"
      ],
      "execution_count": 59,
      "outputs": [
        {
          "output_type": "stream",
          "text": [
            "MAE: 19.168948833985706\n",
            "MSE: 1185.3475699794517\n",
            "RMSE: 34.4288769781916\n"
          ],
          "name": "stdout"
        }
      ]
    },
    {
      "cell_type": "code",
      "metadata": {
        "id": "EG4wd_aIkif7"
      },
      "source": [
        "import pickle\n",
        "# open a file, where you ant to store the data\n",
        "file = open('tree_gridcv.pkl', 'wb')\n",
        "\n",
        "# dump information to that file\n",
        "pickle.dump(tree_gcv_1, file)"
      ],
      "execution_count": 62,
      "outputs": []
    },
    {
      "cell_type": "code",
      "metadata": {
        "id": "DeVDRskQ6l0M"
      },
      "source": [
        "import pickle\n",
        "# open a file, where you ant to store the data\n",
        "file = open('tree_randomcv2.pkl', 'wb')\n",
        "\n",
        "# dump information to that file\n",
        "pickle.dump(tree_random_cv2, file)"
      ],
      "execution_count": 63,
      "outputs": []
    }
  ]
}